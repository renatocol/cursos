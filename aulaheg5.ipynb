{
 "cells": [
  {
   "cell_type": "markdown",
   "metadata": {
    "nbpresent": {
     "id": "452305db-662c-4b4e-aa92-79d92fa4544d"
    },
    "slideshow": {
     "slide_type": "slide"
    }
   },
   "source": [
    "# <center>História Econômica Geral I - FEA-USP</center>\n",
    "\n",
    "## <center>Aula 5 - A Revolução Econômica na China Imperial</center>\n",
    "\n",
    "### <center>Renato Perim Colistete</center>\n",
    "\n",
    "\n",
    "#### <center>2020</center>"
   ]
  },
  {
   "cell_type": "markdown",
   "metadata": {
    "nbpresent": {
     "id": "1fc7160f-beb4-4997-9c3f-0553e0592605"
    },
    "slideshow": {
     "slide_type": "slide"
    }
   },
   "source": [
    " ## Objetivos\n",
    "\n",
    "Hoje nosso tema é o desenvolvimento científico e\n",
    "tecnológico da China imperial.\n",
    "\n",
    "Vamos usar três casos como\n",
    "ilustração. Primeiro, as mudanças técnicas na agricultura.\n",
    "Segundo, a expansão do conhecimento científico e aplicado\n",
    "na China.\n",
    "\n",
    "Por fim, veremos um exemplo da mudança tecnológica na\n",
    "produção de manufaturas têxteis e como definir invenções e\n",
    "inovações."
   ]
  },
  {
   "cell_type": "markdown",
   "metadata": {
    "nbpresent": {
     "id": "1acbc207-c8bb-4376-a328-421bbf9520c4"
    },
    "slideshow": {
     "slide_type": "slide"
    }
   },
   "source": [
    "## Agricultura\n",
    "\n",
    "A revolução agrícola na China ocorreu de forma mais\n",
    "notável entre os séculos VIII e XII (DC) – nas dinastias\n",
    "[Tang](https://en.wikipedia.org/wiki/Tang_dynasty) (618-906) e [Song](https://en.wikipedia.org/wiki/Song_dynasty) (960-1279)."
   ]
  },
  {
   "cell_type": "markdown",
   "metadata": {
    "nbpresent": {
     "id": "f3dfbdf9-fe1d-4356-9ad0-df395911e6f3"
    },
    "slideshow": {
     "slide_type": "fragment"
    }
   },
   "source": [
    "As transformações abrangeram também a região norte,\n",
    "mas foram nas províncias do sul que se concentraram e\n",
    "dali se irradiaram as maiores inovações no campo."
   ]
  },
  {
   "cell_type": "markdown",
   "metadata": {
    "nbpresent": {
     "id": "bb419a40-14ab-48cd-8328-1c62b7f7bd0a"
    },
    "slideshow": {
     "slide_type": "fragment"
    }
   },
   "source": [
    "As principais mudanças se deram com a introdução de\n",
    "sistemas de irrigação sofisticados para o cultivo do arroz."
   ]
  },
  {
   "cell_type": "markdown",
   "metadata": {
    "slideshow": {
     "slide_type": "subslide"
    }
   },
   "source": [
    "Mapas e textos resumidos: dinastias [Tang](https://www.iro.umontreal.ca/~vaucher/History/Asia/ChinaOverview.html#tang) e [Song](https://www.iro.umontreal.ca/~vaucher/History/Asia/ChinaOverview.html#song)."
   ]
  },
  {
   "cell_type": "markdown",
   "metadata": {
    "nbpresent": {
     "id": "bb88ba62-49af-4a08-a1fb-e61b66f85d5a"
    },
    "slideshow": {
     "slide_type": "slide"
    }
   },
   "source": [
    "## Tecnologia agrícola\n",
    "\n",
    "O uso de diques e eclusas, além de moinhos e bombas\n",
    "movidos a água, expandiu a área cultivada e aumentou a\n",
    "produtividade da cultura do arroz."
   ]
  },
  {
   "cell_type": "markdown",
   "metadata": {
    "nbpresent": {
     "id": "c4116e36-3ce7-4491-96e4-03190f4a3b72"
    },
    "slideshow": {
     "slide_type": "fragment"
    }
   },
   "source": [
    "Da mesma forma, o arado passou a ser empregado com mais\n",
    "intensidade, assim como a adubação orgânica (animal, p.ex.) e\n",
    "a seleção de sementes."
   ]
  },
  {
   "cell_type": "markdown",
   "metadata": {
    "nbpresent": {
     "id": "ab6926e6-5a84-4224-ae15-863218da085c"
    },
    "slideshow": {
     "slide_type": "fragment"
    }
   },
   "source": [
    "Novos instrumentos e técnicas de tratamento do solo e de\n",
    "sementes foram promovidos e difundidos por agentes do\n",
    "governo e por meio de livros técnicos, após a invenção da\n",
    "imprensa no século IX."
   ]
  },
  {
   "cell_type": "markdown",
   "metadata": {
    "nbpresent": {
     "id": "13c81a42-221c-45fd-bde2-343bbcc74678"
    },
    "slideshow": {
     "slide_type": "slide"
    }
   },
   "source": [
    "## Especialização\n",
    "\n",
    "A produção agrícola também se diversificou com as melhores\n",
    "técnicas de cultivo de grãos como trigo (originário do Oriente\n",
    "Médio)."
   ]
  },
  {
   "cell_type": "markdown",
   "metadata": {
    "nbpresent": {
     "id": "69b2baa0-ed18-483e-8653-50f0e5c1d94f"
    },
    "slideshow": {
     "slide_type": "fragment"
    }
   },
   "source": [
    "O uso dessas técnicas esteve associada à especialização\n",
    "agrícola: a ampliação do consumo e dos mercados estimulou a\n",
    "especialização e os aperfeiçoamentos técnicos aumentaram a\n",
    "produtividade."
   ]
  },
  {
   "cell_type": "markdown",
   "metadata": {
    "nbpresent": {
     "id": "1674bcc2-8448-4b20-8203-e741d2f6048b"
    },
    "slideshow": {
     "slide_type": "fragment"
    }
   },
   "source": [
    "A expansão dos mercados deu impulso à consolidação de um\n",
    "sistema de propriedades mais extensas com terras arrendadas para\n",
    "agricultores – pagamentos fixos ou variáveis de acordo com a\n",
    "colheita, geralmente em espécie."
   ]
  },
  {
   "cell_type": "markdown",
   "metadata": {
    "nbpresent": {
     "id": "8b4f0472-cccb-4d13-abbd-187d93bc9309"
    },
    "slideshow": {
     "slide_type": "slide"
    }
   },
   "source": [
    "## Ciência \n",
    "\n",
    "Outro exemplo de avanço da sociedade chinesa foi o\n",
    "desenvolvimento de uma cultura científica, tanto teórica quanto\n",
    "aplicada, ao longo de vários séculos, atingindo o ápice nos anos\n",
    "900 e 1300 DC – dinastias Song (especialmente) e [Yuan](https://en.wikipedia.org/wiki/Yuan_dynasty) (Mongol) (1279-1368)."
   ]
  },
  {
   "cell_type": "markdown",
   "metadata": {
    "nbpresent": {
     "id": "794d2206-833d-419a-b3b9-b12875162c7e"
    },
    "slideshow": {
     "slide_type": "fragment"
    }
   },
   "source": [
    "No plano teórico: conhecimentos matemáticos, pesquisa sobre\n",
    "doenças, astronomia."
   ]
  },
  {
   "cell_type": "markdown",
   "metadata": {
    "nbpresent": {
     "id": "c5cb9041-13bb-4f74-a70c-dbb306763b20"
    },
    "slideshow": {
     "slide_type": "fragment"
    }
   },
   "source": [
    "No plano aplicado: testes de medicamentos, técnicas mecânicas\n",
    "para construção de equipamentos astronômicos, metalúrgicos e\n",
    "têxteis (p.ex.). Uso da imprensa para difusão de conhecimento\n",
    "científico e técnico."
   ]
  },
  {
   "cell_type": "markdown",
   "metadata": {
    "nbpresent": {
     "id": "cb99a5b9-10b5-4d5c-bb6c-23699c0c5b07"
    },
    "slideshow": {
     "slide_type": "slide"
    }
   },
   "source": [
    "## Tecnologia\n",
    "\n",
    "Portanto, a busca de novos conhecimentos\n",
    "científicos foi estimulada pela observação empírica e tentativas de\n",
    "resolver problemas práticos, das áreas médicas até a aplicação\n",
    "industrial."
   ]
  },
  {
   "cell_type": "markdown",
   "metadata": {
    "nbpresent": {
     "id": "43701764-6778-49fa-883b-9c1b678f6d67"
    },
    "slideshow": {
     "slide_type": "fragment"
    }
   },
   "source": [
    "Possivelmente, a escassez de fatores teve algum papel no emprego de\n",
    "novas tecnologias, como p.ex. nos equipamentos da indústria têxtil\n",
    "(trabalho) e metalurgia (uso de carvão mineral na produção de ferro em\n",
    "vez de carvão vegetal). (como?)"
   ]
  },
  {
   "cell_type": "markdown",
   "metadata": {
    "nbpresent": {
     "id": "1f3a2dee-722b-4a1b-a236-69b92463b751"
    },
    "slideshow": {
     "slide_type": "fragment"
    }
   },
   "source": [
    "Também importante foi a criação de escolas nas capitais pelos\n",
    "governos central e local, assim como a difusão de conhecimento\n",
    "literário, científico e tecnológico pelo governo (funcionários, imprensa)."
   ]
  },
  {
   "cell_type": "markdown",
   "metadata": {
    "nbpresent": {
     "id": "1a43feb9-1cad-4162-a6ad-b16662fbb6a4"
    },
    "slideshow": {
     "slide_type": "slide"
    }
   },
   "source": [
    "## Mecânica\n",
    "\n",
    "Uma ilustração das tecnologias diretamente aplicadas à\n",
    "produção de manufaturas é o que ocorreu na têxtil."
   ]
  },
  {
   "cell_type": "markdown",
   "metadata": {
    "nbpresent": {
     "id": "b7fa99c1-6023-4201-855d-d27ade6b5d84"
    },
    "slideshow": {
     "slide_type": "fragment"
    }
   },
   "source": [
    "No império Song ([Norte, 960-1127](https://en.wikipedia.org/wiki/Song_dynasty#Northern_Song,_960%E2%80%931126)), o surgimento da\n",
    "máquina de fiar seda foi um marco tecnológico, tendo sido\n",
    "amplamente utilizada nos séculos seguintes."
   ]
  },
  {
   "cell_type": "markdown",
   "metadata": {
    "nbpresent": {
     "id": "854f9e46-f876-4c95-b11f-ee637364d8cf"
    },
    "slideshow": {
     "slide_type": "fragment"
    }
   },
   "source": [
    "A produção de seda com essa máquina era muito maior do que a obtida pelo trabalho de mulheres que antes fiavam a\n",
    "seda dos casulos."
   ]
  },
  {
   "cell_type": "markdown",
   "metadata": {
    "slideshow": {
     "slide_type": "subslide"
    }
   },
   "source": [
    "Ver mais [detalhes e exemplos](http://afe.easia.columbia.edu/songdynasty-module/index.html) dos avanços e inovações durante a dinastia Song."
   ]
  },
  {
   "cell_type": "markdown",
   "metadata": {
    "nbpresent": {
     "id": "8dde182b-545e-464d-86aa-93633eb83d31"
    },
    "slideshow": {
     "slide_type": "slide"
    }
   },
   "source": [
    "## Definindo conceitos\n",
    "\n",
    "Diferenças entre *invenções* e *inovações*."
   ]
  },
  {
   "cell_type": "markdown",
   "metadata": {
    "nbpresent": {
     "id": "383dda45-dccb-4fde-a663-f4b4f94a501e"
    },
    "slideshow": {
     "slide_type": "fragment"
    }
   },
   "source": [
    "Inovações: *incrementais* e *radicais*."
   ]
  },
  {
   "cell_type": "markdown",
   "metadata": {
    "slideshow": {
     "slide_type": "fragment"
    }
   },
   "source": [
    "Exemplos de inventos e inovações na China colhidos pela\n",
    "turma?"
   ]
  },
  {
   "cell_type": "markdown",
   "metadata": {
    "nbpresent": {
     "id": "0c6ab1b8-69a6-4627-8abe-8a7936ec2cae"
    },
    "slideshow": {
     "slide_type": "slide"
    }
   },
   "source": [
    "## Questões\n",
    "\n",
    "Analise de que forma a centralização política e a\n",
    "organização burocrática do Império Chinês durante as\n",
    "dinastias Qin e Han podem ter afetado o desenvolvimento\n",
    "econômico no período imperial?\n",
    "\n",
    "Discuta as possíveis relações entre expansão dos mercados e\n",
    "mudanças técnicas na agricultura chinesa.\n",
    "\n",
    "Liste casos de inovações incrementais e radicais na\n",
    "China imperial. Qual a diferença entre elas?"
   ]
  }
 ],
 "metadata": {
  "celltoolbar": "Slideshow",
  "kernelspec": {
   "display_name": "Python 3",
   "language": "python",
   "name": "python3"
  },
  "language_info": {
   "codemirror_mode": {
    "name": "ipython",
    "version": 3
   },
   "file_extension": ".py",
   "mimetype": "text/x-python",
   "name": "python",
   "nbconvert_exporter": "python",
   "pygments_lexer": "ipython3",
   "version": "3.6.10"
  },
  "toc": {
   "base_numbering": 1,
   "nav_menu": {},
   "number_sections": false,
   "sideBar": true,
   "skip_h1_title": false,
   "title_cell": "Table of Contents",
   "title_sidebar": "Contents",
   "toc_cell": false,
   "toc_position": {},
   "toc_section_display": true,
   "toc_window_display": false
  }
 },
 "nbformat": 4,
 "nbformat_minor": 2
}
