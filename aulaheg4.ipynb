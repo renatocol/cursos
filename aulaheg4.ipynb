{
 "cells": [
  {
   "cell_type": "markdown",
   "metadata": {
    "nbpresent": {
     "id": "452305db-662c-4b4e-aa92-79d92fa4544d"
    },
    "slideshow": {
     "slide_type": "slide"
    }
   },
   "source": [
    "# <center>História Econômica Geral I - FEA-USP</center>\n",
    "\n",
    "## <center>Aula 4 - Emergência e Expansão do Império Chinês</center>\n",
    "\n",
    "### <center>Renato Perim Colistete</center>\n",
    "\n",
    "\n",
    "#### <center>2020</center>"
   ]
  },
  {
   "cell_type": "markdown",
   "metadata": {
    "nbpresent": {
     "id": "1fc7160f-beb4-4997-9c3f-0553e0592605"
    },
    "slideshow": {
     "slide_type": "slide"
    }
   },
   "source": [
    " ## Objetivos\n",
    "\n",
    "Trataremos nesta aula da emergência da China como a maior potência mundial no período pré-1800.\n",
    "\n",
    "Começamos apresentando algumas características do período inicial da civilização chinesa, até os anos 200 AC.\n",
    "Tratamos depois do período imperial, inaugurado com a dinastia Qin (c. 221-206 AC).\n",
    "\n",
    "Posteriormente, descrevemos a estrutura social e política criada pelos primeiros impérios e algumas evidências do\n",
    "desenvolvimento econômico alcançado pela China até 1800."
   ]
  },
  {
   "cell_type": "markdown",
   "metadata": {
    "nbpresent": {
     "id": "1acbc207-c8bb-4376-a328-421bbf9520c4"
    },
    "slideshow": {
     "slide_type": "slide"
    }
   },
   "source": [
    "## Período pré-imperial\n",
    "\n",
    "O período pré-imperial na China (antes de 221 AC) foi caracterizado por uma estrutura feudal similar à da Europa séculos depois, com multiplicidade de clãs e senhores feudais, em um sistema altamente descentralizado."
   ]
  },
  {
   "cell_type": "markdown",
   "metadata": {
    "nbpresent": {
     "id": "f3dfbdf9-fe1d-4356-9ad0-df395911e6f3"
    },
    "slideshow": {
     "slide_type": "fragment"
    }
   },
   "source": [
    "O período compreende as três primeiras dinastias da civilização\n",
    "chinesa: [Xia](https://en.wikipedia.org/wiki/Xia_dynasty) (*c*. 2100-1600 AC), [Shang](https://en.wikipedia.org/wiki/Shang_dynasty) (*c*. 1600-1050 AC) e [Zhou](https://en.wikipedia.org/wiki/Zhou_dynasty) (*c*. 1046-256 AC)."
   ]
  },
  {
   "cell_type": "markdown",
   "metadata": {
    "nbpresent": {
     "id": "bb419a40-14ab-48cd-8328-1c62b7f7bd0a"
    },
    "slideshow": {
     "slide_type": "subslide"
    }
   },
   "source": [
    "A estrutura desses reinados baseava-se nas famílias aristocráticas, grandes proprietárias de terras cultivadas em um sistema similar ao de vassalagem difundido na Europa após a desagregação do Império Romano."
   ]
  },
  {
   "cell_type": "markdown",
   "metadata": {
    "slideshow": {
     "slide_type": "fragment"
    }
   },
   "source": [
    "\n",
    "Veja o mapa com a extensão das primeiras dinastias na [China](http://worldmap.harvard.edu/maps/7063/aqn).\n"
   ]
  },
  {
   "cell_type": "markdown",
   "metadata": {
    "nbpresent": {
     "id": "bb88ba62-49af-4a08-a1fb-e61b66f85d5a"
    },
    "slideshow": {
     "slide_type": "slide"
    }
   },
   "source": [
    "## A sociedade pré-imperial\n",
    "\n",
    "Já nesse período remoto, a sociedade chinesa introduziu inovações sofisticadas para a época. Um dos pilares da economia foi a difusão do uso do bronze (a partir de minério de cobre e estanho) já na dinastia Shang\n",
    "(emprego em armas, artefatos domésticos e pessoais)."
   ]
  },
  {
   "cell_type": "markdown",
   "metadata": {
    "nbpresent": {
     "id": "c4116e36-3ce7-4491-96e4-03190f4a3b72"
    },
    "slideshow": {
     "slide_type": "fragment"
    }
   },
   "source": [
    "Outro exemplo do desenvolvimento dessa sociedade foi o uso crescente da escrita simbólica, para registro de ensinamentos, ritos e histórias – inicialmente usando pedras, casco de tartaruga e madeira (mais adiante, *c*.\n",
    "100 AC, inventam o papel)."
   ]
  },
  {
   "cell_type": "markdown",
   "metadata": {
    "nbpresent": {
     "id": "ab6926e6-5a84-4224-ae15-863218da085c"
    },
    "slideshow": {
     "slide_type": "fragment"
    }
   },
   "source": [
    "Nos séculos finais (*c*. 770 em diante) da dinastia Zhou, a revolta de lordes aliados com tribos locais desencadeou um longo período de instabilidade e guerras entre as famílias aristocráticas. "
   ]
  },
  {
   "cell_type": "markdown",
   "metadata": {
    "slideshow": {
     "slide_type": "subslide"
    }
   },
   "source": [
    "Apenas em *c*. 256 BC uma nova época foi inaugurada com a vitória de um dos estados locais mais poderosos, mas de curtíssima duração – a dinastia Qin (221-206 AC)."
   ]
  },
  {
   "cell_type": "markdown",
   "metadata": {
    "nbpresent": {
     "id": "13c81a42-221c-45fd-bde2-343bbcc74678"
    },
    "slideshow": {
     "slide_type": "slide"
    }
   },
   "source": [
    "## Impérios\n",
    "\n",
    "Apesar de seu curto domínio, a dinastia [Qin](https://en.wikipedia.org/wiki/Qin_dynasty) é considerada o\n",
    "início da era dos Impérios da China. Ela foi logo sucedida pela\n",
    "dinastia [Han](https://en.wikipedia.org/wiki/Han_dynasty) que teve maior duração (206 AC-220 DC)."
   ]
  },
  {
   "cell_type": "markdown",
   "metadata": {
    "nbpresent": {
     "id": "69b2baa0-ed18-483e-8653-50f0e5c1d94f"
    },
    "slideshow": {
     "slide_type": "fragment"
    }
   },
   "source": [
    "A característica básica dessas e demais dinastias imperiais\n",
    "foi a adoção de um regime político unitário e centralizado\n",
    "reunindo os estados locais."
   ]
  },
  {
   "cell_type": "markdown",
   "metadata": {
    "nbpresent": {
     "id": "1674bcc2-8448-4b20-8203-e741d2f6048b"
    },
    "slideshow": {
     "slide_type": "subslide"
    }
   },
   "source": [
    "A base desse regime centralizado foi a organização de uma\n",
    "burocracia imperial que, em aliança com as nobrezas locais,\n",
    "assegurou não só unidade, mas a expansão sucessiva do\n",
    "território chinês."
   ]
  },
  {
   "cell_type": "markdown",
   "metadata": {
    "slideshow": {
     "slide_type": "subslide"
    }
   },
   "source": [
    "## Mapas\n",
    "\n",
    "Veja a [extensão](http://worldmap.harvard.edu/maps/7069/aqp) das dinastias Quin (221-206 AC) e Han (206 AC-220 DC).\n"
   ]
  },
  {
   "cell_type": "markdown",
   "metadata": {
    "nbpresent": {
     "id": "8b4f0472-cccb-4d13-abbd-187d93bc9309"
    },
    "slideshow": {
     "slide_type": "slide"
    }
   },
   "source": [
    "## Burocracia imperial\n",
    "\n",
    "Um fato importante é que o regime centralizado\n",
    "deu lugar, já na dinastia Han, à criação de uma burocracia imperial\n",
    "organizada por critérios meritocráticos (ver a seguir)."
   ]
  },
  {
   "cell_type": "markdown",
   "metadata": {
    "nbpresent": {
     "id": "794d2206-833d-419a-b3b9-b12875162c7e"
    },
    "slideshow": {
     "slide_type": "fragment"
    }
   },
   "source": [
    "Em grande medida, essa estrutura burocrática foi moldada a partir dos\n",
    "princípios dos pensadores e teóricos da escola [Legalista](https://en.wikipedia.org/wiki/Legalism_(Chinese_philosophy)) da dinastia Qin, que pregavam ordem e disciplina na organização estatal e\n",
    "social."
   ]
  },
  {
   "cell_type": "markdown",
   "metadata": {
    "nbpresent": {
     "id": "c5cb9041-13bb-4f74-a70c-dbb306763b20"
    },
    "slideshow": {
     "slide_type": "subslide"
    }
   },
   "source": [
    "Além de organizarem a burocracia imperial, os Legalistas promoveram\n",
    "a supressão da vassalagem (isto é, o fim das obrigações e serviços de\n",
    "tipo feudal) e organizaram a distribuição da terra diretamente aos\n",
    "camponeses em troca de impostos (% sobre colheita)."
   ]
  },
  {
   "cell_type": "markdown",
   "metadata": {
    "nbpresent": {
     "id": "cb99a5b9-10b5-4d5c-bb6c-23699c0c5b07"
    },
    "slideshow": {
     "slide_type": "slide"
    }
   },
   "source": [
    "## Burocracia e camponeses\n",
    "\n",
    "Outra medida do novo governo imperial foi a criação de um\n",
    "corpo profissional de soldados, recrutados entre\n",
    "camponeses. Soldados e funcionários civis passaram a ser\n",
    "promovidos por mérito, não por nascimento."
   ]
  },
  {
   "cell_type": "markdown",
   "metadata": {
    "nbpresent": {
     "id": "43701764-6778-49fa-883b-9c1b678f6d67"
    },
    "slideshow": {
     "slide_type": "fragment"
    }
   },
   "source": [
    "Assim, já nas duas primeiras dinastias imperiais (Qin e Han),\n",
    "delineiam-se dois pilares do novo período:"
   ]
  },
  {
   "cell_type": "markdown",
   "metadata": {
    "nbpresent": {
     "id": "1f3a2dee-722b-4a1b-a236-69b92463b751"
    },
    "slideshow": {
     "slide_type": "subslide"
    }
   },
   "source": [
    "- uma economia rural baseada na (pequena/média)\n",
    "propriedade privada da terra"
   ]
  },
  {
   "cell_type": "markdown",
   "metadata": {
    "slideshow": {
     "slide_type": "fragment"
    }
   },
   "source": [
    "- e uma burocracia profissional\n",
    "centralizada, apoiada na cobrança de impostos rurais."
   ]
  },
  {
   "cell_type": "markdown",
   "metadata": {
    "nbpresent": {
     "id": "1a43feb9-1cad-4162-a6ad-b16662fbb6a4"
    },
    "slideshow": {
     "slide_type": "slide"
    }
   },
   "source": [
    "## Direitos e expansão\n",
    "\n",
    "Uma das principais inovações do período imperial foi a\n",
    "definição clara dos direitos dos proprietários de terra, garantidos\n",
    "pela lei e pelo aparato burocrático."
   ]
  },
  {
   "cell_type": "markdown",
   "metadata": {
    "nbpresent": {
     "id": "b7fa99c1-6023-4201-855d-d27ade6b5d84"
    },
    "slideshow": {
     "slide_type": "fragment"
    }
   },
   "source": [
    "A aliança do Estado burocrático com os camponeses, por sua\n",
    "vez, deu base para a expansão do território chinês, que\n",
    "incorporou vastas áreas cultiváveis, p.ex., ao norte e ao sul (ver mapas)."
   ]
  },
  {
   "cell_type": "markdown",
   "metadata": {
    "nbpresent": {
     "id": "854f9e46-f876-4c95-b11f-ee637364d8cf"
    },
    "slideshow": {
     "slide_type": "subslide"
    }
   },
   "source": [
    "A expansão desse sistema apoiou-se não apenas na\n",
    "incorporação extensiva de novas terras, como também na\n",
    "exploração mais intensiva de uma agricultura comercial pelos\n",
    "camponeses."
   ]
  },
  {
   "cell_type": "markdown",
   "metadata": {
    "nbpresent": {
     "id": "8dde182b-545e-464d-86aa-93633eb83d31"
    },
    "slideshow": {
     "slide_type": "slide"
    }
   },
   "source": [
    "## Mercados e inovações\n",
    "\n",
    "Já nos primeiros governos imperiais, os resultados desse novo\n",
    "sistema se fizeram sentir por meio de:"
   ]
  },
  {
   "cell_type": "markdown",
   "metadata": {
    "nbpresent": {
     "id": "383dda45-dccb-4fde-a663-f4b4f94a501e"
    },
    "slideshow": {
     "slide_type": "fragment"
    }
   },
   "source": [
    "a) expansão dos mercados;"
   ]
  },
  {
   "cell_type": "markdown",
   "metadata": {
    "nbpresent": {
     "id": "5318412e-57bb-45fa-8b89-662b2f0a33ab"
    },
    "slideshow": {
     "slide_type": "fragment"
    }
   },
   "source": [
    "b) aperfeiçoamento e diversificação da agricultura;"
   ]
  },
  {
   "cell_type": "markdown",
   "metadata": {
    "slideshow": {
     "slide_type": "subslide"
    }
   },
   "source": [
    "c) urbanização e atividades artesanais;"
   ]
  },
  {
   "cell_type": "markdown",
   "metadata": {
    "slideshow": {
     "slide_type": "fragment"
    }
   },
   "source": [
    "d) desenvolvimento das ciências e inovações tecnológicas;"
   ]
  },
  {
   "cell_type": "markdown",
   "metadata": {
    "slideshow": {
     "slide_type": "fragment"
    }
   },
   "source": [
    "e) elevação do padrão de vida material da população."
   ]
  },
  {
   "cell_type": "markdown",
   "metadata": {
    "nbpresent": {
     "id": "1418d2ed-9be3-4415-b01b-b8f72fe19696"
    },
    "slideshow": {
     "slide_type": "slide"
    }
   },
   "source": [
    "## Comércio\n",
    "\n",
    "Vejamos alguns exemplos para ilustrar. Posteriormente apresentaremos mais detalhes."
   ]
  },
  {
   "cell_type": "markdown",
   "metadata": {
    "slideshow": {
     "slide_type": "fragment"
    }
   },
   "source": [
    "Mercados e comércio internacional: estima-se que cerca\n",
    "de 1/3 da prata comercializada no mundo foi importada pela\n",
    "China (a partir do final do século XV)."
   ]
  },
  {
   "cell_type": "markdown",
   "metadata": {
    "nbpresent": {
     "id": "45c198ca-6d9a-44e0-8575-f1afc643e980"
    },
    "slideshow": {
     "slide_type": "fragment"
    }
   },
   "source": [
    "Na agricultura, as exportações de chá ocuparam o\n",
    "mercado europeu."
   ]
  },
  {
   "cell_type": "markdown",
   "metadata": {
    "nbpresent": {
     "id": "68f6860d-634a-4bda-97e4-4e6930ceb7b5"
    },
    "slideshow": {
     "slide_type": "slide"
    }
   },
   "source": [
    "## Manufaturas e nível de vida\n",
    "\n",
    "Manufaturas: cerca de 1/3 da produção mundial no início do\n",
    "século XIX. Principais produtos: porcelana, seda, papel e seus\n",
    "produtos, utensílios."
   ]
  },
  {
   "cell_type": "markdown",
   "metadata": {
    "nbpresent": {
     "id": "cc83d49d-1337-48f7-a9d8-772260a8f5ee"
    },
    "slideshow": {
     "slide_type": "fragment"
    }
   },
   "source": [
    "Ciência e tecnologia: amplo desenvolvimento do conhecimento\n",
    "científico aplicado, em armamentos (p.ex., pólvora), papel e\n",
    "imprensa, indústria naval (p.ex., bússola), metalurgia, mecânica,\n",
    "entre outros (ver uma lista [aqui](https://en.wikipedia.org/wiki/List_of_Chinese_inventions))."
   ]
  },
  {
   "cell_type": "markdown",
   "metadata": {
    "nbpresent": {
     "id": "83f6464a-0444-4c80-8e47-c5513282ff49"
    },
    "slideshow": {
     "slide_type": "subslide"
    }
   },
   "source": [
    "Padrão de vida: aparentemente, os níveis de vida na China\n",
    "equiparavam-se aos das regiões mais ricas da Europa em 1800."
   ]
  },
  {
   "cell_type": "markdown",
   "metadata": {
    "nbpresent": {
     "id": "ab2df823-deba-4f5d-9781-181bc6255bd8"
    },
    "slideshow": {
     "slide_type": "slide"
    }
   },
   "source": [
    "## Por que estagnação?\n",
    "\n",
    "Mas se o desenvolvimento material e intelectual da China\n",
    "até 1880 alcançou tais níveis, o que aconteceu depois?"
   ]
  },
  {
   "cell_type": "markdown",
   "metadata": {
    "nbpresent": {
     "id": "63e3d11e-f051-47af-a20d-c5681425064d"
    },
    "slideshow": {
     "slide_type": "fragment"
    }
   },
   "source": [
    "Por que o crescimento da China perdeu fôlego durante o\n",
    "século XIX e foi amplamente ultrapassado pelo\n",
    "desenvolvimento da Europa ocidental?"
   ]
  },
  {
   "cell_type": "markdown",
   "metadata": {
    "slideshow": {
     "slide_type": "fragment"
    }
   },
   "source": [
    "Voltaremos a essas questões nas próximas aulas."
   ]
  },
  {
   "cell_type": "markdown",
   "metadata": {
    "nbpresent": {
     "id": "0c6ab1b8-69a6-4627-8abe-8a7936ec2cae"
    },
    "slideshow": {
     "slide_type": "slide"
    }
   },
   "source": [
    "## Questões\n",
    "\n",
    "Analise o papel da centralização política e da burocracia na\n",
    "organização do Império Chinês com as dinastias Qin e Han. Como\n",
    "esses elementos podem ter afetado o desenvolvimento econômico no\n",
    "período imperial?\n",
    "\n",
    "As concessões de terras e a garantia de direitos dos proprietários rurais\n",
    "parecem ter contribuído para a expansão do comércio e inovações\n",
    "agrícolas. Como?\n",
    "\n",
    "Para vários autores, a formação de uma burocracia meritocrática na\n",
    "dinastia Han contribuiu para a expansão dos mercados e da economia\n",
    "imperial. Descreva os possíveis mecanismos que podem ter levado a\n",
    "esse resultado."
   ]
  }
 ],
 "metadata": {
  "celltoolbar": "Slideshow",
  "kernelspec": {
   "display_name": "Python 3",
   "language": "python",
   "name": "python3"
  },
  "language_info": {
   "codemirror_mode": {
    "name": "ipython",
    "version": 3
   },
   "file_extension": ".py",
   "mimetype": "text/x-python",
   "name": "python",
   "nbconvert_exporter": "python",
   "pygments_lexer": "ipython3",
   "version": "3.6.10"
  },
  "toc": {
   "base_numbering": 1,
   "nav_menu": {},
   "number_sections": false,
   "sideBar": false,
   "skip_h1_title": false,
   "title_cell": "Table of Contents",
   "title_sidebar": "Contents",
   "toc_cell": false,
   "toc_position": {},
   "toc_section_display": false,
   "toc_window_display": false
  }
 },
 "nbformat": 4,
 "nbformat_minor": 2
}
