{
 "cells": [
  {
   "cell_type": "markdown",
   "metadata": {
    "nbpresent": {
     "id": "452305db-662c-4b4e-aa92-79d92fa4544d"
    },
    "slideshow": {
     "slide_type": "slide"
    }
   },
   "source": [
    "# <center>História Econômica Geral I - FEA-USP</center>\n",
    "\n",
    "## <center>Aula 20 - A Revolução Russa e a Economia Soviética</center>\n",
    "\n",
    "### <center>Renato Perim Colistete</center>\n",
    "\n",
    "\n",
    "#### <center>2020</center>"
   ]
  },
  {
   "cell_type": "markdown",
   "metadata": {
    "nbpresent": {
     "id": "1fc7160f-beb4-4997-9c3f-0553e0592605"
    },
    "slideshow": {
     "slide_type": "slide"
    }
   },
   "source": [
    "## Objetivos\n",
    "\n",
    "Hoje veremos um dos desdobramentos mais importantes da I Guerra Mundial, a queda da Rússia Czarista e a Revolução de Outubro de 1917. Depois trataremos das condições econômicas nos primeiros anos da Revolução, durante o chamado \"comunismo de guerra\".\n",
    "\n",
    "Em seguida, analisaremos a implementação e os efeitos da NEP.\n",
    "\n",
    "Por fim, discutiremos as interpretações existentes na década de 1920 sobre a industrialização soviética como um tipo de industrialização tardia."
   ]
  },
  {
   "cell_type": "markdown",
   "metadata": {
    "nbpresent": {
     "id": "1acbc207-c8bb-4376-a328-421bbf9520c4"
    },
    "slideshow": {
     "slide_type": "slide"
    }
   },
   "source": [
    "## A Revolução de Fevereiro\n",
    "\n",
    "Desgaste da guerra, crise de abastecimento, revoltas, greves e motins em divisões militares levaram à renúncia do Czar Nicolau II em fevereiro de 1917."
   ]
  },
  {
   "cell_type": "markdown",
   "metadata": {
    "slideshow": {
     "slide_type": "fragment"
    }
   },
   "source": [
    "Um governo provisório foi estabelecido, liderado por Giorgy Lvov e, depois, por Aleksandr Kerensky (julho)."
   ]
  },
  {
   "cell_type": "markdown",
   "metadata": {
    "nbpresent": {
     "id": "f3dfbdf9-fe1d-4356-9ad0-df395911e6f3"
    },
    "slideshow": {
     "slide_type": "fragment"
    }
   },
   "source": [
    "Paralelamente, o Soviet dos trabalhadores e soldados de Petrogrado emergiu com a mais poderosa organização na Rússia pós-czarista - \"Poder dual\"."
   ]
  },
  {
   "cell_type": "markdown",
   "metadata": {
    "slideshow": {
     "slide_type": "slide"
    }
   },
   "source": [
    "## Revolução de Outubro\n",
    "\n",
    "O governo de Kerensky tentou retomar a iniciativa na guerra, mas as seguidas derrotas resultaram em deserção em massa dos soldados."
   ]
  },
  {
   "cell_type": "markdown",
   "metadata": {
    "slideshow": {
     "slide_type": "fragment"
    }
   },
   "source": [
    "A crise econômica e o fracasso no front culminaram com novas paralisações, protestos e desorganização econômica e institucional."
   ]
  },
  {
   "cell_type": "markdown",
   "metadata": {
    "slideshow": {
     "slide_type": "fragment"
    }
   },
   "source": [
    "Chegada dos bolsheviques/soviets ao poder em outubro de 1917. Palavra de ordem: \"Paz, pão e terra\"."
   ]
  },
  {
   "cell_type": "markdown",
   "metadata": {
    "slideshow": {
     "slide_type": "slide"
    }
   },
   "source": [
    "## Tratado de Paz\n",
    "\n",
    "Já em dez/1917 o novo governo soviético iniciou negociações em Brest-Litovsk para sua retirada da guerra (tratado assinado em mar/1918)."
   ]
  },
  {
   "cell_type": "markdown",
   "metadata": {
    "slideshow": {
     "slide_type": "fragment"
    }
   },
   "source": [
    "Trotsky rejeitou os termos das Potências Centrais e abandonou as negociações. As Potências Centrais (Alemanha, Áustria-Hungria, Imp. Otomano, Bulgária) invadiram várias regiões em fev. 1918 (países bálticos, Ucrânia, Bielorússia)."
   ]
  },
  {
   "cell_type": "markdown",
   "metadata": {
    "slideshow": {
     "slide_type": "fragment"
    }
   },
   "source": [
    "O Acordo de Paz imposto à URSS implicou a perda de 1/3 da população, metade da indústria e a grande maioria das minas de carvão."
   ]
  },
  {
   "cell_type": "markdown",
   "metadata": {
    "slideshow": {
     "slide_type": "slide"
    }
   },
   "source": [
    "#### <center>Divisão Territorial da Rússia em 1918</center>\n",
    "\n",
    "<center><img src=\"rev_russa1.png\" width=850></center>"
   ]
  },
  {
   "cell_type": "markdown",
   "metadata": {
    "slideshow": {
     "slide_type": "slide"
    }
   },
   "source": [
    "## Objetivos econômicos\n",
    "\n",
    "Quais foram os objetivos básicos da Revolução Russa? Em teoria:"
   ]
  },
  {
   "cell_type": "markdown",
   "metadata": {
    "slideshow": {
     "slide_type": "fragment"
    }
   },
   "source": [
    "- criar economia planejada e substituir o mercado enquanto mecanismo de alocação de recursos;"
   ]
  },
  {
   "cell_type": "markdown",
   "metadata": {
    "slideshow": {
     "slide_type": "fragment"
    }
   },
   "source": [
    "- economia seria controlada diretamente pelos produtores (trabalhadores) e seus representantes."
   ]
  },
  {
   "cell_type": "markdown",
   "metadata": {
    "slideshow": {
     "slide_type": "slide"
    }
   },
   "source": [
    "## Fases\n",
    "\n",
    "O sistema seria implantado, também teoricamente, em duas fases: "
   ]
  },
  {
   "cell_type": "markdown",
   "metadata": {
    "slideshow": {
     "slide_type": "fragment"
    }
   },
   "source": [
    "- socialista: produto social distribuído de acordo com a contribuição (presença do Estado); "
   ]
  },
  {
   "cell_type": "markdown",
   "metadata": {
    "slideshow": {
     "slide_type": "fragment"
    }
   },
   "source": [
    "- comunista: produto social distribuído de acordo com as necessidades dos indivíduos, com o fim das classes sociais."
   ]
  },
  {
   "cell_type": "markdown",
   "metadata": {
    "slideshow": {
     "slide_type": "slide"
    }
   },
   "source": [
    "## A realidade do novo governo\n",
    "\n",
    "Medidas imediatas foram bem mais modestas:"
   ]
  },
  {
   "cell_type": "markdown",
   "metadata": {
    "slideshow": {
     "slide_type": "fragment"
    }
   },
   "source": [
    "- ampliação do controle estatal utilizando o aparato burocrático herdado do czarismo;"
   ]
  },
  {
   "cell_type": "markdown",
   "metadata": {
    "slideshow": {
     "slide_type": "fragment"
    }
   },
   "source": [
    "- em abril de 1918, Lênin defendeu a suspensão dos ataques à propriedade privada, a incorporação de métodos de gestão capitalistas e a estabilização monetária;"
   ]
  },
  {
   "cell_type": "markdown",
   "metadata": {
    "slideshow": {
     "slide_type": "fragment"
    }
   },
   "source": [
    "- eclosão da guerra civil em jul/ago de 1919 levou à adoção do \"comunismo de guerra\"."
   ]
  },
  {
   "cell_type": "markdown",
   "metadata": {
    "slideshow": {
     "slide_type": "slide"
    }
   },
   "source": [
    "## \"Comunismo de guerra\"\n",
    "\n",
    "Características do \"comunismo de guerra\":"
   ]
  },
  {
   "cell_type": "markdown",
   "metadata": {
    "slideshow": {
     "slide_type": "fragment"
    }
   },
   "source": [
    "- expropriação da produção dos camponeses, utilizando o exército;"
   ]
  },
  {
   "cell_type": "markdown",
   "metadata": {
    "slideshow": {
     "slide_type": "fragment"
    }
   },
   "source": [
    "- empresas industriais foram estatizadas e submetidas ao controle centralizado do Estado;"
   ]
  },
  {
   "cell_type": "markdown",
   "metadata": {
    "slideshow": {
     "slide_type": "subslide"
    }
   },
   "source": [
    "- controle direto na alocação de trabalho;"
   ]
  },
  {
   "cell_type": "markdown",
   "metadata": {
    "slideshow": {
     "slide_type": "fragment"
    }
   },
   "source": [
    "- mas fracasso da coletivização no campo e manutenção da propriedade camponesa resultante da revolução agrária de 1917-18."
   ]
  },
  {
   "cell_type": "markdown",
   "metadata": {
    "slideshow": {
     "slide_type": "slide"
    }
   },
   "source": [
    "## Efeitos da guerra civil\n",
    "\n",
    "A guerra civil trouxe consequências devastadoras, por exemplo:"
   ]
  },
  {
   "cell_type": "markdown",
   "metadata": {
    "slideshow": {
     "slide_type": "fragment"
    }
   },
   "source": [
    "=> 3 milhões de soldados e 13 milhões de civis mortos, principalmente durante a fome de 1921-22 e por epidemias;"
   ]
  },
  {
   "cell_type": "markdown",
   "metadata": {
    "slideshow": {
     "slide_type": "fragment"
    }
   },
   "source": [
    "=> produção industrial (grandes empresas) em 1920: 13% do nível de 1913; siderurgia: 4%; produção de grãos: 2/3 do nível de 1909-13; comércio externo: 1% do nível de 1913;"
   ]
  },
  {
   "cell_type": "markdown",
   "metadata": {
    "slideshow": {
     "slide_type": "subslide"
    }
   },
   "source": [
    "=> desemprego crescente, estimado em 9% em 1926;"
   ]
  },
  {
   "cell_type": "markdown",
   "metadata": {
    "slideshow": {
     "slide_type": "fragment"
    }
   },
   "source": [
    "=> política de requisições gerou revoltas entre camponeses, agravando crise de abastecimento;"
   ]
  },
  {
   "cell_type": "markdown",
   "metadata": {
    "slideshow": {
     "slide_type": "fragment"
    }
   },
   "source": [
    "=> mas no início de 1921 um sistema de impostos substituiu a requisição direta de grãos, dando início à Nova Política Econômica (NEP), elaborada por Lênin."
   ]
  },
  {
   "cell_type": "markdown",
   "metadata": {
    "slideshow": {
     "slide_type": "slide"
    }
   },
   "source": [
    "## NEP\n",
    "\n",
    "A Nova Política Econômica (NEP) restituiu o direito dos camponeses venderem seus produtos no mercado."
   ]
  },
  {
   "cell_type": "markdown",
   "metadata": {
    "slideshow": {
     "slide_type": "fragment"
    }
   },
   "source": [
    "As grandes empresas permaneceram estatais, mas deveriam seguir critérios privados de gestão."
   ]
  },
  {
   "cell_type": "markdown",
   "metadata": {
    "slideshow": {
     "slide_type": "fragment"
    }
   },
   "source": [
    "Pequenas empresas foram transferidas a proprietários privados e puderam operar livremente."
   ]
  },
  {
   "cell_type": "markdown",
   "metadata": {
    "slideshow": {
     "slide_type": "slide"
    }
   },
   "source": [
    "A negociação de salários foi restaurada, além do fim das restrições à mobilidade do trabalho."
   ]
  },
  {
   "cell_type": "markdown",
   "metadata": {
    "slideshow": {
     "slide_type": "fragment"
    }
   },
   "source": [
    "O governo cortou gastos, reformou sistema fiscal e promoveu reforma monetária em 1924, conseguindo controlar inflação."
   ]
  },
  {
   "cell_type": "markdown",
   "metadata": {
    "slideshow": {
     "slide_type": "fragment"
    }
   },
   "source": [
    "O sistema bancário permaneceu estatal, bem como o controle do comércio externo e da conta de capital."
   ]
  },
  {
   "cell_type": "markdown",
   "metadata": {
    "slideshow": {
     "slide_type": "subslide"
    }
   },
   "source": [
    "Do ponto de vista político, porém, não houve mudanças: o sistema de partido único e o controle social foram consolidados."
   ]
  },
  {
   "cell_type": "markdown",
   "metadata": {
    "slideshow": {
     "slide_type": "slide"
    }
   },
   "source": [
    "## Impactos da NEP\n",
    "\n",
    "Os impactos da NEP foram significativos, embora de curta duração."
   ]
  },
  {
   "cell_type": "markdown",
   "metadata": {
    "slideshow": {
     "slide_type": "fragment"
    }
   },
   "source": [
    "Houve moderada recuperação econômica: renda per capita em 1928=111, contra 1913=100."
   ]
  },
  {
   "cell_type": "markdown",
   "metadata": {
    "slideshow": {
     "slide_type": "fragment"
    }
   },
   "source": [
    "A inflação foi controlada, mas com o aumento do consumo rural (sucesso da NEP) houve queda na oferta de produtos agrícolas para os mercados urbanos."
   ]
  },
  {
   "cell_type": "markdown",
   "metadata": {
    "slideshow": {
     "slide_type": "subslide"
    }
   },
   "source": [
    "Nas relações externas, o país manteve-se praticamente isolado do resto do mundo: X=38 e M=33 em 1926-27 (1913=100)."
   ]
  },
  {
   "cell_type": "markdown",
   "metadata": {
    "nbpresent": {
     "id": "1a43feb9-1cad-4162-a6ad-b16662fbb6a4"
    },
    "slideshow": {
     "slide_type": "slide"
    }
   },
   "source": [
    "## Avaliações\n",
    "\n",
    "Há várias interpretações sobre a sustentabilidade da NEP. Duas delas:"
   ]
  },
  {
   "cell_type": "markdown",
   "metadata": {
    "slideshow": {
     "slide_type": "fragment"
    }
   },
   "source": [
    "i) NEP restringiu excessivamente as forças de mercado por meio do controle de preços e do planejamento do investimento, distorcendo preços relativos e a alocação de recursos. Seria então inviável no longo prazo;"
   ]
  },
  {
   "cell_type": "markdown",
   "metadata": {
    "slideshow": {
     "slide_type": "fragment"
    }
   },
   "source": [
    "ii) NEP seria bem-sucedida se governo houvesse ajustado preços agrícolas na crise de 1927-28. Indústria teria melhor desempenho do que o observado sob o esquema forçado de Stalin."
   ]
  },
  {
   "cell_type": "markdown",
   "metadata": {
    "slideshow": {
     "slide_type": "slide"
    }
   },
   "source": [
    "## Industrialização \n",
    "\n",
    "Na visão bolshevique dominante, a industrialização seria um pré-requisito vital para a nova sociedade socialista."
   ]
  },
  {
   "cell_type": "markdown",
   "metadata": {
    "slideshow": {
     "slide_type": "fragment"
    }
   },
   "source": [
    "Como a Rússia era basicamente rural, o Estado deveria substituir a burguesia no objetivo de promover a industrialização acelerada."
   ]
  },
  {
   "cell_type": "markdown",
   "metadata": {
    "slideshow": {
     "slide_type": "fragment"
    }
   },
   "source": [
    "Não obstante, houve interpretações diferentes e conflitantes sobre como o objetivo da industrialização deveria ser alcançado."
   ]
  },
  {
   "cell_type": "markdown",
   "metadata": {
    "slideshow": {
     "slide_type": "slide"
    }
   },
   "source": [
    "## Visões\n",
    "\n",
    "Algumas dessas visões: \n",
    "\n",
    "a) a indústria não deveria ser desenvolvida antes da agricultura, pois esta era mais rentável e proveria divisas para importação de manufaturados;"
   ]
  },
  {
   "cell_type": "markdown",
   "metadata": {
    "slideshow": {
     "slide_type": "fragment"
    }
   },
   "source": [
    "\n",
    "b) ou ainda, a agricultura deveria antes de mais nada tornar-se eficiente e adaptar-se ao mercado;"
   ]
  },
  {
   "cell_type": "markdown",
   "metadata": {
    "slideshow": {
     "slide_type": "fragment"
    }
   },
   "source": [
    "c) outra: seria necessária uma fase de \"acumulação primitiva socialista\", em que parte do produto dos camponeses deveria ser expropriada e transferida para investimento na indústria;"
   ]
  },
  {
   "cell_type": "markdown",
   "metadata": {
    "slideshow": {
     "slide_type": "subslide"
    }
   },
   "source": [
    "d) mais uma: a indústria poderia gerar seus próprios recursos por meio de maior eficiência e produtividade, expandindo-se gradualmente (visão majoritária em meados de 1920)."
   ]
  },
  {
   "cell_type": "markdown",
   "metadata": {
    "slideshow": {
     "slide_type": "slide"
    }
   },
   "source": [
    "## O que predominou?\n",
    "\n",
    "A visão moderada e majoritária iria sucumbir com a crise agrícola de 1927-28. "
   ]
  },
  {
   "cell_type": "markdown",
   "metadata": {
    "nbpresent": {
     "id": "8dde182b-545e-464d-86aa-93633eb83d31"
    },
    "slideshow": {
     "slide_type": "fragment"
    }
   },
   "source": [
    "Stalin, antes defensor da abordagem moderada, passou a defender \"medidas de emergência\", a coletivização do campo e a industrialização forçada."
   ]
  },
  {
   "cell_type": "markdown",
   "metadata": {
    "slideshow": {
     "slide_type": "fragment"
    }
   },
   "source": [
    "A partir de 1927-28 a industrialização forçada e a coletivização da propriedade rural tornam-se as políticas oficiais e dominantes do governo soviético."
   ]
  }
 ],
 "metadata": {
  "celltoolbar": "Slideshow",
  "kernelspec": {
   "display_name": "Python 3",
   "language": "python",
   "name": "python3"
  },
  "language_info": {
   "codemirror_mode": {
    "name": "ipython",
    "version": 3
   },
   "file_extension": ".py",
   "mimetype": "text/x-python",
   "name": "python",
   "nbconvert_exporter": "python",
   "pygments_lexer": "ipython3",
   "version": "3.6.10"
  },
  "toc": {
   "base_numbering": 1,
   "nav_menu": {},
   "number_sections": false,
   "sideBar": true,
   "skip_h1_title": false,
   "title_cell": "Table of Contents",
   "title_sidebar": "Contents",
   "toc_cell": false,
   "toc_position": {},
   "toc_section_display": true,
   "toc_window_display": false
  }
 },
 "nbformat": 4,
 "nbformat_minor": 2
}
