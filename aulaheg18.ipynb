{
 "cells": [
  {
   "cell_type": "markdown",
   "metadata": {
    "nbpresent": {
     "id": "452305db-662c-4b4e-aa92-79d92fa4544d"
    },
    "slideshow": {
     "slide_type": "slide"
    }
   },
   "source": [
    "# <center>História Econômica Geral I - FEA-USP</center>\n",
    "\n",
    "## <center>Aula 18 - Pax Britannica</center>\n",
    "\n",
    "### <center>Renato Perim Colistete</center>\n",
    "\n",
    "\n",
    "#### <center>2019</center>"
   ]
  },
  {
   "cell_type": "markdown",
   "metadata": {
    "nbpresent": {
     "id": "1fc7160f-beb4-4997-9c3f-0553e0592605"
    },
    "slideshow": {
     "slide_type": "slide"
    }
   },
   "source": [
    "## Objetivos\n",
    "\n",
    "Vamos analisar hoje a emergência do fenômeno do\n",
    "imperialismo no final do século XIX até a I Guerra Mundial.\n",
    "\n",
    "Primeiro trataremos das características da expansão\n",
    "colonial e dos impérios no século XIX; depois discutiremos\n",
    "as teorias do imperialismo mais influentes.\n",
    "\n",
    "Por fim, examinaremos dados sobre volume e distribuição\n",
    "geográfica dos investimentos externos no período."
   ]
  },
  {
   "cell_type": "markdown",
   "metadata": {
    "nbpresent": {
     "id": "1acbc207-c8bb-4376-a328-421bbf9520c4"
    },
    "slideshow": {
     "slide_type": "slide"
    }
   },
   "source": [
    "## O novo império francês\n",
    "\n",
    "De 1815 a 1880: com o fim das guerras napoleônicas,"
   ]
  },
  {
   "cell_type": "markdown",
   "metadata": {
    "nbpresent": {
     "id": "f3dfbdf9-fe1d-4356-9ad0-df395911e6f3"
    },
    "slideshow": {
     "slide_type": "fragment"
    }
   },
   "source": [
    "a) França perdeu os territórios conquistados por Napoleão\n",
    "desde 1790 (conforme Tratado de Paris, novembro de\n",
    "1815). Congresso de Viena consagrou noção de “balanço\n",
    "de poder”."
   ]
  },
  {
   "cell_type": "markdown",
   "metadata": {
    "slideshow": {
     "slide_type": "fragment"
    }
   },
   "source": [
    "b) mas a França lançou-se à construção de um novo\n",
    "império. Novas áreas anexadas: Argélia (anos 1830), Taiti\n",
    "(anos 1840), ampliação do Senegal (anos 1850), início da\n",
    "conquista da Indochina (1859)."
   ]
  },
  {
   "cell_type": "markdown",
   "metadata": {
    "nbpresent": {
     "id": "13c81a42-221c-45fd-bde2-343bbcc74678"
    },
    "slideshow": {
     "slide_type": "slide"
    }
   },
   "source": [
    "## \"Novo imperialismo\"\n",
    "\n",
    "Reação da Grã-Bretanha, com controle da Austrália e\n",
    "Nova Zelândia, Singapura (1819), Hong Kong (1842),\n",
    "Natal (1843; área no sudeste da África), parte de Burma\n",
    "(1852) e Lagos (1861; atual Nigéria)."
   ]
  },
  {
   "cell_type": "markdown",
   "metadata": {
    "nbpresent": {
     "id": "69b2baa0-ed18-483e-8653-50f0e5c1d94f"
    },
    "slideshow": {
     "slide_type": "fragment"
    }
   },
   "source": [
    "A partir de 1880: mudança fundamental, motivada i) por\n",
    "razões econômicas (mercados e matérias primas para\n",
    "industrialização, p.ex. estanho, borracha, níquel, cobre) e\n",
    "ii) pela rivalidade entre as potências."
   ]
  },
  {
   "cell_type": "markdown",
   "metadata": {
    "slideshow": {
     "slide_type": "slide"
    }
   },
   "source": [
    "## Partilha da África\n",
    "\n",
    "Características do novo imperialismo:"
   ]
  },
  {
   "cell_type": "markdown",
   "metadata": {
    "slideshow": {
     "slide_type": "fragment"
    }
   },
   "source": [
    "a) além das potências tradicionais, Alemanha e Itália\n",
    "passaram a disputar colônias na África e Ásia;"
   ]
  },
  {
   "cell_type": "markdown",
   "metadata": {
    "slideshow": {
     "slide_type": "fragment"
    }
   },
   "source": [
    "b) Conferência de Berlim (1884-1885), patrocinada por\n",
    "Bismarck, tratou de área disputada do Congo, então sob\n",
    "controle privado do Rei Leopoldo II da Bélgica;"
   ]
  },
  {
   "cell_type": "markdown",
   "metadata": {
    "slideshow": {
     "slide_type": "fragment"
    }
   },
   "source": [
    "c) 14 países participaram da Conferência. França,\n",
    "Inglaterra, Alemanha, Portugal, Espanha, Bélgica e Itália\n",
    "receberam partes da África (“*The scramble for Africa*”);"
   ]
  },
  {
   "cell_type": "markdown",
   "metadata": {
    "slideshow": {
     "slide_type": "subslide"
    }
   },
   "source": [
    "d) “princípio de efetividade” estabeleceu posse somente\n",
    "com ocupação efetiva, caso contrário a disputa por outra\n",
    "potência seria legítima;"
   ]
  },
  {
   "cell_type": "markdown",
   "metadata": {
    "slideshow": {
     "slide_type": "fragment"
    }
   },
   "source": [
    "e) período às vezes chamado de “Novo Imperialismo”,\n",
    "com consolidação de noções de supremacia racial;"
   ]
  },
  {
   "cell_type": "markdown",
   "metadata": {
    "slideshow": {
     "slide_type": "fragment"
    }
   },
   "source": [
    "f) em 1870, apenas 10% da África eram ocupados; em\n",
    "1914, 90% da África e a maior parte da Ásia haviam sido\n",
    "incorporados aos impérios coloniais europeus."
   ]
  },
  {
   "cell_type": "markdown",
   "metadata": {
    "slideshow": {
     "slide_type": "subslide"
    }
   },
   "source": [
    "#### <center>Antes da partilha</center>\n",
    "\n",
    "<center><img src=\"africa1.png\"></center>"
   ]
  },
  {
   "cell_type": "markdown",
   "metadata": {
    "slideshow": {
     "slide_type": "subslide"
    }
   },
   "source": [
    "#### <center>Depois da partilha</center>\n",
    "\n",
    "<center><img src=\"africa2.png\"></center>"
   ]
  },
  {
   "cell_type": "markdown",
   "metadata": {
    "nbpresent": {
     "id": "1a43feb9-1cad-4162-a6ad-b16662fbb6a4"
    },
    "slideshow": {
     "slide_type": "slide"
    }
   },
   "source": [
    "## Imperialismo britânico\n",
    "\n",
    "Imperialismo Britânico: atingiu cerca de 1/3 da população\n",
    "mundial no início dos anos 1920. Commonwealth - Austália, Nova Zelândia,\n",
    "Canadá."
   ]
  },
  {
   "cell_type": "markdown",
   "metadata": {
    "slideshow": {
     "slide_type": "fragment"
    }
   },
   "source": [
    "Causas da expansão imperialista: a) interesses\n",
    "econômicos (comerciantes, industriais, financistas); b)\n",
    "razões de segurança nacional (defendidas por militares,\n",
    "políticos, burocratas)."
   ]
  },
  {
   "cell_type": "markdown",
   "metadata": {
    "slideshow": {
     "slide_type": "fragment"
    }
   },
   "source": [
    "Regime diferenciado nas colônias de povoamento:\n",
    "autogoverno (*self-government*) nos\n",
    "“domínios” da *Commonwealth* - Austália, Nova Zelândia,\n",
    "Canadá."
   ]
  },
  {
   "cell_type": "markdown",
   "metadata": {
    "slideshow": {
     "slide_type": "subslide"
    }
   },
   "source": [
    "#### <center>Geografia do império</center>\n",
    "\n",
    "<center><img src=\"imperio.png\"></center>"
   ]
  },
  {
   "cell_type": "markdown",
   "metadata": {
    "slideshow": {
     "slide_type": "slide"
    }
   },
   "source": [
    "## Imperialismo francês\n",
    "\n",
    "Imperialismo Francês: 2a maior potência imperial da\n",
    "época."
   ]
  },
  {
   "cell_type": "markdown",
   "metadata": {
    "nbpresent": {
     "id": "8dde182b-545e-464d-86aa-93633eb83d31"
    },
    "slideshow": {
     "slide_type": "fragment"
    }
   },
   "source": [
    "Causas da expansão: a) razões estratégicas frente à\n",
    "competição com a Inglaterra e b) econômicas, para\n",
    "abastecimento de sua indústria em expansão (p.ex.,\n",
    "borracha, investimentos em ferrovias)"
   ]
  },
  {
   "cell_type": "markdown",
   "metadata": {
    "slideshow": {
     "slide_type": "fragment"
    }
   },
   "source": [
    "Argélia (1830); áreas do atual Vietnã (1884-5) e restante\n",
    "da Indochina (1887); Shangai (1849); Tunísia (1881).\n",
    "Posteriormente: atuais Mauritânia, Mali, Costa do Marfim."
   ]
  },
  {
   "cell_type": "markdown",
   "metadata": {
    "slideshow": {
     "slide_type": "subslide"
    }
   },
   "source": [
    "#### <center>Império da França</center>\n",
    "\n",
    "<center><img src=\"imp_fran.png\"></center>"
   ]
  },
  {
   "cell_type": "markdown",
   "metadata": {
    "nbpresent": {
     "id": "383dda45-dccb-4fde-a663-f4b4f94a501e"
    },
    "slideshow": {
     "slide_type": "slide"
    }
   },
   "source": [
    "## Império alemão\n",
    "\n",
    "Imperialismo Alemão: 3a maior potência imperial da\n",
    "época."
   ]
  },
  {
   "cell_type": "markdown",
   "metadata": {
    "slideshow": {
     "slide_type": "fragment"
    }
   },
   "source": [
    "Até a queda de Bismarck (1890), expansão colonial não\n",
    "teve papel central. Com o Imperador Wilhelm II\n",
    "(Guilherme II), uma nova política de expansão ganhou\n",
    "força – a *Weltpolitik*."
   ]
  },
  {
   "cell_type": "markdown",
   "metadata": {
    "slideshow": {
     "slide_type": "fragment"
    }
   },
   "source": [
    "Determinantes da *Weltpolitik*:\n",
    "a) direito a papel internacional compatível com o recém-\n",
    "adquirido poder industrial, tecnológico, financeiro, cultural\n",
    "e militar;"
   ]
  },
  {
   "cell_type": "markdown",
   "metadata": {
    "slideshow": {
     "slide_type": "subslide"
    }
   },
   "source": [
    "b) grupos econômicos se beneficiaram da expansão\n",
    "naval/militar e da crescente influência externa;"
   ]
  },
  {
   "cell_type": "markdown",
   "metadata": {
    "slideshow": {
     "slide_type": "fragment"
    }
   },
   "source": [
    "c) forte sentimento nacionalista difundido entre a\n",
    "população, burocracia, intelectualidade, militares;"
   ]
  },
  {
   "cell_type": "markdown",
   "metadata": {
    "slideshow": {
     "slide_type": "fragment"
    }
   },
   "source": [
    "d) colônias: Ruanda (1895); Burundi (1901); Wituland\n",
    "(parte do Quênia); Namíbia; Camarões (1884); Togo\n",
    "(1884); ilhas no Pacífico e áreas na Ásia."
   ]
  },
  {
   "cell_type": "markdown",
   "metadata": {
    "slideshow": {
     "slide_type": "slide"
    }
   },
   "source": [
    "## Outros impérios\n",
    "\n",
    "Rússia: expansão para Ásia Central e Sibéria no século\n",
    "XIX;"
   ]
  },
  {
   "cell_type": "markdown",
   "metadata": {
    "slideshow": {
     "slide_type": "fragment"
    }
   },
   "source": [
    "Itália: sentimentos de grandeza e importância\n",
    "internacional após Unificação. Colônias: Eritréia, no\n",
    "nordeste da África (1890); Líbia (1911)."
   ]
  },
  {
   "cell_type": "markdown",
   "metadata": {
    "slideshow": {
     "slide_type": "fragment"
    }
   },
   "source": [
    "Itália foi derrotada em 1896 em uma guerra de anexação\n",
    "com a Etiópia."
   ]
  },
  {
   "cell_type": "markdown",
   "metadata": {
    "slideshow": {
     "slide_type": "subslide"
    }
   },
   "source": [
    "#### <center>A divisão do Império</center>\n",
    "\n",
    "<center><img src=\"geog_imp.png\"></center>"
   ]
  },
  {
   "cell_type": "markdown",
   "metadata": {
    "slideshow": {
     "slide_type": "slide"
    }
   },
   "source": [
    "## Teorias do imperialismo\n",
    "\n",
    "Duas teorias clássicas e representativas da época: Lênin,\n",
    "*Imperialismo: fase superior do capitalismo* (1916) e\n",
    "J.A.Hobson, *Imperialismo: Um estudo* (1902)."
   ]
  },
  {
   "cell_type": "markdown",
   "metadata": {
    "slideshow": {
     "slide_type": "fragment"
    }
   },
   "source": [
    "Vejamos uma delas, a teoria de Lênin:"
   ]
  },
  {
   "cell_type": "markdown",
   "metadata": {
    "slideshow": {
     "slide_type": "fragment"
    }
   },
   "source": [
    "a) concentração industrial e financeira (capitalismo\n",
    "monopolista) na Europa resultou em declínio das\n",
    "oportunidades de lucro;"
   ]
  },
  {
   "cell_type": "markdown",
   "metadata": {
    "slideshow": {
     "slide_type": "subslide"
    }
   },
   "source": [
    "b) potências européias teriam buscado novas áreas de\n",
    "investimento e mercados no exterior, mediante anexação\n",
    "de territórios e criação de esferas de influência;"
   ]
  },
  {
   "cell_type": "markdown",
   "metadata": {
    "slideshow": {
     "slide_type": "fragment"
    }
   },
   "source": [
    "c) tal processo teria levado a uma rivalidade crescente\n",
    "entre potências, resultando em guerras imperialistas (I\n",
    "GM seria um resultado desses conflitos);"
   ]
  },
  {
   "cell_type": "markdown",
   "metadata": {
    "slideshow": {
     "slide_type": "fragment"
    }
   },
   "source": [
    "d) imperialismo seria uma fase avançada do capitalismo,\n",
    "como grandes grupos dominando as economias\n",
    "nacionais e projetando-se para além de suas fronteiras,\n",
    "com suporte dos Estados."
   ]
  },
  {
   "cell_type": "markdown",
   "metadata": {
    "slideshow": {
     "slide_type": "slide"
    }
   },
   "source": [
    "## Problemas\n",
    "\n",
    "Problemas com a teoria leninista:"
   ]
  },
  {
   "cell_type": "markdown",
   "metadata": {
    "slideshow": {
     "slide_type": "fragment"
    }
   },
   "source": [
    "i) interesses econômicos não necessariamente levariam à\n",
    "anexação política direta, pois controle indireto poderia ser\n",
    "ainda mais vantajoso (custos);"
   ]
  },
  {
   "cell_type": "markdown",
   "metadata": {
    "slideshow": {
     "slide_type": "fragment"
    }
   },
   "source": [
    "ii) investimentos externos em áreas economicamente\n",
    "avançadas foram mais importantes do que os realizados\n",
    "nas colônias (p.ex, Inglaterra e Alemanha);"
   ]
  },
  {
   "cell_type": "markdown",
   "metadata": {
    "slideshow": {
     "slide_type": "fragment"
    }
   },
   "source": [
    "iii) políticas imperialistas não foram necessariamente\n",
    "vinculadas a poderio econômico (p.ex. Itália, Espanha);"
   ]
  },
  {
   "cell_type": "markdown",
   "metadata": {
    "slideshow": {
     "slide_type": "subslide"
    }
   },
   "source": [
    "iv) outros motivos para as políticas imperialistas, tão\n",
    "importantes quanto os econômicos, seriam a busca de\n",
    "prestígio nacional (Itália, Rússia),"
   ]
  },
  {
   "cell_type": "markdown",
   "metadata": {
    "slideshow": {
     "slide_type": "fragment"
    }
   },
   "source": [
    "v) além de objetivos estratégicos de elites burocráticas e\n",
    "militares (Inglaterra, Alemanha) e possivelmente noções de\n",
    "superioridade racial (como argumenta Hannah Arendt)."
   ]
  },
  {
   "cell_type": "markdown",
   "metadata": {
    "slideshow": {
     "slide_type": "slide"
    }
   },
   "source": [
    "## Investimentos\n",
    "\n",
    "Caso mais notável de investimentos externos foi o da\n",
    "Inglaterra."
   ]
  },
  {
   "cell_type": "markdown",
   "metadata": {
    "slideshow": {
     "slide_type": "fragment"
    }
   },
   "source": [
    "O estoque dos investimentos externos líquidos britânicos\n",
    "como proporção do PIB atingiu 7% em 1850, 14% em\n",
    "1870 e 32% em 1913."
   ]
  },
  {
   "cell_type": "markdown",
   "metadata": {
    "slideshow": {
     "slide_type": "fragment"
    }
   },
   "source": [
    "Esses são os maiores percentuais até hoje de um país\n",
    "com recursos voltados à formação de capital no exterior."
   ]
  },
  {
   "cell_type": "markdown",
   "metadata": {
    "slideshow": {
     "slide_type": "slide"
    }
   },
   "source": [
    "## Europa x periferia\n",
    "\n",
    "A expansão dos investimentos externos foi um fenômeno\n",
    "geral, envolvendo países europeus e não-europeus:"
   ]
  },
  {
   "cell_type": "markdown",
   "metadata": {
    "slideshow": {
     "slide_type": "fragment"
    }
   },
   "source": [
    "a) a Grã-Bretanha era o principal país exportador de capital em\n",
    "1914, com 41,8% dos ativos estrangeiros;"
   ]
  },
  {
   "cell_type": "markdown",
   "metadata": {
    "slideshow": {
     "slide_type": "fragment"
    }
   },
   "source": [
    "b) França (19,8%), Alemanha (12,8%) e Estados Unidos\n",
    "(8,0%) e o grupo Bélgica, Holanda e Suiça (12,6%)\n",
    "também se destacaram como exportadores de capital;"
   ]
  },
  {
   "cell_type": "markdown",
   "metadata": {
    "slideshow": {
     "slide_type": "fragment"
    }
   },
   "source": [
    "c) ativos mantidos pela Grã-Bretanha na Europa eram reduzidos\n",
    "(1,4% na Europa Ocidental e 3,4% na Europa Oriental);\n",
    "maiores concentrações nos EUA, Canadá e Australásia\n",
    "(45,1%) e América Latina (20,1%);"
   ]
  },
  {
   "cell_type": "markdown",
   "metadata": {
    "slideshow": {
     "slide_type": "fragment"
    }
   },
   "source": [
    "d) já os outros países europeus concentraram seus\n",
    "interesses na própria Europa. Caso britânico, portanto, foi\n",
    "atípico;"
   ]
  },
  {
   "cell_type": "markdown",
   "metadata": {
    "slideshow": {
     "slide_type": "fragment"
    }
   },
   "source": [
    "e) a I Guerra Mundial levou à queda abrupta dos investimentos estrangeiros, que\n",
    "perdurou por várias décadas."
   ]
  },
  {
   "cell_type": "markdown",
   "metadata": {
    "slideshow": {
     "slide_type": "slide"
    }
   },
   "source": [
    "## Questões\n",
    "\n",
    "Analise a expansão colonial da Europa no final do século\n",
    "XIX. Quais foram os motivos principais do imperialismo\n",
    "europeu na África e outras partes do mundo?\n",
    "\n",
    "Apresente e discuta os elementos determinantes do\n",
    "imperialismo segundo a teoria de Lênin. Quais aspectos\n",
    "podem ou não ser explicados por essa teoria?\n",
    "\n",
    "Analise a distribuição dos investimentos internacionais\n",
    "dos países antes da I Guerra Mundial. Em que medida os\n",
    "estoques de investimento externo corroboram ou não as\n",
    "teorias do imperialismo?"
   ]
  }
 ],
 "metadata": {
  "celltoolbar": "Slideshow",
  "kernelspec": {
   "display_name": "Python 3",
   "language": "python",
   "name": "python3"
  },
  "language_info": {
   "codemirror_mode": {
    "name": "ipython",
    "version": 3
   },
   "file_extension": ".py",
   "mimetype": "text/x-python",
   "name": "python",
   "nbconvert_exporter": "python",
   "pygments_lexer": "ipython3",
   "version": "3.7.3"
  }
 },
 "nbformat": 4,
 "nbformat_minor": 2
}
