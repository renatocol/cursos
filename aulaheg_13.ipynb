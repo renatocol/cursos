{
 "cells": [
  {
   "cell_type": "markdown",
   "metadata": {
    "nbpresent": {
     "id": "452305db-662c-4b4e-aa92-79d92fa4544d"
    },
    "slideshow": {
     "slide_type": "slide"
    }
   },
   "source": [
    "# <center>História Econômica Geral I - FEA-USP</center>\n",
    "\n",
    "## <center>Aula 13 - Trabalho e Padrão de Vida</center>\n",
    "\n",
    "### <center>Renato Perim Colistete</center>\n",
    "\n",
    "\n",
    "#### <center>2021</center>"
   ]
  },
  {
   "cell_type": "markdown",
   "metadata": {
    "nbpresent": {
     "id": "1fc7160f-beb4-4997-9c3f-0553e0592605"
    },
    "slideshow": {
     "slide_type": "slide"
    }
   },
   "source": [
    "## Objetivos\n",
    "\n",
    "Nesta aula trataremos de outro tema clássico da\n",
    "Revolução Industrial: as condições sociais e o padrão de\n",
    "vida dos trabalhadores.\n",
    "\n",
    "Avaliaremos as tendências por meio de medidas\n",
    "quantitativas e seus problemas metodológicos.\n",
    "\n",
    "Ao final, veremos as mudanças nas condições de trabalho\n",
    "e na própria noção de trabalho trazidas com a Revolução\n",
    "Industrial."
   ]
  },
  {
   "cell_type": "markdown",
   "metadata": {
    "nbpresent": {
     "id": "1acbc207-c8bb-4376-a328-421bbf9520c4"
    },
    "slideshow": {
     "slide_type": "slide"
    }
   },
   "source": [
    "## Primeiras interpretações\n",
    "\n",
    "As diferentes interpretações sobre os impactos sociais\n",
    "da Revolução Industrial são conhecidas como a\n",
    "“controvérsia sobre o padrão de vida”."
   ]
  },
  {
   "cell_type": "markdown",
   "metadata": {
    "nbpresent": {
     "id": "f3dfbdf9-fe1d-4356-9ad0-df395911e6f3"
    },
    "slideshow": {
     "slide_type": "fragment"
    }
   },
   "source": [
    "O debate opôs \n"
   ]
  },
  {
   "cell_type": "markdown",
   "metadata": {
    "slideshow": {
     "slide_type": "fragment"
    }
   },
   "source": [
    "a) “pessimistas”, que argumentaram que a Revolução Industrial levou à deterioração nas\n",
    "condições de vida das classes trabalhadoras;"
   ]
  },
  {
   "cell_type": "markdown",
   "metadata": {
    "nbpresent": {
     "id": "bb419a40-14ab-48cd-8328-1c62b7f7bd0a"
    },
    "slideshow": {
     "slide_type": "fragment"
    }
   },
   "source": [
    "b) “otimistas”, que sustentaram ter havido\n",
    "melhoria no padrão de vida dos trabalhadores."
   ]
  },
  {
   "cell_type": "markdown",
   "metadata": {
    "nbpresent": {
     "id": "13c81a42-221c-45fd-bde2-343bbcc74678"
    },
    "slideshow": {
     "slide_type": "slide"
    }
   },
   "source": [
    "## Pessimistas x otimistas\n",
    "\n",
    "Entre 1880 e 1920, a visão pessimista dominou os estudos da Revolução Industrial, reproduzindo as abordagens de autores tão diferentes como Toynbee, Engels e Charles Dickens."
   ]
  },
  {
   "cell_type": "markdown",
   "metadata": {
    "nbpresent": {
     "id": "69b2baa0-ed18-483e-8653-50f0e5c1d94f"
    },
    "slideshow": {
     "slide_type": "fragment"
    }
   },
   "source": [
    "A visão pessimista foi desafiada por autores já vistos anteriormente, como\n",
    "Clapham e depois Ashton. Clapham sustentou que\n",
    "houve elevação dos salários reais entre 1790 e 1850."
   ]
  },
  {
   "cell_type": "markdown",
   "metadata": {
    "nbpresent": {
     "id": "1674bcc2-8448-4b20-8203-e741d2f6048b"
    },
    "slideshow": {
     "slide_type": "fragment"
    }
   },
   "source": [
    "No pós-II Guerra Mundial, o debate ficou mais acirrado\n",
    "e polarizado no contexto da Guerra Fria. Autores\n",
    "representativos: [Ronald Hartwell](https://www.independent.co.uk/news/obituaries/max-hartwell-influential-economic-historian-unafraid-to-provoke-controversy-1690655.html) \n",
    "e [Eric Hobsbawn](https://www.independent.co.uk/news/obituaries/professor-eric-hobsbawm-historian-acclaimed-as-one-of-the-finest-of-the-20th-century-8193057.html)."
   ]
  },
  {
   "cell_type": "markdown",
   "metadata": {
    "nbpresent": {
     "id": "8b4f0472-cccb-4d13-abbd-187d93bc9309"
    },
    "slideshow": {
     "slide_type": "slide"
    }
   },
   "source": [
    "## Renda *per capita*\n",
    "\n",
    "Vejamos inicialmente a situação da Inglaterra em\n",
    "relação a outros países em termos de um indicador de\n",
    "padrão de vida: a renda *per capita*."
   ]
  },
  {
   "cell_type": "markdown",
   "metadata": {
    "nbpresent": {
     "id": "794d2206-833d-419a-b3b9-b12875162c7e"
    },
    "slideshow": {
     "slide_type": "fragment"
    }
   },
   "source": [
    "Conforme as estimativas de Angus Maddison a seguir, a Inglaterra alcançou em\n",
    "1820 o segundo maior nível de renda *per capita* (abaixo\n",
    "apenas da Holanda)."
   ]
  },
  {
   "cell_type": "markdown",
   "metadata": {
    "slideshow": {
     "slide_type": "subslide"
    }
   },
   "source": [
    "### <center>Comparações</center>\n",
    "\n",
    "<center><img src=\"renda.jpeg\" width=\"700\"></center>"
   ]
  },
  {
   "cell_type": "markdown",
   "metadata": {
    "slideshow": {
     "slide_type": "subslide"
    }
   },
   "source": [
    "Como mostra a tabela, em 1870 o Reino Unido possuía o maior nível de renda\n",
    "do mundo, perdendo porém a liderança nos anos\n",
    "seguintes para os Estados Unidos."
   ]
  },
  {
   "cell_type": "markdown",
   "metadata": {
    "nbpresent": {
     "id": "1a43feb9-1cad-4162-a6ad-b16662fbb6a4"
    },
    "slideshow": {
     "slide_type": "slide"
    }
   },
   "source": [
    "## Problemas\n",
    "\n",
    "As medidas de padrão de vida são sujeitas a diversos\n",
    "problemas metodológicos e com fontes e dados."
   ]
  },
  {
   "cell_type": "markdown",
   "metadata": {
    "slideshow": {
     "slide_type": "fragment"
    }
   },
   "source": [
    "Dados de salários, p.ex., expressam as rendas somente dos\n",
    "empregados formais, assim como desconsideram os\n",
    "pagamentos “em espécie”."
   ]
  },
  {
   "cell_type": "markdown",
   "metadata": {
    "slideshow": {
     "slide_type": "fragment"
    }
   },
   "source": [
    "Além disso, as estimativas de salários referem-se em geral às rendas de homens adultos, omitindo\n",
    "mulheres e crianças que, dependendo do setor, podem até ser maioria. Ainda assim, são um indicador\n",
    "importante. Ver um exemplo no gráfico a seguir."
   ]
  },
  {
   "cell_type": "markdown",
   "metadata": {
    "slideshow": {
     "slide_type": "subslide"
    }
   },
   "source": [
    "#### <center>Salários reais em Londres, trabalhadores não-qualificados (Allen)</center>\n",
    "\n",
    "<center><img src=\"salarios.jpeg\" width=\"700\"></center>"
   ]
  },
  {
   "cell_type": "markdown",
   "metadata": {
    "nbpresent": {
     "id": "8dde182b-545e-464d-86aa-93633eb83d31"
    },
    "slideshow": {
     "slide_type": "slide"
    }
   },
   "source": [
    "## Alternativas\n",
    "\n",
    "Os salários considerados isoladamente nada dizem sobre\n",
    "outros aspectos do padrão de vida: saúde, poluição,\n",
    "desemprego, condições de trabalho ou habitação."
   ]
  },
  {
   "cell_type": "markdown",
   "metadata": {
    "nbpresent": {
     "id": "383dda45-dccb-4fde-a663-f4b4f94a501e"
    },
    "slideshow": {
     "slide_type": "fragment"
    }
   },
   "source": [
    "Devido a esses problemas, outras medidas têm sido\n",
    "utilizadas na tentativa de mensurar o padrão de vida dos\n",
    "trabalhadores."
   ]
  },
  {
   "cell_type": "markdown",
   "metadata": {
    "slideshow": {
     "slide_type": "fragment"
    }
   },
   "source": [
    "Uma delas é considerar o salário real em relação ao\n",
    "consumo necessário de bens básicos para subsistência\n",
    "de uma família (supondo, p.ex., o consumo *per capita* de\n",
    "1.940 calorias diárias). Ver a seguir."
   ]
  },
  {
   "cell_type": "markdown",
   "metadata": {
    "slideshow": {
     "slide_type": "subslide"
    }
   },
   "source": [
    "#### <center>Salário x subsistência (Allen)</center>\n",
    "\n",
    "<center><img src=\"subsistence.jpeg\" width\"600\"></center>"
   ]
  },
  {
   "cell_type": "markdown",
   "metadata": {
    "slideshow": {
     "slide_type": "subslide"
    }
   },
   "source": [
    "#### <center>Inglaterra x China (Allen)</center>\n",
    "\n",
    "<center><img src=\"subsistence2.jpeg\" width=\"700\" ></center>"
   ]
  },
  {
   "cell_type": "markdown",
   "metadata": {
    "slideshow": {
     "slide_type": "slide"
    }
   },
   "source": [
    "## Expectativa de vida\n",
    "\n",
    "Outra medida é a *expectativa de vida* da população."
   ]
  },
  {
   "cell_type": "markdown",
   "metadata": {
    "slideshow": {
     "slide_type": "fragment"
    }
   },
   "source": [
    "Houve elevação desse indicador no período da Revolução Industrial, com\n",
    "expectativa média de vida de 40 anos em 1850, na\n",
    "Inglaterra."
   ]
  },
  {
   "cell_type": "markdown",
   "metadata": {
    "slideshow": {
     "slide_type": "fragment"
    }
   },
   "source": [
    "Mas resultado foi altamente desigual: famílias de alta\n",
    "posição social, 36 anos em 1701 e 54 anos em 1850; restante\n",
    "da população: 36 e 39 anos, respectivamente. Ver os\n",
    "dados a seguir para regiões."
   ]
  },
  {
   "cell_type": "markdown",
   "metadata": {
    "slideshow": {
     "slide_type": "subslide"
    }
   },
   "source": [
    "#### <center>Expectativa de vida</center>\n",
    "\n",
    "<center><img src=\"expectativa1.jpeg\" width=\"500\"></center>"
   ]
  },
  {
   "cell_type": "markdown",
   "metadata": {
    "slideshow": {
     "slide_type": "subslide"
    }
   },
   "source": [
    "#### <center>Países</center>\n",
    "\n",
    "<center><img src=\"expectativa2.jpeg\" width=\"450\"></center>"
   ]
  },
  {
   "cell_type": "markdown",
   "metadata": {
    "slideshow": {
     "slide_type": "slide"
    }
   },
   "source": [
    "## Antropometria\n",
    "\n",
    "Outra medida importante é a altura média da\n",
    "população, com pesquisas pioneiras de Roderick Floud e\n",
    "Richard Steckel. Resultados de Floud: pequena elevação\n",
    "entre 1820-40, queda pós-1850."
   ]
  },
  {
   "cell_type": "markdown",
   "metadata": {
    "slideshow": {
     "slide_type": "fragment"
    }
   },
   "source": [
    "Resultados de Steckel: altura média dos ingleses caiu\n",
    "entre 1770-1815. Controle: Irlanda (rural)."
   ]
  },
  {
   "cell_type": "markdown",
   "metadata": {
    "slideshow": {
     "slide_type": "fragment"
    }
   },
   "source": [
    "Essas evidências conflitam com a visão otimista até 1820 e\n",
    "com a visão pessimista no período pós-guerras\n",
    "napoleônicas. Veja a seguir esse indicador no Reino\n",
    "Unido e nos EUA."
   ]
  },
  {
   "cell_type": "markdown",
   "metadata": {
    "slideshow": {
     "slide_type": "subslide"
    }
   },
   "source": [
    "#### <center>Inglaterra</center>\n",
    "\n",
    "<center><img src=\"altura.jpeg\" width=\"500\"></center>\n"
   ]
  },
  {
   "cell_type": "markdown",
   "metadata": {
    "slideshow": {
     "slide_type": "subslide"
    }
   },
   "source": [
    "#### <center>Outros países</center>\n",
    "\n",
    "<center><img src=\"alturab.jpeg\" width=\"650\"></center>\n"
   ]
  },
  {
   "cell_type": "markdown",
   "metadata": {
    "slideshow": {
     "slide_type": "slide"
    }
   },
   "source": [
    "## Consumo e salários\n",
    "\n",
    "*Consumo*: resultados inconclusivos, podendo ter\n",
    "estagnado/declinado entre 1770-1800 e estagnado/elevado entre 1800/1850."
   ]
  },
  {
   "cell_type": "markdown",
   "metadata": {
    "slideshow": {
     "slide_type": "fragment"
    }
   },
   "source": [
    "*Salários reais*: nenhum sinal de elevação entre 1750-90.\n",
    "Diferenças regionais: queda em Londres e sul rural,\n",
    "aumento na região central e norte."
   ]
  },
  {
   "cell_type": "markdown",
   "metadata": {
    "slideshow": {
     "slide_type": "fragment"
    }
   },
   "source": [
    "Em 1790-1815, também salários estagnados, com\n",
    "deterioração na região sul. Em 1815-50, estimativa de\n",
    "elevação geral. Mas: todos salários de homens adultos."
   ]
  },
  {
   "cell_type": "markdown",
   "metadata": {
    "slideshow": {
     "slide_type": "slide"
    }
   },
   "source": [
    "## As novas condições\n",
    "\n",
    "A Revolução Industrial transformou as\n",
    "condições de trabalho, sobretudo nas áreas urbanas."
   ]
  },
  {
   "cell_type": "markdown",
   "metadata": {
    "slideshow": {
     "slide_type": "fragment"
    }
   },
   "source": [
    "O novo ambiente em oficinas e fábricas - partículas e substâncias tóxicas, acidentes, higiene, jornada de trabalho e esforço - deteriorou as condições de exercício do trabalho, mesmo que a\n",
    "situação anterior não fosse significativamente melhor."
   ]
  },
  {
   "cell_type": "markdown",
   "metadata": {
    "slideshow": {
     "slide_type": "fragment"
    }
   },
   "source": [
    "Disciplina, controle do tempo, ruptura dos\n",
    "vínculos familiares na fábrica (mulheres e crianças)\n",
    "degradaram adicionalmente as condições de trabalho."
   ]
  },
  {
   "cell_type": "markdown",
   "metadata": {
    "slideshow": {
     "slide_type": "slide"
    }
   },
   "source": [
    "## *Factory Acts*\n",
    "\n",
    "A evolução das Leis Fabris (*Factory Acts*) sintetiza as\n",
    "condições de trabalho nas novas fábricas. Exemplos:"
   ]
  },
  {
   "cell_type": "markdown",
   "metadata": {
    "slideshow": {
     "slide_type": "fragment"
    }
   },
   "source": [
    "*Factory Act de 1802*: visou crianças aprendizes. Jornada\n",
    "até 12 horas/dia, não antes das 6h da manhã e nem\n",
    "depois das 9h da noite."
   ]
  },
  {
   "cell_type": "markdown",
   "metadata": {
    "slideshow": {
     "slide_type": "fragment"
    }
   },
   "source": [
    "*Factory Act de 1833*: limitou jornada em 9 horas para\n",
    "crianças de 9-13 anos; 12 horas para 14-18 anos."
   ]
  },
  {
   "cell_type": "markdown",
   "metadata": {
    "slideshow": {
     "slide_type": "slide"
    }
   },
   "source": [
    "## Mais leis fabris\n",
    "\n",
    "*Factory Act de 1844*: crianças de 8-13 anos, 6 1⁄2 horas."
   ]
  },
  {
   "cell_type": "markdown",
   "metadata": {
    "slideshow": {
     "slide_type": "fragment"
    }
   },
   "source": [
    "*Factory Act de 1847*: 14-18 anos, 10 horas de trabalho."
   ]
  },
  {
   "cell_type": "markdown",
   "metadata": {
    "slideshow": {
     "slide_type": "fragment"
    }
   },
   "source": [
    "• *Factory Act de 1878*: até aqui a legislação aplicava-se somente à indústria têxtil. A Lei de 1878 consolidou a legislação anterior, estendeu-a para todas as atividades e proibiu o emprego de crianças de menos de 10 anos."
   ]
  },
  {
   "cell_type": "markdown",
   "metadata": {
    "slideshow": {
     "slide_type": "slide"
    }
   },
   "source": [
    "## A vida nas fábricas\n",
    "\n",
    "Novas condições de trabalho trouxeram novas normas na\n",
    "fábrica. Um elemento central foi a imposição de disciplina\n",
    "e regularidade no trabalho fabril."
   ]
  },
  {
   "cell_type": "markdown",
   "metadata": {
    "slideshow": {
     "slide_type": "fragment"
    }
   },
   "source": [
    "Novos valores morais foram difundidos por defensores do novo regime: proprietários, funcionários, religiosos, intelectuais e mesmo grupos de trabalhadores."
   ]
  },
  {
   "cell_type": "markdown",
   "metadata": {
    "slideshow": {
     "slide_type": "fragment"
    }
   },
   "source": [
    "P.ex: virtudes do trabalho duro, poupança, parcimônia, sobriedade e disciplina."
   ]
  },
  {
   "cell_type": "markdown",
   "metadata": {
    "slideshow": {
     "slide_type": "slide"
    }
   },
   "source": [
    "## Tempo e disciplina\n",
    "\n",
    "E.P. Thompson (1967) analisou as mudanças na\n",
    "percepção do tempo resultantes da difusão do trabalho\n",
    "industrial."
   ]
  },
  {
   "cell_type": "markdown",
   "metadata": {
    "slideshow": {
     "slide_type": "fragment"
    }
   },
   "source": [
    "Em comunidades tradicionais (baseadas na agricultura,\n",
    "pesca, caça) o tempo era orientado pelo ritmo e época\n",
    "(sazonalidade) das atividades primárias."
   ]
  },
  {
   "cell_type": "markdown",
   "metadata": {
    "slideshow": {
     "slide_type": "fragment"
    }
   },
   "source": [
    "Sob o trabalho industrial, o tempo passou a ser\n",
    "exclusivamente determinado pelo relógio. Ao longo da Revolução Industrial,\n",
    "difundiu-se rapidamente o uso de relógios – coincidência?"
   ]
  },
  {
   "cell_type": "markdown",
   "metadata": {
    "slideshow": {
     "slide_type": "slide"
    }
   },
   "source": [
    "### Questões\n",
    "\n",
    "Quais são os prós e contras das medidas utilizadas para a\n",
    "análise do padrão de vida dos trabalhadores durante a\n",
    "Revolução Industrial. Qual lhe parece mais abrangente em\n",
    "termos conceituais? Por que?\n",
    "\n",
    "Com o auxílio das tabelas e dos gráficos, analise os\n",
    "resultados das diferentes medidas de padrão de vida\n",
    "durante a Revolução Industrial. As evidências apoiam os\n",
    "\"otimistas\" ou os \"pessimistas\"?\n",
    "\n",
    "Discuta as mudanças de dois tipos de instituições durante\n",
    "a Revolução Industrial: i) as ideias sobre o trabalho infantil; ii) a noção do\n",
    "trabalho."
   ]
  }
 ],
 "metadata": {
  "celltoolbar": "Slideshow",
  "kernelspec": {
   "display_name": "Python 3",
   "language": "python",
   "name": "python3"
  },
  "language_info": {
   "codemirror_mode": {
    "name": "ipython",
    "version": 3
   },
   "file_extension": ".py",
   "mimetype": "text/x-python",
   "name": "python",
   "nbconvert_exporter": "python",
   "pygments_lexer": "ipython3",
   "version": "3.9.1"
  },
  "toc": {
   "base_numbering": 1,
   "nav_menu": {},
   "number_sections": false,
   "sideBar": true,
   "skip_h1_title": false,
   "title_cell": "Table of Contents",
   "title_sidebar": "Contents",
   "toc_cell": false,
   "toc_position": {},
   "toc_section_display": true,
   "toc_window_display": false
  }
 },
 "nbformat": 4,
 "nbformat_minor": 2
}
