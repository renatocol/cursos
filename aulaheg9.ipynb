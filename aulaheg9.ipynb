{
 "cells": [
  {
   "cell_type": "markdown",
   "metadata": {
    "nbpresent": {
     "id": "452305db-662c-4b4e-aa92-79d92fa4544d"
    },
    "slideshow": {
     "slide_type": "slide"
    }
   },
   "source": [
    "# <center>História Econômica Geral I - FEA-USP</center>\n",
    "\n",
    "## <center>Aula 9 - Divergência no Crescimento das Américas</center>\n",
    "\n",
    "### <center>Renato Perim Colistete</center>\n",
    "\n",
    "\n",
    "#### <center>2020</center>"
   ]
  },
  {
   "cell_type": "markdown",
   "metadata": {
    "nbpresent": {
     "id": "1fc7160f-beb4-4997-9c3f-0553e0592605"
    },
    "slideshow": {
     "slide_type": "slide"
    }
   },
   "source": [
    "## Objetivos\n",
    "\n",
    "Nesta aula trataremos de uma área geográfica diferente do que\n",
    "temos visto até agora, mas que está relacionada com a\n",
    "emergência do Sistema Atlântico que já mencionamos.\n",
    "\n",
    "Nos concentraremos na abordagem de [Stanley Engerman](https://en.wikipedia.org/wiki/Stanley_Engerman) e\n",
    "[Kenneth Sokoloff](https://en.wikipedia.org/wiki/Kenneth_Sokoloff) sobre o crescimento econômico nas\n",
    "Américas. O trabalho desses autores é representativo das\n",
    "abordagens recentes sobre as condições do desenvolvimento\n",
    "econômico de longo prazo.\n",
    "\n",
    "Nessas interpretações, geografia, fatores de produção, classes\n",
    "sociais e instituições são combinados na análise histórica."
   ]
  },
  {
   "cell_type": "markdown",
   "metadata": {
    "nbpresent": {
     "id": "1acbc207-c8bb-4376-a328-421bbf9520c4"
    },
    "slideshow": {
     "slide_type": "slide"
    }
   },
   "source": [
    "## Trajetórias\n",
    "\n",
    "Engerman & Sokoloff partem de um paradoxo: 200 anos após o\n",
    "início da colonização das Américas, não havia diferenças\n",
    "significativas nos níveis de renda das várias regiões do\n",
    "continente."
   ]
  },
  {
   "cell_type": "markdown",
   "metadata": {
    "nbpresent": {
     "id": "f3dfbdf9-fe1d-4356-9ad0-df395911e6f3"
    },
    "slideshow": {
     "slide_type": "fragment"
    }
   },
   "source": [
    "E mais: a renda *per capita* estimada de algumas partes da\n",
    "América do Sul e Caribe era maior do que das colônias do\n",
    "norte."
   ]
  },
  {
   "cell_type": "markdown",
   "metadata": {
    "nbpresent": {
     "id": "bb419a40-14ab-48cd-8328-1c62b7f7bd0a"
    },
    "slideshow": {
     "slide_type": "fragment"
    }
   },
   "source": [
    "Porém, América do Sul, América Central e México ficaram para\n",
    "trás nos séculos seguintes: divergência no final do século XVIII\n",
    "e, principalmente, ao longo do século XIX – ver tabela a seguir."
   ]
  },
  {
   "cell_type": "markdown",
   "metadata": {
    "nbpresent": {
     "id": "bb88ba62-49af-4a08-a1fb-e61b66f85d5a"
    },
    "slideshow": {
     "slide_type": "subslide"
    }
   },
   "source": [
    "## <center>Divergência</center>\n",
    "\n",
    "<center><img src=\"americaspc.jpeg\"></center>"
   ]
  },
  {
   "cell_type": "markdown",
   "metadata": {
    "nbpresent": {
     "id": "13c81a42-221c-45fd-bde2-343bbcc74678"
    },
    "slideshow": {
     "slide_type": "slide"
    }
   },
   "source": [
    "## Paradoxo\n",
    "\n",
    "As colônias do Norte que foram estabelecidas\n",
    "posteriormente e dispunham de *recursos naturais menos\n",
    "favoráveis* tiveram melhor desempenho no longo prazo."
   ]
  },
  {
   "cell_type": "markdown",
   "metadata": {
    "nbpresent": {
     "id": "69b2baa0-ed18-483e-8653-50f0e5c1d94f"
    },
    "slideshow": {
     "slide_type": "fragment"
    }
   },
   "source": [
    "Este é o enigma a ser respondido: quais as causas\n",
    "dessa trajetória diferenciada e paradoxal das ex-colônias\n",
    "do Norte e as do restante das Américas?"
   ]
  },
  {
   "cell_type": "markdown",
   "metadata": {
    "nbpresent": {
     "id": "1674bcc2-8448-4b20-8203-e741d2f6048b"
    },
    "slideshow": {
     "slide_type": "fragment"
    }
   },
   "source": [
    "Os autores destacam diferenças i) na distribuição de\n",
    "riqueza; ii) no capital humano e iii) na influência política,\n",
    "associadas inicialmente à dotação de fatores."
   ]
  },
  {
   "cell_type": "markdown",
   "metadata": {
    "nbpresent": {
     "id": "8b4f0472-cccb-4d13-abbd-187d93bc9309"
    },
    "slideshow": {
     "slide_type": "slide"
    }
   },
   "source": [
    "## Caribe e Brasil\n",
    "\n",
    "Engerman & Sokoloff identificam 3 tipos de colonização.\n",
    "Primeiro, *Caribe e Brasil*:"
   ]
  },
  {
   "cell_type": "markdown",
   "metadata": {
    "nbpresent": {
     "id": "794d2206-833d-419a-b3b9-b12875162c7e"
    },
    "slideshow": {
     "slide_type": "fragment"
    }
   },
   "source": [
    "(1) condições climáticas e de solo permitiram a exploração de\n",
    "culturas (açúcar, tabaco, café, algodão) valorizadas no\n",
    "mercado internacional;"
   ]
  },
  {
   "cell_type": "markdown",
   "metadata": {
    "slideshow": {
     "slide_type": "fragment"
    }
   },
   "source": [
    "(2) esses bens eram produzidos de forma mais eficiente em grandes unidades (*plantations*) escravistas;"
   ]
  },
  {
   "cell_type": "markdown",
   "metadata": {
    "slideshow": {
     "slide_type": "fragment"
    }
   },
   "source": [
    "(3) resultado: sociedades com elevada concentração de\n",
    "riqueza, de poder político e instituições altamente elitistas e\n",
    "restritivas (educacionais, acesso à terra)."
   ]
  },
  {
   "cell_type": "markdown",
   "metadata": {
    "nbpresent": {
     "id": "cb99a5b9-10b5-4d5c-bb6c-23699c0c5b07"
    },
    "slideshow": {
     "slide_type": "subslide"
    }
   },
   "source": [
    "#### <center>Destino do tráfico</center>\n",
    "\n",
    "<center><img src=\"trafico.jpeg\"></center>"
   ]
  },
  {
   "cell_type": "markdown",
   "metadata": {
    "nbpresent": {
     "id": "1a43feb9-1cad-4162-a6ad-b16662fbb6a4"
    },
    "slideshow": {
     "slide_type": "slide"
    }
   },
   "source": [
    "## América espanhola\n",
    "\n",
    "Segundo, *América Espanhola*:"
   ]
  },
  {
   "cell_type": "markdown",
   "metadata": {
    "nbpresent": {
     "id": "b7fa99c1-6023-4201-855d-d27ade6b5d84"
    },
    "slideshow": {
     "slide_type": "fragment"
    }
   },
   "source": [
    "(1) produtos também valorizados nos mercados\n",
    "internacionais;"
   ]
  },
  {
   "cell_type": "markdown",
   "metadata": {
    "nbpresent": {
     "id": "854f9e46-f876-4c95-b11f-ee637364d8cf"
    },
    "slideshow": {
     "slide_type": "fragment"
    }
   },
   "source": [
    "(2) baseou-se na organização social das comunidades\n",
    "indígenas pré-existentes;"
   ]
  },
  {
   "cell_type": "markdown",
   "metadata": {
    "slideshow": {
     "slide_type": "fragment"
    }
   },
   "source": [
    "(3) colonização distribuiu terra, trabalho nativo/cativo e\n",
    "recursos minerais para membros da elite metropolitana,\n",
    "gerando sociedade altamente desigual."
   ]
  },
  {
   "cell_type": "markdown",
   "metadata": {
    "nbpresent": {
     "id": "8dde182b-545e-464d-86aa-93633eb83d31"
    },
    "slideshow": {
     "slide_type": "slide"
    }
   },
   "source": [
    "## Colônias do norte\n",
    "\n",
    "Terceiro, *Estados Unidos e Canadá*:"
   ]
  },
  {
   "cell_type": "markdown",
   "metadata": {
    "nbpresent": {
     "id": "383dda45-dccb-4fde-a663-f4b4f94a501e"
    },
    "slideshow": {
     "slide_type": "fragment"
    }
   },
   "source": [
    "(1) Em grande parte das colônias do norte (Estados Unidos e Canadá),\n",
    "condições climáticas e do solo + escassez de trabalho favoreceram a\n",
    "produção de grãos com baixas economias de escala e pequena e\n",
    "média produção familiar."
   ]
  },
  {
   "cell_type": "markdown",
   "metadata": {
    "slideshow": {
     "slide_type": "fragment"
    }
   },
   "source": [
    "(2) No sul (EUA), as colônias adotaram trabalho escravo nas\n",
    "plantações de tabaco, arroz e algodão; ainda assim, o tamanho das\n",
    "propriedades, a participação dos escravos e a desigualdade resultante\n",
    "foram menores do que nas colônias tropicais do Caribe e Brasil."
   ]
  },
  {
   "cell_type": "markdown",
   "metadata": {
    "slideshow": {
     "slide_type": "fragment"
    }
   },
   "source": [
    "(3) Resultado: sociedades com distribuição relativamente menos\n",
    "desigual da riqueza, do poder político e instituições mais acessíveis à\n",
    "maioria da população (educacionais, terra)."
   ]
  },
  {
   "cell_type": "markdown",
   "metadata": {
    "slideshow": {
     "slide_type": "slide"
    }
   },
   "source": [
    "## Efeitos da desigualdade\n",
    "\n",
    "Instituições desenvolvidas com a relativamente menor\n",
    "desigualdade na posse da terra nas colônias do Norte foram\n",
    "mais favoráveis à participação de um segmento mais amplo da\n",
    "população (também proprietários) e a instituições e políticas\n",
    "mais inclusivas."
   ]
  },
  {
   "cell_type": "markdown",
   "metadata": {
    "slideshow": {
     "slide_type": "fragment"
    }
   },
   "source": [
    "Na análise de Engerman & Sokoloff, portanto, a desigualdade na\n",
    "propriedade da riqueza (terra, p.ex.) condiciona as instituições,\n",
    "que por sua vez tendem a reforçar a estrutura desigual."
   ]
  },
  {
   "cell_type": "markdown",
   "metadata": {
    "slideshow": {
     "slide_type": "fragment"
    }
   },
   "source": [
    "Instituições criadas sob elevada desigualdade nas colônias foram\n",
    "moldadas pelas elites, com leis e políticas públicas que\n",
    "limitaram o acesso às oportunidades econômicas às próprias\n",
    "elites."
   ]
  },
  {
   "cell_type": "markdown",
   "metadata": {
    "slideshow": {
     "slide_type": "slide"
    }
   },
   "source": [
    "## Instituições e persistência\n",
    "\n",
    "Ainda conforme Engerman & Sokoloff, instituições elitistas\n",
    "restringiram o acesso da maioria da população às oportunidades\n",
    "econômicas, com resultados econômicos negativos no longo prazo\n",
    "(renda *per capita*, mas também outros indicadores de\n",
    "desenvolvimento econômico)."
   ]
  },
  {
   "cell_type": "markdown",
   "metadata": {
    "slideshow": {
     "slide_type": "fragment"
    }
   },
   "source": [
    "Instituições elitistas – viabilizadas por restrições à participação\n",
    "política – tendem a *persistir* ao longo do tempo, por meio de políticas\n",
    "públicas que as reforçam (embora tal fato não implique que sejam\n",
    "irreversíveis)."
   ]
  },
  {
   "cell_type": "markdown",
   "metadata": {
    "slideshow": {
     "slide_type": "fragment"
    }
   },
   "source": [
    "Dois exemplos de políticas ou instituições que restringiram o acesso\n",
    "da maioria: propriedade da terra ([Homestead Act - 1862](https://en.wikipedia.org/wiki/Homestead_Acts#Homestead_Act_of_1862) x [Lei de\n",
    "Terras no Brasil - 1850](http://www.historica.arquivoestado.sp.gov.br/materias/anteriores/edicao02/materia02/)) e educação primária (descentralização\n",
    "orçamentária, educação pública de massa x escassez crônica de\n",
    "recursos, educação elitista)."
   ]
  },
  {
   "cell_type": "markdown",
   "metadata": {
    "slideshow": {
     "slide_type": "slide"
    }
   },
   "source": [
    "### Poder político\n",
    "\n",
    "Engerman & Sokoloff testam a hipótese de que a\n",
    "desigualdade inicial tende a ser reforçada pelo poder\n",
    "político das elites, que moldam as instituições em seu\n",
    "favor."
   ]
  },
  {
   "cell_type": "markdown",
   "metadata": {
    "slideshow": {
     "slide_type": "fragment"
    }
   },
   "source": [
    "Eles utilizam dados de propriedade da terra,\n",
    "direito de voto, alfabetização, entre outros."
   ]
  },
  {
   "cell_type": "markdown",
   "metadata": {
    "slideshow": {
     "slide_type": "fragment"
    }
   },
   "source": [
    "Ver a seguir os dados de direito de voto (= desigualdade do\n",
    "poder político) e alfabetização (= desigualdade na oferta de\n",
    "bens públicos)."
   ]
  },
  {
   "cell_type": "markdown",
   "metadata": {
    "slideshow": {
     "slide_type": "subslide"
    }
   },
   "source": [
    "## <center>Direito de voto</center>\n",
    "\n",
    "<center><img src=\"voto.jpeg\"></center>"
   ]
  },
  {
   "cell_type": "markdown",
   "metadata": {
    "slideshow": {
     "slide_type": "subslide"
    }
   },
   "source": [
    "## <center>Alfabetização</center>\n",
    "\n",
    "<center><img src=\"literacy.jpeg\"></center>"
   ]
  },
  {
   "cell_type": "markdown",
   "metadata": {
    "slideshow": {
     "slide_type": "subslide"
    }
   },
   "source": [
    "#### <center>Matrículas</center>\n",
    "\n",
    "<center><img src=\"matricula.jpeg\"></center>"
   ]
  },
  {
   "cell_type": "markdown",
   "metadata": {
    "nbpresent": {
     "id": "0c6ab1b8-69a6-4627-8abe-8a7936ec2cae"
    },
    "slideshow": {
     "slide_type": "slide"
    }
   },
   "source": [
    "## Questões\n",
    "\n",
    "Compare os dados de produto per capita entre as regiões\n",
    "das Américas e responda: qual o paradoxo que pode ser\n",
    "identificado entre as colônias do Norte e a América do Sul/\n",
    "Caribe?\n",
    "\n",
    "Na interpretação de Engerman & Sokoloff, qual o papel da\n",
    "desigualdade para os resultados divergentes do\n",
    "desenvolvimento nas Américas? Por que?\n",
    "\n",
    "Analise os indicadores de participação política e educação\n",
    "nas Américas. Como esses indicadores se relacionam à\n",
    "desigualdade econômica inicial das colônias?"
   ]
  }
 ],
 "metadata": {
  "celltoolbar": "Slideshow",
  "kernelspec": {
   "display_name": "Python 3",
   "language": "python",
   "name": "python3"
  },
  "language_info": {
   "codemirror_mode": {
    "name": "ipython",
    "version": 3
   },
   "file_extension": ".py",
   "mimetype": "text/x-python",
   "name": "python",
   "nbconvert_exporter": "python",
   "pygments_lexer": "ipython3",
   "version": "3.6.10"
  },
  "toc": {
   "base_numbering": 1,
   "nav_menu": {},
   "number_sections": false,
   "sideBar": true,
   "skip_h1_title": false,
   "title_cell": "Table of Contents",
   "title_sidebar": "Contents",
   "toc_cell": false,
   "toc_position": {},
   "toc_section_display": true,
   "toc_window_display": false
  }
 },
 "nbformat": 4,
 "nbformat_minor": 2
}
