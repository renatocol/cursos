{
 "cells": [
  {
   "cell_type": "markdown",
   "metadata": {
    "nbpresent": {
     "id": "452305db-662c-4b4e-aa92-79d92fa4544d"
    },
    "slideshow": {
     "slide_type": "slide"
    }
   },
   "source": [
    "# <center>História Econômica Geral I - FEA-USP</center>\n",
    "\n",
    "## <center>Aula 8 - População, Instituições e Classes</center>\n",
    "\n",
    "### <center>Renato Perim Colistete</center>\n",
    "\n",
    "\n",
    "#### <center>2021</center>"
   ]
  },
  {
   "cell_type": "markdown",
   "metadata": {
    "nbpresent": {
     "id": "1fc7160f-beb4-4997-9c3f-0553e0592605"
    },
    "slideshow": {
     "slide_type": "slide"
    }
   },
   "source": [
    "## Objetivos\n",
    "\n",
    "Nesta aula, voltamos inicialmente a alguns pontos já\n",
    "vistos sobre a indústria e a agricultura\n",
    "nas economias pré-industriais.\n",
    "\n",
    "Analisaremos, em seguida, os limites estruturais do crescimento\n",
    "econômico europeu e a persistência da armadilha\n",
    "malthusiana.\n",
    "\n",
    "Trataremos, por fim, de um evento que ilustra os limites e\n",
    "impasses da época: a Peste Negra e seus efeitos sobre a\n",
    "população e o crescimento econômico nas Idades Média e Moderna."
   ]
  },
  {
   "cell_type": "markdown",
   "metadata": {
    "nbpresent": {
     "id": "1acbc207-c8bb-4376-a328-421bbf9520c4"
    },
    "slideshow": {
     "slide_type": "slide"
    }
   },
   "source": [
    "## Protoindustrialização\n",
    "\n",
    "Apenas lembrando o conceito de “protoindústria” visto na aula\n",
    "anterior. A protoindustrialização seria um estágio anterior à (e\n",
    "distinto da) industrialização, estágio este que teria preparado o caminho\n",
    "para a fábrica/indústria moderna."
   ]
  },
  {
   "cell_type": "markdown",
   "metadata": {
    "nbpresent": {
     "id": "f3dfbdf9-fe1d-4356-9ad0-df395911e6f3"
    },
    "slideshow": {
     "slide_type": "fragment"
    }
   },
   "source": [
    "O conceito enfatiza as relações entre indústria artesanal,\n",
    "trabalho familiar, indústria rural, atividades sazonais, agricultura\n",
    "e mercados regionais."
   ]
  },
  {
   "cell_type": "markdown",
   "metadata": {
    "nbpresent": {
     "id": "bb419a40-14ab-48cd-8328-1c62b7f7bd0a"
    },
    "slideshow": {
     "slide_type": "fragment"
    }
   },
   "source": [
    "Problema: não parece ter havido relação direta entre regiões\n",
    "de protoindustrialização e sistema de fábricas/industrialização\n",
    "moderna na Europa."
   ]
  },
  {
   "cell_type": "markdown",
   "metadata": {
    "nbpresent": {
     "id": "bb88ba62-49af-4a08-a1fb-e61b66f85d5a"
    },
    "slideshow": {
     "slide_type": "slide"
    }
   },
   "source": [
    "## Economia orgânica\n",
    "\n",
    "Como seria possível caracterizar a economia pré-industrial\n",
    "européia?"
   ]
  },
  {
   "cell_type": "markdown",
   "metadata": {
    "nbpresent": {
     "id": "c4116e36-3ce7-4491-96e4-03190f4a3b72"
    },
    "slideshow": {
     "slide_type": "fragment"
    }
   },
   "source": [
    "Alguns autores a denominam de “economia orgânica” por\n",
    "depender de i) matérias-primas agrícolas e ii) da energia humana\n",
    "e animal."
   ]
  },
  {
   "cell_type": "markdown",
   "metadata": {
    "nbpresent": {
     "id": "ab6926e6-5a84-4224-ae15-863218da085c"
    },
    "slideshow": {
     "slide_type": "fragment"
    }
   },
   "source": [
    "Em 1700, cerca de 80% da população européia dedicavam-se\n",
    "às atividades agrícolas, proporção similar à observada em\n",
    "séculos anteriores."
   ]
  },
  {
   "cell_type": "markdown",
   "metadata": {
    "nbpresent": {
     "id": "13c81a42-221c-45fd-bde2-343bbcc74678"
    },
    "slideshow": {
     "slide_type": "slide"
    }
   },
   "source": [
    "## População rural\n",
    "\n",
    "No entanto, Holanda e Inglaterra eram exceções, com aproximadamente metade da população empregada na agricultura."
   ]
  },
  {
   "cell_type": "markdown",
   "metadata": {
    "nbpresent": {
     "id": "69b2baa0-ed18-483e-8653-50f0e5c1d94f"
    },
    "slideshow": {
     "slide_type": "fragment"
    }
   },
   "source": [
    "Parte da população acompanhava a natureza sazonal da agricultura, trabalhando parte do ano na agricultura,\n",
    "indústria e/ou serviços."
   ]
  },
  {
   "cell_type": "markdown",
   "metadata": {
    "nbpresent": {
     "id": "1674bcc2-8448-4b20-8203-e741d2f6048b"
    },
    "slideshow": {
     "slide_type": "fragment"
    }
   },
   "source": [
    "As taxas de urbanização eram reduzidas ainda no século\n",
    "XVIII, com apenas 12% da população vivendo em\n",
    "cidades de mais de 5 mil habitantes."
   ]
  },
  {
   "cell_type": "markdown",
   "metadata": {
    "nbpresent": {
     "id": "8b4f0472-cccb-4d13-abbd-187d93bc9309"
    },
    "slideshow": {
     "slide_type": "slide"
    }
   },
   "source": [
    "## Limites\n",
    "\n",
    "Um dos principais limites estruturais da economia pré-industrial\n",
    "européia era o baixo crescimento da produtividade. Causas:"
   ]
  },
  {
   "cell_type": "markdown",
   "metadata": {
    "nbpresent": {
     "id": "794d2206-833d-419a-b3b9-b12875162c7e"
    },
    "slideshow": {
     "slide_type": "fragment"
    }
   },
   "source": [
    "a) *trabalho*: em geral baixa qualificação, pouca ou nenhuma educação formal, subnutrição crônica, pobreza. E mais: sazonalidade agrícola, quebras de safra, alta concentração de riqueza e renda."
   ]
  },
  {
   "cell_type": "markdown",
   "metadata": {
    "slideshow": {
     "slide_type": "fragment"
    }
   },
   "source": [
    "b) *tecnologia*: rudimentar na agricultura, com exceção de Holanda, Flandres, Inglaterra e algumas regiões da França. Na manufatura, trabalho qualificado (guildas) empregado na produção de bens de luxo."
   ]
  },
  {
   "cell_type": "markdown",
   "metadata": {
    "slideshow": {
     "slide_type": "subslide"
    }
   },
   "source": [
    "c) *transportes*: estradas em geral precárias, com custos de transporte elevados, limitando a circulação de bens e pessoas.\n",
    "Mercados fragmentados e regionalizados."
   ]
  },
  {
   "cell_type": "markdown",
   "metadata": {
    "slideshow": {
     "slide_type": "fragment"
    }
   },
   "source": [
    "As limitações ao crescimento da produtividade mantiveram\n",
    "a economia pré-industrial sujeita aos efeitos do crescimento\n",
    "populacional além dos recursos disponíveis – na\n",
    "agricultura, sobretudo."
   ]
  },
  {
   "cell_type": "markdown",
   "metadata": {
    "nbpresent": {
     "id": "cb99a5b9-10b5-4d5c-bb6c-23699c0c5b07"
    },
    "slideshow": {
     "slide_type": "slide"
    }
   },
   "source": [
    "## Oferta agrícola e fome \n",
    "\n",
    "A expansão da oferta agrícola continuou sendo um fator decisivo para o crescimento da renda e a expansão\n",
    "demográfica."
   ]
  },
  {
   "cell_type": "markdown",
   "metadata": {
    "nbpresent": {
     "id": "43701764-6778-49fa-883b-9c1b678f6d67"
    },
    "slideshow": {
     "slide_type": "fragment"
    }
   },
   "source": [
    "Crises na produção agrícola e escassez de alimentos foram recorrentes na Europa em todo este período."
   ]
  },
  {
   "cell_type": "markdown",
   "metadata": {
    "nbpresent": {
     "id": "1f3a2dee-722b-4a1b-a236-69b92463b751"
    },
    "slideshow": {
     "slide_type": "fragment"
    }
   },
   "source": [
    "Uma das mais notáveis crises foi a fome que atingiu a\n",
    "Europa Ocidental nos anos 1314-1317."
   ]
  },
  {
   "cell_type": "markdown",
   "metadata": {
    "nbpresent": {
     "id": "1a43feb9-1cad-4162-a6ad-b16662fbb6a4"
    },
    "slideshow": {
     "slide_type": "slide"
    }
   },
   "source": [
    "## Malthus?\n",
    "\n",
    "Uma interpretação clássica sustenta que, em meados do século XIV, a situação econômica na Europa era tipicamente aquela prevista pela “armadilha malthusiana”."
   ]
  },
  {
   "cell_type": "markdown",
   "metadata": {
    "nbpresent": {
     "id": "b7fa99c1-6023-4201-855d-d27ade6b5d84"
    },
    "slideshow": {
     "slide_type": "fragment"
    }
   },
   "source": [
    "Oferta agrícola limitada e instável, escassez de alimentos e fome colocaram em xeque a expansão demográfica."
   ]
  },
  {
   "cell_type": "markdown",
   "metadata": {
    "nbpresent": {
     "id": "854f9e46-f876-4c95-b11f-ee637364d8cf"
    },
    "slideshow": {
     "slide_type": "fragment"
    }
   },
   "source": [
    "Da mesma maneira, o crescimento econômico foi colocado em xeque a partir da própria natureza limitada dos recursos e pela pressão demográfica."
   ]
  },
  {
   "cell_type": "markdown",
   "metadata": {
    "slideshow": {
     "slide_type": "slide"
    }
   },
   "source": [
    "## Mudança climática?\n",
    "\n",
    "Uma outra interpretação destaca a mudança climática ocorrida já no final do século XIII, com redução da temperatura média na Europa."
   ]
  },
  {
   "cell_type": "markdown",
   "metadata": {
    "slideshow": {
     "slide_type": "fragment"
    }
   },
   "source": [
    "A alteração climática teria afetado negativamente safras agrícolas, aumentado a proliferação de doenças em rebanhos e tornado ainda mais frágeis as condições de subsistência."
   ]
  },
  {
   "cell_type": "markdown",
   "metadata": {
    "slideshow": {
     "slide_type": "fragment"
    }
   },
   "source": [
    "Igualmente, a mudança ambiental favoreceu a disseminação de doenças entre a população humana."
   ]
  },
  {
   "cell_type": "markdown",
   "metadata": {
    "slideshow": {
     "slide_type": "subslide"
    }
   },
   "source": [
    "De qualquer forma, a situação na Europa medieval ganhou contornos dramáticos com um fato determinado seja por suas condições endógenas (a la Malthus) ou por causas exógenas (choque climático): a Peste Negra."
   ]
  },
  {
   "cell_type": "markdown",
   "metadata": {
    "nbpresent": {
     "id": "8dde182b-545e-464d-86aa-93633eb83d31"
    },
    "slideshow": {
     "slide_type": "slide"
    }
   },
   "source": [
    "## Peste Negra\n",
    "\n",
    "A Peste Negra chegou à Europa em 1347, possivelmente por\n",
    "meio de um navio oriundo do Mar Negro (sudeste da Ásia)\n",
    "que aportou em Gênova."
   ]
  },
  {
   "cell_type": "markdown",
   "metadata": {
    "nbpresent": {
     "id": "383dda45-dccb-4fde-a663-f4b4f94a501e"
    },
    "slideshow": {
     "slide_type": "fragment"
    }
   },
   "source": [
    "A peste bubônica/pneumônica/septicêmica, trazida com\n",
    "ratos contaminados no navio, expandiu-se rapidamente por\n",
    "toda a Europa."
   ]
  },
  {
   "cell_type": "markdown",
   "metadata": {
    "slideshow": {
     "slide_type": "fragment"
    }
   },
   "source": [
    "O auge da peste foi já em 1348 e, ao final de 4 anos, 1/3 da\n",
    "população européia foi dizimada, isto é, 25 milhões de um\n",
    "total de 80 milhões de habitantes. No mundo todo, estimam-se\n",
    "cerca de 70 milhões de mortes. Outros surtos ocorreram até o\n",
    "século XVIII."
   ]
  },
  {
   "cell_type": "markdown",
   "metadata": {
    "slideshow": {
     "slide_type": "subslide"
    }
   },
   "source": [
    "## <center>Propagação da Peste</center>\n",
    "\n",
    "<center><img src=\"peste_a.jpeg\"></center>"
   ]
  },
  {
   "cell_type": "markdown",
   "metadata": {
    "slideshow": {
     "slide_type": "subslide"
    }
   },
   "source": [
    "## <center>O mapa da Peste</center>\n",
    "\n",
    "<center><img src=\"peste_b.jpeg\"></center>"
   ]
  },
  {
   "cell_type": "markdown",
   "metadata": {
    "slideshow": {
     "slide_type": "slide"
    }
   },
   "source": [
    "## Efeitos\n",
    "\n",
    "Grandes cidades foram devastadas: metade da população\n",
    "(100.000 pessoas) de Paris; 60% da população de Hamburgo;\n",
    "idem em Florença."
   ]
  },
  {
   "cell_type": "markdown",
   "metadata": {
    "slideshow": {
     "slide_type": "fragment"
    }
   },
   "source": [
    "Cem anos depois a Europa ainda não havia alcançado a\n",
    "população de antes da Peste. Foi somente no início do século\n",
    "XVI que a população européia voltou ao seu nível pré-Peste\n",
    "Negra."
   ]
  },
  {
   "cell_type": "markdown",
   "metadata": {
    "slideshow": {
     "slide_type": "fragment"
    }
   },
   "source": [
    "Já no século XIV iniciou-se uma nova fase de expansão\n",
    "demográfica e econômica, além de artística e científica – o\n",
    "Renascimento."
   ]
  },
  {
   "cell_type": "markdown",
   "metadata": {
    "slideshow": {
     "slide_type": "slide"
    }
   },
   "source": [
    "## A \"Crise Geral\"\n",
    "\n",
    "Uma nova retração (a “crise geral”) na Europa ocorreu\n",
    "entre o final do século XVI e meados do século XVII."
   ]
  },
  {
   "cell_type": "markdown",
   "metadata": {
    "slideshow": {
     "slide_type": "fragment"
    }
   },
   "source": [
    "Guerras, fome e epidemias novamente atingiram a região,\n",
    "com cerca de 20% da população européia sendo dizimada."
   ]
  },
  {
   "cell_type": "markdown",
   "metadata": {
    "slideshow": {
     "slide_type": "fragment"
    }
   },
   "source": [
    "Mas essa crise foi menos profunda e duradoura do que a\n",
    "do século XIV. No início do século XVIII a recuperação\n",
    "econômica e demográfica já havia se consolidado."
   ]
  },
  {
   "cell_type": "markdown",
   "metadata": {
    "slideshow": {
     "slide_type": "slide"
    }
   },
   "source": [
    "## Em síntese\n",
    "\n",
    "Como poderia então ser caracterizada a economia\n",
    "pré-industrial européia?"
   ]
  },
  {
   "cell_type": "markdown",
   "metadata": {
    "slideshow": {
     "slide_type": "fragment"
    }
   },
   "source": [
    "- inovações técnicas e organizacionais foram importantes mas\n",
    "limitadas setorial e regionalmente;"
   ]
  },
  {
   "cell_type": "markdown",
   "metadata": {
    "slideshow": {
     "slide_type": "fragment"
    }
   },
   "source": [
    "- difusão das inovações foi lenta, gradual e limitada, não\n",
    "revolucionando o conjunto da estrutura econômica;"
   ]
  },
  {
   "cell_type": "markdown",
   "metadata": {
    "slideshow": {
     "slide_type": "fragment"
    }
   },
   "source": [
    "- ou seja, as economias pré-industriais eram “frágeis, instáveis e\n",
    "sujeitas a crises recorrentes, de forma que o seu crescimento\n",
    "somente poderia ser lento e irregular” (Crouzet)."
   ]
  },
  {
   "cell_type": "markdown",
   "metadata": {
    "nbpresent": {
     "id": "0c6ab1b8-69a6-4627-8abe-8a7936ec2cae"
    },
    "slideshow": {
     "slide_type": "slide"
    }
   },
   "source": [
    "## Questões\n",
    "\n",
    "Como poderia ser descrita sinteticamente a economia pré-\n",
    "industrial europeia em termos de seus setores econômicos\n",
    "principais e seu ritmo de desenvolvimento?\n",
    "\n",
    "A visão tradicional da economia medieval europeia enfatizou\n",
    "a estagnação e as crises. Mas qual foi o peso das inovações\n",
    "tecnológicas na agricultura e na manufatura no período? Seus\n",
    "resultados alteram ou qualificam essa visão tradicional?\n",
    "\n",
    "Descreva o efeito dos choques populacionais, como a Peste\n",
    "Negra, na economia pré-industrial europeia. Como foi possível\n",
    "que seus efeitos tenham se atenuado ao longo do tempo?"
   ]
  }
 ],
 "metadata": {
  "celltoolbar": "Slideshow",
  "kernelspec": {
   "display_name": "Python 3",
   "language": "python",
   "name": "python3"
  },
  "language_info": {
   "codemirror_mode": {
    "name": "ipython",
    "version": 3
   },
   "file_extension": ".py",
   "mimetype": "text/x-python",
   "name": "python",
   "nbconvert_exporter": "python",
   "pygments_lexer": "ipython3",
   "version": "3.9.1"
  },
  "toc": {
   "base_numbering": 1,
   "nav_menu": {},
   "number_sections": false,
   "sideBar": true,
   "skip_h1_title": false,
   "title_cell": "Table of Contents",
   "title_sidebar": "Contents",
   "toc_cell": false,
   "toc_position": {},
   "toc_section_display": true,
   "toc_window_display": false
  }
 },
 "nbformat": 4,
 "nbformat_minor": 2
}
