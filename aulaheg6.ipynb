{
 "cells": [
  {
   "cell_type": "markdown",
   "metadata": {
    "nbpresent": {
     "id": "452305db-662c-4b4e-aa92-79d92fa4544d"
    },
    "slideshow": {
     "slide_type": "slide"
    }
   },
   "source": [
    "# <center>História Econômica Geral I - FEA-USP</center>\n",
    "\n",
    "## <center>Aula 6 - O Atraso Chinês e a Grande Divergência</center>\n",
    "\n",
    "### <center>Renato Perim Colistete</center>\n",
    "\n",
    "\n",
    "#### <center>2020</center>"
   ]
  },
  {
   "cell_type": "markdown",
   "metadata": {
    "nbpresent": {
     "id": "1fc7160f-beb4-4997-9c3f-0553e0592605"
    },
    "slideshow": {
     "slide_type": "slide"
    }
   },
   "source": [
    "## Objetivos\n",
    "\n",
    "Trataremos nesta aula do atraso relativo da China diante\n",
    "da Europa, sobretudo a partir de 1800.\n",
    "\n",
    "Para ilustrar a discussão do tema, vamos examinar\n",
    "algumas interpretações sobre as causas da incapacidade\n",
    "da economia chinesa de prosseguir em sua notável\n",
    "trajetória de desenvolvimento.\n",
    "\n",
    "Duas hipóteses serão destacadas, complementadas por\n",
    "outras duas."
   ]
  },
  {
   "cell_type": "markdown",
   "metadata": {
    "nbpresent": {
     "id": "1acbc207-c8bb-4376-a328-421bbf9520c4"
    },
    "slideshow": {
     "slide_type": "slide"
    }
   },
   "source": [
    "## Reversão\n",
    "\n",
    "Após declínio do crescimento econômico iniciado em\n",
    "meados do século XIV, a China voltou a crescer a partir de\n",
    "*c*. 1550, porém com características distintas do passado."
   ]
  },
  {
   "cell_type": "markdown",
   "metadata": {
    "nbpresent": {
     "id": "f3dfbdf9-fe1d-4356-9ad0-df395911e6f3"
    },
    "slideshow": {
     "slide_type": "fragment"
    }
   },
   "source": [
    "Ao mesmo tempo que a China atingiu o auge de seu\n",
    "desenvolvimento tecnológico no século XIV, o crescimento\n",
    "posterior deixou de ser acompanhado por inovações\n",
    "substanciais como antes."
   ]
  },
  {
   "cell_type": "markdown",
   "metadata": {
    "nbpresent": {
     "id": "bb419a40-14ab-48cd-8328-1c62b7f7bd0a"
    },
    "slideshow": {
     "slide_type": "fragment"
    }
   },
   "source": [
    "Há diversas hipóteses para o atraso relativo da China após\n",
    "séculos de crescimento e desenvolvimento tecnológico."
   ]
  },
  {
   "cell_type": "markdown",
   "metadata": {
    "nbpresent": {
     "id": "bb88ba62-49af-4a08-a1fb-e61b66f85d5a"
    },
    "slideshow": {
     "slide_type": "slide"
    }
   },
   "source": [
    "## Explicações\n",
    "\n",
    "Uma das explicações enfatiza dois fatores no período\n",
    "pré-1800: a) dotação de recursos naturais e b) restrição de\n",
    "mercados externos."
   ]
  },
  {
   "cell_type": "markdown",
   "metadata": {
    "nbpresent": {
     "id": "c4116e36-3ce7-4491-96e4-03190f4a3b72"
    },
    "slideshow": {
     "slide_type": "fragment"
    }
   },
   "source": [
    "O papel dos recursos naturais se baseia no contra-exemplo\n",
    "da Inglaterra séculos depois. Ao contrário da Europa, a China\n",
    "não fez a transição para o uso intensivo de combustível fóssil\n",
    "(carvão, no caso)."
   ]
  },
  {
   "cell_type": "markdown",
   "metadata": {
    "nbpresent": {
     "id": "ab6926e6-5a84-4224-ae15-863218da085c"
    },
    "slideshow": {
     "slide_type": "fragment"
    }
   },
   "source": [
    "A hipótese ressalta a distância (no caso da China) das\n",
    "reservas de carvão mineral dos centros urbanos e artesanais."
   ]
  },
  {
   "cell_type": "markdown",
   "metadata": {
    "nbpresent": {
     "id": "13c81a42-221c-45fd-bde2-343bbcc74678"
    },
    "slideshow": {
     "slide_type": "slide"
    }
   },
   "source": [
    "## Energia a vapor\n",
    "\n",
    "Qual a importância do carvão mineral? Na Inglaterra, o\n",
    "desmatamento induziu a busca de fontes alternativas ao carvão\n",
    "vegetal, o que foi facilitado pelas grandes reservas disponíveis de\n",
    "carvão mineral."
   ]
  },
  {
   "cell_type": "markdown",
   "metadata": {
    "nbpresent": {
     "id": "69b2baa0-ed18-483e-8653-50f0e5c1d94f"
    },
    "slideshow": {
     "slide_type": "fragment"
    }
   },
   "source": [
    "A exploração intensiva das minas fez com que o carvão mineral\n",
    "passasse a ser encontrado apenas em profundidades cada vez\n",
    "maiores, com as minas sendo inundadas com água."
   ]
  },
  {
   "cell_type": "markdown",
   "metadata": {
    "nbpresent": {
     "id": "1674bcc2-8448-4b20-8203-e741d2f6048b"
    },
    "slideshow": {
     "slide_type": "fragment"
    }
   },
   "source": [
    "Foi aí que surgiram na Inglaterra as tentativas de resolver o problema\n",
    "técnico, sendo uma delas bem-sucedida: a máquina a vapor com\n",
    "pistão ([Thomas Newcomen](https://en.wikipedia.org/wiki/Thomas_Newcomen), 1712) para bombear água das galerias\n",
    "das minas, viabilizando a continuidade da exploração de carvão."
   ]
  },
  {
   "cell_type": "markdown",
   "metadata": {
    "nbpresent": {
     "id": "8b4f0472-cccb-4d13-abbd-187d93bc9309"
    },
    "slideshow": {
     "slide_type": "slide"
    }
   },
   "source": [
    "## Vapor e fábricas na Inglaterra \n",
    "\n",
    "Inicialmente empregada nas minas de carvão, a máquina a vapor seria\n",
    "aperfeiçoada para uso mais amplo, podendo ser instalada em\n",
    "fábricas e depois no setor de transporte (locomotivas, navios)."
   ]
  },
  {
   "cell_type": "markdown",
   "metadata": {
    "nbpresent": {
     "id": "794d2206-833d-419a-b3b9-b12875162c7e"
    },
    "slideshow": {
     "slide_type": "fragment"
    }
   },
   "source": [
    "O marco nessa aplicação industrial mais ampla foi a máquina a\n",
    "vapor de movimento rotativo desenvolvida por [James Watt](https://en.wikipedia.org/wiki/James_Watt) (*c*.\n",
    "1781)."
   ]
  },
  {
   "cell_type": "markdown",
   "metadata": {
    "nbpresent": {
     "id": "c5cb9041-13bb-4f74-a70c-dbb306763b20"
    },
    "slideshow": {
     "slide_type": "fragment"
    }
   },
   "source": [
    "A máquina a vapor de Watt podia ser instalada em qualquer\n",
    "local que possuísse água e carvão (mineral ou vegetal),\n",
    "incluindo fábricas têxteis e metalúrgicas (veremos a invenção de\n",
    "Watt em uma aula adiante)."
   ]
  },
  {
   "cell_type": "markdown",
   "metadata": {
    "nbpresent": {
     "id": "cb99a5b9-10b5-4d5c-bb6c-23699c0c5b07"
    },
    "slideshow": {
     "slide_type": "slide"
    }
   },
   "source": [
    "## E na China?\n",
    "\n",
    "O argumento é que a peculiar dotação de recursos (carvão\n",
    "mineral), a localização próxima a centros urbanos, mais a\n",
    "engenhosidade dos mecânicos na Inglaterra, geraram\n",
    "externalidades que levaram a transformações radicais nas\n",
    "fábricas e nos transportes – a Revolução Industrial."
   ]
  },
  {
   "cell_type": "markdown",
   "metadata": {
    "nbpresent": {
     "id": "43701764-6778-49fa-883b-9c1b678f6d67"
    },
    "slideshow": {
     "slide_type": "fragment"
    }
   },
   "source": [
    "Em contraposição, as condições existentes na China não\n",
    "favoreceram um desenvolvimento similar."
   ]
  },
  {
   "cell_type": "markdown",
   "metadata": {
    "nbpresent": {
     "id": "1f3a2dee-722b-4a1b-a236-69b92463b751"
    },
    "slideshow": {
     "slide_type": "fragment"
    }
   },
   "source": [
    "Pelo contrário, as reservas de carvão mineral eram dispersas e\n",
    "distantes, não sendo exploradas de maneira sistemática e daí não\n",
    "gerando externalidades semelhantes às observadas na Inglaterra."
   ]
  },
  {
   "cell_type": "markdown",
   "metadata": {
    "nbpresent": {
     "id": "1a43feb9-1cad-4162-a6ad-b16662fbb6a4"
    },
    "slideshow": {
     "slide_type": "slide"
    }
   },
   "source": [
    "## Comércio\n",
    "\n",
    "Outro fator teria sido a limitada expansão do comércio externo. A China\n",
    "permaneceu vinculada às rotas tradicionais de comércio (Ásia, norte da Áfirca, parte da\n",
    "Europa), que embora extensas, cresciam lentamente."
   ]
  },
  {
   "cell_type": "markdown",
   "metadata": {
    "nbpresent": {
     "id": "b7fa99c1-6023-4201-855d-d27ade6b5d84"
    },
    "slideshow": {
     "slide_type": "fragment"
    }
   },
   "source": [
    "A Europa ocidental, por sua vez, desde o final do século XV, passou a\n",
    "contar – nas colônias das Américas – com novas fontes de metais\n",
    "preciosos, matérias-primas e alimentos, explorados com trabalho nativo\n",
    "e africano. Por outro lado, as colônias tornaram-se mercados para as\n",
    "manufaturas europeias."
   ]
  },
  {
   "cell_type": "markdown",
   "metadata": {
    "nbpresent": {
     "id": "854f9e46-f876-4c95-b11f-ee637364d8cf"
    },
    "slideshow": {
     "slide_type": "fragment"
    }
   },
   "source": [
    "Novos produtos e mercados permitiram a) elevar o consumo europeu\n",
    "em níveis muito superiores aos possibilitados com recursos locais, b) e\n",
    "ampliar seus mercados para além das economias regionais."
   ]
  },
  {
   "cell_type": "markdown",
   "metadata": {
    "nbpresent": {
     "id": "8dde182b-545e-464d-86aa-93633eb83d31"
    },
    "slideshow": {
     "slide_type": "slide"
    }
   },
   "source": [
    "## Governo e ideias\n",
    "\n",
    "Outras explicações (complementares) incluem, por exemplo, o\n",
    "crescente isolamento praticado pelos governos imperiais a partir da\n",
    "dinastia [Ming](https://en.wikipedia.org/wiki/Ming_dynasty) (1368-1644)."
   ]
  },
  {
   "cell_type": "markdown",
   "metadata": {
    "nbpresent": {
     "id": "383dda45-dccb-4fde-a663-f4b4f94a501e"
    },
    "slideshow": {
     "slide_type": "fragment"
    }
   },
   "source": [
    "O isolamento teria se dado especialmente via controle do comércio\n",
    "externo por um governo autoritário, que teria inibido o\n",
    "desenvolvimento de uma classe mercantil forte e a diversificação\n",
    "de investimentos."
   ]
  },
  {
   "cell_type": "markdown",
   "metadata": {
    "slideshow": {
     "slide_type": "fragment"
    }
   },
   "source": [
    "Outra explicação destaca a mudança de visão sobre a natureza,\n",
    "com o desenvolvimento de uma filosofia neo-confucionista\n",
    "introspectiva e especulativa, ao contrário da visão de mundo taoísta\n",
    "(investigação, experimentação)."
   ]
  },
  {
   "cell_type": "markdown",
   "metadata": {
    "slideshow": {
     "slide_type": "subslide"
    }
   },
   "source": [
    "Mapa e texto resumido da dinastia Ming, [aqui](https://www.iro.umontreal.ca/~vaucher/History/Asia/ChinaOverview.html#mongols)."
   ]
  },
  {
   "cell_type": "markdown",
   "metadata": {
    "slideshow": {
     "slide_type": "slide"
    }
   },
   "source": [
    "## Armadilha\n",
    "\n",
    "Em suma, há diferentes hipóteses concorrentes, com pouca\n",
    "concordância quanto aos fatores determinantes da estagnação\n",
    "relativa da China pós-século XIV."
   ]
  },
  {
   "cell_type": "markdown",
   "metadata": {
    "slideshow": {
     "slide_type": "fragment"
    }
   },
   "source": [
    "Mark Elvin descreve essa situação como uma “armadilha de\n",
    "equilíbrio de alto nível”. Mesmo tendo a China imperial alcançado\n",
    "elevado desenvolvimento material e institucional, a partir de certo\n",
    "período os incentivos para a busca de inovações radicais\n",
    "declinaram."
   ]
  },
  {
   "cell_type": "markdown",
   "metadata": {
    "slideshow": {
     "slide_type": "fragment"
    }
   },
   "source": [
    "O progresso técnico continuou, mas apenas no ritmo compatível\n",
    "com o crescimento vegetativo da população – sem saltos e sem\n",
    "condições de acompanhar o rápido desenvolvimento da Europa a\n",
    "partir de 1750."
   ]
  },
  {
   "cell_type": "markdown",
   "metadata": {
    "nbpresent": {
     "id": "0c6ab1b8-69a6-4627-8abe-8a7936ec2cae"
    },
    "slideshow": {
     "slide_type": "slide"
    }
   },
   "source": [
    "## Questões\n",
    "\n",
    "Avalie a situação da China quanto à dotação de fatores. Como\n",
    "esse último aspecto pode ter sido decisivo para a estagnação\n",
    "do crescimento chinês?\n",
    "\n",
    "Há teorias que enfatizam o papel da expansão dos mercados\n",
    "para o desenvolvimento econômico. Como a situação dos\n",
    "mercados externos pode ter afetado a economia chinesa no\n",
    "longo prazo?\n",
    "\n",
    "A atuação do Estado foi aparentemente favorável ao\n",
    "desenvolvimento econômico chinês por vários séculos. Por que\n",
    "essa situação pode ter se invertido a partir da dinastia Ming?"
   ]
  }
 ],
 "metadata": {
  "celltoolbar": "Slideshow",
  "kernelspec": {
   "display_name": "Python 3",
   "language": "python",
   "name": "python3"
  },
  "language_info": {
   "codemirror_mode": {
    "name": "ipython",
    "version": 3
   },
   "file_extension": ".py",
   "mimetype": "text/x-python",
   "name": "python",
   "nbconvert_exporter": "python",
   "pygments_lexer": "ipython3",
   "version": "3.6.10"
  },
  "toc": {
   "base_numbering": 1,
   "nav_menu": {},
   "number_sections": false,
   "sideBar": true,
   "skip_h1_title": false,
   "title_cell": "Table of Contents",
   "title_sidebar": "Contents",
   "toc_cell": false,
   "toc_position": {},
   "toc_section_display": true,
   "toc_window_display": false
  }
 },
 "nbformat": 4,
 "nbformat_minor": 2
}
