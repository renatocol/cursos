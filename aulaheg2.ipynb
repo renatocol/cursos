{
 "cells": [
  {
   "cell_type": "markdown",
   "metadata": {
    "slideshow": {
     "slide_type": "slide"
    }
   },
   "source": [
    "# <center>História Econômica Geral - FEA-USP</center>\n",
    "\n",
    "## <center>Aula 2 - O que é História Econômica?</center>\n",
    "\n",
    "### <center>Renato Perim Colistete</center>\n",
    "\n",
    "\n",
    "#### <center>2018</center>\n",
    "\n",
    "<center>Ver programa de curso e leituras</center>\n",
    "<center>(https://renatocolistete.wordpress.com/cursos/hegi/)</center>   \n",
    "<center>Contato via e-mail *<rcolistete@usp.br>*<center>"
   ]
  },
  {
   "cell_type": "markdown",
   "metadata": {
    "slideshow": {
     "slide_type": "slide"
    }
   },
   "source": [
    " ## Objetivos\n",
    "\n",
    "Nesta primeira aula, apresentaremos questões conceituais\n",
    "e metodológicas que ajudarão a contextualizar os temas\n",
    "discutidos ao longo do curso.\n",
    "\n",
    "\n",
    "Inicialmente introduziremos definições e diferentes perspectivas\n",
    "no estudo da história econômica. Uma questão central a que\n",
    "daremos atenção especial: como se dá a relação entre Economia e\n",
    "História?\n",
    "\n",
    "\n",
    "Em seguida, abordaremos os vínculos entre teoria e evidências\n",
    "na disciplina. E mais especificamente: qual o papel das fontes e\n",
    "dos dados (quantitativos e qualitativos) para a História\n",
    "Econômica?"
   ]
  },
  {
   "cell_type": "markdown",
   "metadata": {
    "slideshow": {
     "slide_type": "slide"
    }
   },
   "source": [
    "## Definição\n",
    "\n",
    "Começamos com uma pergunta óbvia, mas não tão simples: o\n",
    "que é História Econômica?\n"
   ]
  },
  {
   "cell_type": "markdown",
   "metadata": {
    "slideshow": {
     "slide_type": "fragment"
    }
   },
   "source": [
    "Uma possível definição, ainda que excessivamente geral:    "
   ]
  },
  {
   "cell_type": "markdown",
   "metadata": {
    "slideshow": {
     "slide_type": "fragment"
    }
   },
   "source": [
    "história econômica é uma disciplina que tem por objeto o estudo \n",
    "\n",
    "  a. das formas de produção e distribuição da riqueza social e     \n",
    "  b. das causas e consequências do crescimento econômico na história."
   ]
  },
  {
   "cell_type": "markdown",
   "metadata": {
    "slideshow": {
     "slide_type": "slide"
    }
   },
   "source": [
    "## Temas\n",
    "\n",
    "Pode-se ter uma ideia menos vaga do que é História\n",
    "Econômica considerando temas típicos de investigação da disciplina, em diferentes lugares e períodos:"
   ]
  },
  {
   "cell_type": "markdown",
   "metadata": {
    "slideshow": {
     "slide_type": "fragment"
    }
   },
   "source": [
    "a. os tipos de bens e serviços produzidos;    \n",
    "\n",
    "b. formas de organizar e financiar a produção;    \n",
    "\n",
    "c. o grau de eficiência (e produtividade) dos métodos de produção;"
   ]
  },
  {
   "cell_type": "markdown",
   "metadata": {
    "slideshow": {
     "slide_type": "subslide"
    }
   },
   "source": [
    "d) a relação entre os setores econômicos (agricultura, indústria,\n",
    "comércio e serviços);\n",
    "\n",
    "\n",
    "e) como a renda e a riqueza foram distribuídas;\n",
    "\n",
    "\n",
    "f) as relações entre grupos sociais e a economia;\n",
    "\n",
    "\n",
    "g) o papel do Estado, das leis, das ideias;\n",
    "\n",
    "\n",
    "i) o desenvolvimento tecnológico;\n",
    "\n",
    "\n",
    "j) as descontinuidades e rupturas, na forma de crises e mudanças na\n",
    "organização econômica"
   ]
  },
  {
   "cell_type": "markdown",
   "metadata": {
    "slideshow": {
     "slide_type": "slide"
    }
   },
   "source": [
    "## Temas clássicos\n",
    "\n",
    "Os temas citados anteriormente são clássicos da história econômica\n",
    "desde pelo menos o século XIX."
   ]
  },
  {
   "cell_type": "markdown",
   "metadata": {
    "slideshow": {
     "slide_type": "fragment"
    }
   },
   "source": [
    "Esses temas têm sido geralmente estudados em conjunturas particulares (Revolução Industrial, Grande Depressão), considerando países específicos ou comparando diferentes países e regiões."
   ]
  },
  {
   "cell_type": "markdown",
   "metadata": {
    "slideshow": {
     "slide_type": "fragment"
    }
   },
   "source": [
    "> Ver p.ex. [Arnold Toynbee](https://en.wikipedia.org/wiki/Arnold_J._Toynbee), *[Lectures on the Industrial\n",
    "Revolution](https://babel.hathitrust.org/cgi/pt?id=coo1.ark:/13960/t7dr3ff87;view=1up;seq=7)*, 1884.\n",
    "\n",
    "<center>![Lectures](https://assets.cambridge.org/97811080/36498/cover/9781108036498.jpg)</center>"
   ]
  },
  {
   "cell_type": "markdown",
   "metadata": {
    "slideshow": {
     "slide_type": "slide"
    }
   },
   "source": [
    "## Teorias e Métodos\n",
    "\n",
    "Quais são os métodos e teorias utilizados na história\n",
    "econômica?"
   ]
  },
  {
   "cell_type": "markdown",
   "metadata": {
    "slideshow": {
     "slide_type": "fragment"
    }
   },
   "source": [
    "\n",
    "A história econômica é por definição interdisciplinar, ou seja,\n",
    "ela cruza e utiliza várias disciplinas, especialmente Economia e\n",
    "História, mas também outras, como Ciência Política,\n",
    "Sociologia, Antropologia e Estatística."
   ]
  },
  {
   "cell_type": "markdown",
   "metadata": {
    "slideshow": {
     "slide_type": "fragment"
    }
   },
   "source": [
    "Assim, teorias, métodos e técnicas empregados na História\n",
    "Econômica refletem a diversidade tanto dos objetos quanto das\n",
    "disciplinas em que se baseia."
   ]
  },
  {
   "cell_type": "markdown",
   "metadata": {
    "slideshow": {
     "slide_type": "slide"
    }
   },
   "source": [
    "## Economia e História Econômica\n",
    "\n",
    "E a relação entre economia e história econômica? A resposta\n",
    "depende da definição dada a cada uma das partes – economia e\n",
    "história. Por exemplo, se a Economia é pensada como a elaboração\n",
    "de *modelos analíticos contingentes* ([Solow](https://en.wikipedia.org/wiki/Robert_Solow)), então a História\n",
    "Econômica é essencial (na Economia) para recriar contexto, sugerir e\n",
    "avaliar hipóteses, reformular teorias."
   ]
  },
  {
   "cell_type": "markdown",
   "metadata": {
    "slideshow": {
     "slide_type": "fragment"
    }
   },
   "source": [
    "Se, porém, a economia é vista como a formulação de axiomas e\n",
    "proposições com o fim de elaborar um *modelo único e universal*, a\n",
    "interação com a história econômica é irrelevante."
   ]
  },
  {
   "cell_type": "markdown",
   "metadata": {
    "slideshow": {
     "slide_type": "fragment"
    }
   },
   "source": [
    "Por outro lado, se a história econômica for também estudada a\n",
    "partir de uma teoria ou modelo universal, \n",
    "\n",
    "> “o historiador econômico é\n",
    "apenas um economista com alta tolerância à poeira”(Solow)."
   ]
  },
  {
   "cell_type": "markdown",
   "metadata": {
    "slideshow": {
     "slide_type": "slide"
    }
   },
   "source": [
    "## História e Economia\n",
    "\n",
    "Vê-se que a simples definição do que é história econômica e\n",
    "seu campo de estudo já é algo controverso (mas historiadores\n",
    "econômicos não costumam ficar sem dormir por isso).\n",
    "\n",
    "Em parte, essa relativa ambiguidade deve-se às características\n",
    "das disciplinas de História e Economia.\n",
    "\n",
    "Ambas são bastante distintas em seus métodos e objetos,\n",
    "sobretudo devido ao fato de a economia, no pós-guerra, ter se\n",
    "tornado crescentemente uma ciência dedutiva e axiomática."
   ]
  },
  {
   "cell_type": "markdown",
   "metadata": {
    "slideshow": {
     "slide_type": "slide"
    }
   },
   "source": [
    "## Economia institucional\n",
    "\n",
    "Recentemente, novos desenvolvimentos na economia (via sobretudo\n",
    "história econômica) reaproximaram as duas áreas. O reencontro da\n",
    "economia com a história, depois de uma longa separação, foi em\n",
    "grande medida motivada pelos trabalhos da nova história econômica\n",
    "institucional."
   ]
  },
  {
   "cell_type": "markdown",
   "metadata": {
    "slideshow": {
     "slide_type": "fragment"
    }
   },
   "source": [
    "Os principais representantes incluem [Douglass North](https://en.wikipedia.org/wiki/Douglass_North), Lance Davis,\n",
    "Avner Greif, Elinor Ostrom entre outros, mas foi North quem estabeleceu\n",
    "os fundamentos da nova abordagem em sucessivos trabalhos."
   ]
  },
  {
   "cell_type": "markdown",
   "metadata": {
    "slideshow": {
     "slide_type": "subslide"
    }
   },
   "source": [
    "Três ideias básicas: \n",
    "\n",
    "   a) instituições importam; \n",
    "   \n",
    "   b) instituições são regras do jogo, formais e informais;\n",
    "   \n",
    "   c) instituições definem incentivos em que\n",
    "a atividade política/econômica é canalizada em atividades produtivas\n",
    "ou improdutivas (*rent-seeking*, predatórias)."
   ]
  },
  {
   "cell_type": "markdown",
   "metadata": {
    "slideshow": {
     "slide_type": "slide"
    }
   },
   "source": [
    "## Métodos\n",
    "\n",
    "Em particular, os historiadores econômicos extraem da\n",
    "história a valorização das fontes primárias, o rigor e a atitude\n",
    "crítica com relação às fontes e aos dados.\n",
    "\n",
    "Os pesquisadores da área tradicionalmente também dão\n",
    "importância à influência de fatores institucionais sobre a\n",
    "economia, inclusive utilizando técnicas de outras disciplinas –\n",
    "ciência política e antropologia, p.ex.\n",
    "\n",
    "Da mesma forma, muitos historiadores econômicos (mas não\n",
    "todos, e raramente no Brasil) utilizam métodos estatísticos\n",
    "para análise dos múltiplos fatores que afetaram as economias\n",
    "do passado."
   ]
  },
  {
   "cell_type": "markdown",
   "metadata": {
    "slideshow": {
     "slide_type": "slide"
    }
   },
   "source": [
    "## Economia e História\n",
    "\n",
    "Perguntas sobre a relação entre economia e história ou se é possível\n",
    "e útil a convivência entre essas disciplinas são antigas. Uma das\n",
    "respostas pioneiras (apenas uma) é a oferecida por Arnold Toynbee\n",
    "em suas *Lectures on the Industrial Revolution in England* (1884), já citado."
   ]
  },
  {
   "cell_type": "markdown",
   "metadata": {
    "slideshow": {
     "slide_type": "fragment"
    }
   },
   "source": [
    "O argumento de Toynbee é uma boa ilustração de como essas\n",
    "questões metodológicas desde cedo preocuparam economistas e\n",
    "historiadores."
   ]
  },
  {
   "cell_type": "markdown",
   "metadata": {
    "slideshow": {
     "slide_type": "fragment"
    }
   },
   "source": [
    "Para Toynbee, Smith e Malthus possuiriam uma “mente histórica”;\n",
    "entretanto Ricardo teria uma mente “inteiramente não histórica”.\n",
    "De acordo com Toynbee, porém, haveria vantagens na combinação\n",
    "entre economia e história."
   ]
  },
  {
   "cell_type": "markdown",
   "metadata": {
    "slideshow": {
     "slide_type": "slide"
    }
   },
   "source": [
    "## Abstrações e fatos\n",
    "\n",
    "Segundo Toynbee: para a economia, as proposições\n",
    "abstratas são vistas sob uma nova perspectiva quando se\n",
    "observam os fatos relacionados a essas proposições.\n",
    "\n",
    "Para a história, o raciocínio dedutivo é útil, assim como a\n",
    "disciplina do pensamento e o cuidado com a lógica dos\n",
    "argumentos.\n",
    "\n",
    "Para Toynbee, seria central na análise histórica identificar\n",
    "as regularidades e relações causais na multiplicidade dos\n",
    "eventos históricos."
   ]
  },
  {
   "cell_type": "markdown",
   "metadata": {
    "slideshow": {
     "slide_type": "subslide"
    }
   },
   "source": [
    "## Métodos em geral\n",
    "\n",
    "Lembrar – Método dedutivo: parte de axiomas para\n",
    "elaborar teoremas e leis gerais;\n"
   ]
  },
  {
   "cell_type": "markdown",
   "metadata": {
    "slideshow": {
     "slide_type": "fragment"
    }
   },
   "source": [
    "Método histórico: parte da reconstituição de evidências\n",
    "empíricas e eventos/fatos históricos para elaborar\n",
    "conceitos e relações causais;\n"
   ]
  },
  {
   "cell_type": "markdown",
   "metadata": {
    "slideshow": {
     "slide_type": "fragment"
    }
   },
   "source": [
    "Há conflito entre eles? Na opinião de Toynbee, ambos\n",
    "deveriam ser combinados na análise econômica (mas\n",
    "como?)."
   ]
  },
  {
   "cell_type": "markdown",
   "metadata": {
    "slideshow": {
     "slide_type": "slide"
    }
   },
   "source": [
    "## Fatos do passado?\n",
    "\n",
    "A disputa entre as abordagens da História (o que é aplicável\n",
    "também na História Econômica) tem uma de suas origens\n",
    "na definição do que são fatos históricos. [Ranke](https://pt.wikipedia.org/wiki/Leopold_von_Ranke) e outros das\n",
    "Escola Histórica Alemã e Inglesa propunham: “mostrar\n",
    "apenas o que realmente aconteceu”."
   ]
  },
  {
   "cell_type": "markdown",
   "metadata": {
    "slideshow": {
     "slide_type": "fragment"
    }
   },
   "source": [
    "Essa perspectiva foi uma reação à análise histórica voltada a\n",
    "extrair lições para o presente ou prescrever políticas."
   ]
  },
  {
   "cell_type": "markdown",
   "metadata": {
    "slideshow": {
     "slide_type": "fragment"
    }
   },
   "source": [
    "Na perspectiva da Escola Histórica, os fatos são\n",
    "independentes do observador, estando disponíveis ao\n",
    "pesquisador em forma bruta nos documentos."
   ]
  },
  {
   "cell_type": "markdown",
   "metadata": {
    "slideshow": {
     "slide_type": "slide"
    }
   },
   "source": [
    "## Fatos dos historiadores?\n",
    "\n",
    "[E.H.Carr](https://en.wikipedia.org/wiki/E._H._Carr) (1961) atacou a concepção empirista da Escola\n",
    "Histórica e distinguiu “fatos do passado” e “fatos\n",
    "históricos”."
   ]
  },
  {
   "cell_type": "markdown",
   "metadata": {
    "slideshow": {
     "slide_type": "fragment"
    }
   },
   "source": [
    "O que é fato histórico segundo Carr? Fatos históricos\n",
    "seriam definidos *a priori* pelo historiador, não por uma\n",
    "qualidade inerente dos fatos."
   ]
  },
  {
   "cell_type": "markdown",
   "metadata": {
    "slideshow": {
     "slide_type": "fragment"
    }
   },
   "source": [
    "Um fato do passado não é um fato histórico enquanto os\n",
    "historiadores não conferirem a ele um significado,\n",
    "segundo Carr."
   ]
  },
  {
   "cell_type": "markdown",
   "metadata": {
    "slideshow": {
     "slide_type": "slide"
    }
   },
   "source": [
    "## Fatos históricos ou evidências?\n",
    "\n",
    "Outros contestaram o relativismo de Carr. Fatos históricos\n",
    "não necessitariam do reconhecimento dos historiadores.\n",
    "Eles existiriam objetivamente, sendo enquanto tais\n",
    "investigados ou “descobertos”.\n",
    "\n",
    "O relevante seria a diferença entre “fatos históricos” e\n",
    "“evidências”– fatos ou dados que são utilizados para dar\n",
    "suporte a um argumento.\n",
    "\n",
    "Nessa perspectiva, é na seleção e organização das evidências\n",
    "que teoria e interpretação exercem um papel central, pois os\n",
    "fatos não falam por si mesmos."
   ]
  },
  {
   "cell_type": "markdown",
   "metadata": {
    "slideshow": {
     "slide_type": "slide"
    }
   },
   "source": [
    "## Abordagens\n",
    "\n",
    "No estudo da história econômica, as divergências são\n",
    "similares."
   ]
  },
  {
   "cell_type": "markdown",
   "metadata": {
    "slideshow": {
     "slide_type": "fragment"
    }
   },
   "source": [
    "Há relativo consenso quanto ao objetivo da disciplina de\n",
    "descrever e explicar o desenvolvimento econômico\n",
    "passado."
   ]
  },
  {
   "cell_type": "markdown",
   "metadata": {
    "slideshow": {
     "slide_type": "fragment"
    }
   },
   "source": [
    "Mas há grandes diferenças de opinião e interpretação\n",
    "quanto aos métodos e abordagens considerados válidos\n",
    "para a disciplina."
   ]
  },
  {
   "cell_type": "markdown",
   "metadata": {
    "slideshow": {
     "slide_type": "slide"
    }
   },
   "source": [
    "## Modelos fora do lugar\n",
    "\n",
    "Uma das abordagens mais comuns é a que a vê a história\n",
    "econômica como uma descrição da economia do passado por\n",
    "meio do acúmulo de fatos, sem o uso de teorias e modelos.\n",
    "\n",
    "Nessa abordagem, o uso de teorias e modelos tende a ser\n",
    "visto como um recurso inadequado ou até anacrônico (fora\n",
    "do tempo, fora do lugar).\n",
    "\n",
    "Da mesma forma, o uso das técnicas seria limitado àquelas\n",
    "compatíveis com a necessidade de acumular e descrever\n",
    "fatos considerados puros: técnicas descritivas e,\n",
    "eventualmente, técnica literária (narrativa)."
   ]
  },
  {
   "cell_type": "markdown",
   "metadata": {
    "slideshow": {
     "slide_type": "slide"
    }
   },
   "source": [
    "## Teoria acima dos fatos\n",
    "\n",
    "Outra visão é a de que a história econômica consiste na\n",
    "aplicação de teorias – formais e não formais, explícitas ou não\n",
    "– sob uma forma particular."
   ]
  },
  {
   "cell_type": "markdown",
   "metadata": {
    "slideshow": {
     "slide_type": "fragment"
    }
   },
   "source": [
    "Nessa abordagem, teorias e modelos se sobrepõem aos fatos e\n",
    "já pré-determinam os resultados.\n"
   ]
  },
  {
   "cell_type": "markdown",
   "metadata": {
    "slideshow": {
     "slide_type": "fragment"
    }
   },
   "source": [
    "Nessa perspectiva, dados e evidências são empregados para\n",
    "ilustrar ou “provar” teorias (ou “hipóteses”). Aqui, hipóteses\n",
    "não são refutáveis por evidências."
   ]
  },
  {
   "cell_type": "markdown",
   "metadata": {
    "slideshow": {
     "slide_type": "subslide"
    }
   },
   "source": [
    "Sobre o papel de hipóteses na pesquisa veja, se puder, este artigo no site da Nature:\n",
    "\n",
    "> [Research protocols: A forest of hypotheses](https://www.nature.com/naturejobs/science/articles/10.1038/nj7615-239a)\n",
    "\n",
    "Por que utilizar apenas *uma* hipótese e não *múltiplas* hipóteses? - pergunta o artigo.\n",
    "\n"
   ]
  },
  {
   "cell_type": "markdown",
   "metadata": {
    "slideshow": {
     "slide_type": "slide"
    }
   },
   "source": [
    "## O lugar de teorias e modelos\n",
    "\n",
    "Uma outra visão influente, mas polêmica, é a de que teorias e\n",
    "modelos são comuns na análise histórica: a diferença seria se\n",
    "eles são explícitos ou implícitos na análise."
   ]
  },
  {
   "cell_type": "markdown",
   "metadata": {
    "slideshow": {
     "slide_type": "fragment"
    }
   },
   "source": [
    "[Robert Fogel](https://en.wikipedia.org/wiki/Robert_Fogel) (1967) argumenta que o uso de teorias e modelos de\n",
    "maneira implícita é uma prática comum e antiga na História,\n",
    "embora isso não seja reconhecido pela maioria dos praticantes."
   ]
  },
  {
   "cell_type": "markdown",
   "metadata": {
    "slideshow": {
     "slide_type": "fragment"
    }
   },
   "source": [
    "> “The belief that the older economic history is solidly grounded\n",
    "in fact is an illusion. Actually, it is permeated with untested\n",
    "covert models and subliminal mathematical assumptions”."
   ]
  },
  {
   "cell_type": "markdown",
   "metadata": {
    "slideshow": {
     "slide_type": "slide"
    }
   },
   "source": [
    "## Contrafactuais\n",
    "\n",
    "Um método comum nesta abordagem (de Fogel) é adoção de\n",
    "*contrafactuais*."
   ]
  },
  {
   "cell_type": "markdown",
   "metadata": {
    "slideshow": {
     "slide_type": "fragment"
    }
   },
   "source": [
    "Contrafactual: uma sequência alternativa (e plausível!) de\n",
    "eventos caso certos eventos não tivessem ocorrido ou tivessem\n",
    "ocorrido de outra maneira."
   ]
  },
  {
   "cell_type": "markdown",
   "metadata": {
    "slideshow": {
     "slide_type": "fragment"
    }
   },
   "source": [
    "Segundo Fogel, contrafactuais seriam amplamente utilizados\n",
    "na História, embora novamente de maneira implícita."
   ]
  },
  {
   "cell_type": "markdown",
   "metadata": {
    "slideshow": {
     "slide_type": "slide"
    }
   },
   "source": [
    "## Cliometria\n",
    "\n",
    "O principal benefício de explicitar contrafactuais, bem como as\n",
    "teorias e os modelos utilizados, é tornar os argumentos dos\n",
    "historiadores econômicos testáveis e sujeitos à falsificação.\n",
    "\n",
    "Por sua vez, as técnicas para submeter os dados e resultados das\n",
    "análises a testes e verificação abrangem também (ou seja, não\n",
    "somente) técnicas quantitativas – estatística e econometria.\n",
    "\n",
    "A combinação de teoria e métodos estatísticos na análise\n",
    "histórica constitui a Cliometria, da qual Fogel é um dos\n",
    "principais representantes (Clio = Deusa da história, metria =\n",
    "derivado de econometria)."
   ]
  },
  {
   "cell_type": "markdown",
   "metadata": {
    "slideshow": {
     "slide_type": "slide"
    }
   },
   "source": [
    "## Definição\n",
    "\n",
    "Uma definição ampla e ecumênica da Cliometria é a dada por [Lyons\n",
    "et al.](https://eh.net/encyclopedia/cliometrics/) (2009). “Cliometrics has three obvious elements”:\n"
   ]
  },
  {
   "cell_type": "markdown",
   "metadata": {
    "slideshow": {
     "slide_type": "fragment"
    }
   },
   "source": [
    "a. “use of quantifiable evidence,”\n"
   ]
  },
  {
   "cell_type": "markdown",
   "metadata": {
    "slideshow": {
     "slide_type": "fragment"
    }
   },
   "source": [
    "b. “use of theoretical concepts and models,”"
   ]
  },
  {
   "cell_type": "markdown",
   "metadata": {
    "slideshow": {
     "slide_type": "fragment"
    }
   },
   "source": [
    "c. “use of statistical methods of estimation and inference;”\n"
   ]
  },
  {
   "cell_type": "markdown",
   "metadata": {
    "slideshow": {
     "slide_type": "subslide"
    }
   },
   "source": [
    "d. “and an important fourth element, employment of the historian’s\n",
    "skills in judging provenance and quality of sources, in placing an\n",
    "investigation in institutional and social context, and in choosing\n",
    "subject matter of significance to history as well as economics.”"
   ]
  },
  {
   "cell_type": "markdown",
   "metadata": {
    "slideshow": {
     "slide_type": "fragment"
    }
   },
   "source": [
    "Questões metodológicas como estas e as demais tratadas nesta aula serão frequentemente revisitadas nas próximas aulas."
   ]
  },
  {
   "cell_type": "markdown",
   "metadata": {
    "slideshow": {
     "slide_type": "fragment"
    }
   },
   "source": [
    "Vamos em frente."
   ]
  }
 ],
 "metadata": {
  "celltoolbar": "Slideshow",
  "kernelspec": {
   "display_name": "Python 3",
   "language": "python",
   "name": "python3"
  },
  "language_info": {
   "codemirror_mode": {
    "name": "ipython",
    "version": 3
   },
   "file_extension": ".py",
   "mimetype": "text/x-python",
   "name": "python",
   "nbconvert_exporter": "python",
   "pygments_lexer": "ipython3",
   "version": "3.7.1"
  }
 },
 "nbformat": 4,
 "nbformat_minor": 2
}
