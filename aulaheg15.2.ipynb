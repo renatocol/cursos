{
 "cells": [
  {
   "cell_type": "markdown",
   "metadata": {
    "nbpresent": {
     "id": "452305db-662c-4b4e-aa92-79d92fa4544d"
    },
    "slideshow": {
     "slide_type": "slide"
    }
   },
   "source": [
    "# <center>História Econômica Geral I - FEA-USP</center>\n",
    "\n",
    "## <center>Aula 15 - Atraso Relativo e Industrialização (parte 2)</center>\n",
    "\n",
    "### <center>Renato Perim Colistete</center>\n",
    "\n",
    "\n",
    "#### <center>2019</center>"
   ]
  },
  {
   "cell_type": "markdown",
   "metadata": {
    "nbpresent": {
     "id": "1fc7160f-beb4-4997-9c3f-0553e0592605"
    },
    "slideshow": {
     "slide_type": "slide"
    }
   },
   "source": [
    "## Alemanha\n",
    "\n",
    "Principais setores onde a grande empresa ocupou lugar\n",
    "de destaque na Alemanha, na segunda metade do século\n",
    "XIX: mineração, siderurgia, mecânica pesada e química.\n",
    "\n",
    "Nessas indústrias, a forma predominante de organização\n",
    "das grandes empresas foi a sociedade por ações (*joint-\n",
    "stock companies*).\n",
    "\n",
    "Em 1907, 65% do capital das 100 maiores empresas\n",
    "industriais da Alemanha eram controlados por sociedade\n",
    "anônimas."
   ]
  },
  {
   "cell_type": "markdown",
   "metadata": {
    "nbpresent": {
     "id": "1acbc207-c8bb-4376-a328-421bbf9520c4"
    },
    "slideshow": {
     "slide_type": "slide"
    }
   },
   "source": [
    "## Concentração\n",
    "\n",
    "Uma das principais consequências do domínio das grandes\n",
    "empresas nesses setores foi a mudança nas relações\n",
    "entre as firmas."
   ]
  },
  {
   "cell_type": "markdown",
   "metadata": {
    "nbpresent": {
     "id": "f3dfbdf9-fe1d-4356-9ad0-df395911e6f3"
    },
    "slideshow": {
     "slide_type": "fragment"
    }
   },
   "source": [
    "Oligopólio, divisão do mercado e competição extra-preço\n",
    "substituíram a competição típica de um mercado em que\n",
    "predominam empresas com pequeno poder de mercado. A concentração do mercado por  um número\n",
    "relativamente pequeno de empresas levou à formação de\n",
    "cartéis."
   ]
  },
  {
   "cell_type": "markdown",
   "metadata": {
    "slideshow": {
     "slide_type": "fragment"
    }
   },
   "source": [
    "Possíveis efeitos: a) elevação das margens de\n",
    "lucro, redistribuição de renda; b) mas também acumulação\n",
    "de capital, investimentos e desenvolvimento tecnológico."
   ]
  },
  {
   "cell_type": "markdown",
   "metadata": {
    "nbpresent": {
     "id": "13c81a42-221c-45fd-bde2-343bbcc74678"
    },
    "slideshow": {
     "slide_type": "slide"
    }
   },
   "source": [
    "## Bancos\n",
    "\n",
    "Outra figura central na industrialização alemã foram os\n",
    "chamados *bancos universais*, também organizados na forma\n",
    "de sociedade por ações."
   ]
  },
  {
   "cell_type": "markdown",
   "metadata": {
    "nbpresent": {
     "id": "69b2baa0-ed18-483e-8653-50f0e5c1d94f"
    },
    "slideshow": {
     "slide_type": "fragment"
    }
   },
   "source": [
    "Esses bancos atuavam no mercado de crédito de curto prazo e\n",
    "de longo prazo (bancos de desconto e de investimento), fornecendo recursos para investimentos,\n",
    "fusões e aquisições a empresas industriais. A visão clássica\n",
    "considera que a relação íntima desses bancos com empresas\n",
    "manufatureiras foi determinante do sucesso industrial alemão."
   ]
  },
  {
   "cell_type": "markdown",
   "metadata": {
    "nbpresent": {
     "id": "1674bcc2-8448-4b20-8203-e741d2f6048b"
    },
    "slideshow": {
     "slide_type": "fragment"
    }
   },
   "source": [
    "Outros autores qualificam, porém: bancos universais não foram\n",
    "dominantes no setor bancário; seu papel cresceu quando a\n",
    "industrialização alemã já estava em pleno desenvolvimento;\n",
    "bancos foram causa e efeito da industrialização."
   ]
  },
  {
   "cell_type": "markdown",
   "metadata": {
    "nbpresent": {
     "id": "8b4f0472-cccb-4d13-abbd-187d93bc9309"
    },
    "slideshow": {
     "slide_type": "slide"
    }
   },
   "source": [
    "## Centeio e Ferro\n",
    "\n",
    "Outra questão recorrente na análise da industrialização alemã\n",
    "é a chamada aliança entre “*rye and iron*”, ou seja, entre a\n",
    "aristrocracia agrária Junker do leste da Prússia e os\n",
    "empresários da indústria pesada no oeste."
   ]
  },
  {
   "cell_type": "markdown",
   "metadata": {
    "nbpresent": {
     "id": "794d2206-833d-419a-b3b9-b12875162c7e"
    },
    "slideshow": {
     "slide_type": "fragment"
    }
   },
   "source": [
    "O propósito da aliança foi a elevação da proteção comercial,\n",
    "simbolizada pela lei de tarifas proposta por [Bismarck](https://en.wikipedia.org/wiki/Otto_von_Bismarck) e\n",
    "aprovada pelo Reichstag em 1879."
   ]
  },
  {
   "cell_type": "markdown",
   "metadata": {
    "slideshow": {
     "slide_type": "fragment"
    }
   },
   "source": [
    "Condições geralmente citadas: longa crise iniciada em 1873,\n",
    "revolução do transporte e baixa nos preços dos cereais\n",
    "(vindos da Rússia, Báltico), interesse de Bismarck em\n",
    "aumentar receitas fiscais, controle do governo por interesses\n",
    "empresariais poderosos."
   ]
  },
  {
   "cell_type": "markdown",
   "metadata": {
    "slideshow": {
     "slide_type": "slide"
    }
   },
   "source": [
    "## Protecionismo\n",
    "\n",
    "A elevação das tarifas abrangeu a produção de ferro-\n",
    "gusa, produtos semi-acabados e acabados da indústria\n",
    "eletro-mecânica e cereais (como trigo, centeio e aveia)."
   ]
  },
  {
   "cell_type": "markdown",
   "metadata": {
    "slideshow": {
     "slide_type": "fragment"
    }
   },
   "source": [
    "Até então (desde os anos 1860), a Europa vinha\n",
    "reduzindo tarifas ou mantendo-as baixas por meio de\n",
    "tratados de comércio. Com a nova tarifa alemã, iniciou-se\n",
    "um longo período de retaliações e elevações tarifárias."
   ]
  },
  {
   "cell_type": "markdown",
   "metadata": {
    "slideshow": {
     "slide_type": "fragment"
    }
   },
   "source": [
    "Outro episódio do protecionismo alemão ocorreu com\n",
    "nova lei tarifária de 1902, mas com os principais\n",
    "aumentos das tarifas beneficiando produtos agrícolas."
   ]
  },
  {
   "cell_type": "markdown",
   "metadata": {
    "nbpresent": {
     "id": "1a43feb9-1cad-4162-a6ad-b16662fbb6a4"
    },
    "slideshow": {
     "slide_type": "slide"
    }
   },
   "source": [
    "## Efeitos\n",
    "\n",
    "Quais foram os efeitos do protecionismo alemão? Com relação à\n",
    "indústria, argumenta-se em geral que a lei tarifária de 1879 permitiu que as\n",
    "empresas obtivessem altas margens de lucro com a redução da\n",
    "concorrência externa."
   ]
  },
  {
   "cell_type": "markdown",
   "metadata": {
    "slideshow": {
     "slide_type": "fragment"
    }
   },
   "source": [
    "Com um mercado concentrado e cartelizado - como na indústria\n",
    "mecânica pesada, siderurgia e química - um resultado pode ter sido que o\n",
    "protecionismo tenha elevado lucros, investimentos e induzido\n",
    "desenvolvimento tecnológico."
   ]
  },
  {
   "cell_type": "markdown",
   "metadata": {
    "slideshow": {
     "slide_type": "fragment"
    }
   },
   "source": [
    "Do ponto de vista das relações externas, a lei tarifária alemã\n",
    "desencadeou retaliações e aumentos nas tarifas de outros países,\n",
    "acentuando as disputas e – segundo alguns autores – contribuindo\n",
    "para o ambiente belicoso que iria culminar na I Guerra Mundial."
   ]
  },
  {
   "cell_type": "markdown",
   "metadata": {
    "slideshow": {
     "slide_type": "slide"
    }
   },
   "source": [
    "## Estados Unidos\n",
    "\n",
    "No caso dos Estados Unidos, um processo parecido com o da\n",
    "Alemanha teve lugar em seus setores mais dinâmicos *na\n",
    "primeira metade do século XIX*: têxtil e siderurgia."
   ]
  },
  {
   "cell_type": "markdown",
   "metadata": {
    "nbpresent": {
     "id": "8dde182b-545e-464d-86aa-93633eb83d31"
    },
    "slideshow": {
     "slide_type": "fragment"
    }
   },
   "source": [
    "Nessa época, essas duas indústrias já eram controladas por\n",
    "grandes empresas (com destaque para sociedades por\n",
    "ações), com alta mecanização e predomínio do trabalho semi\n",
    "ou não qualificado. Economias de escala e padronização já\n",
    "eram características dessas indústrias."
   ]
  },
  {
   "cell_type": "markdown",
   "metadata": {
    "slideshow": {
     "slide_type": "fragment"
    }
   },
   "source": [
    "O restante da indústria, porém, era muito diferente: geralmente\n",
    "pequena escala de produção, grande peso do trabalho\n",
    "artesanal, pouca mecanização, grande número de empresas"
   ]
  },
  {
   "cell_type": "markdown",
   "metadata": {
    "nbpresent": {
     "id": "383dda45-dccb-4fde-a663-f4b4f94a501e"
    },
    "slideshow": {
     "slide_type": "slide"
    }
   },
   "source": [
    "## Distribuição\n",
    "\n",
    "Essa estrutura industrial iria mudar radicalmente *a partir\n",
    "da década de 1860* nos EUA. Dois processos foram\n",
    "fundamentais: *distribuição e produção em massa*."
   ]
  },
  {
   "cell_type": "markdown",
   "metadata": {
    "slideshow": {
     "slide_type": "fragment"
    }
   },
   "source": [
    "As empresas industriais passaram a contar com novos\n",
    "meios de transporte (ferrovias) e de comunicação\n",
    "(telégrafo) que as permitiram atuar em diferentes\n",
    "mercados regionais do país."
   ]
  },
  {
   "cell_type": "markdown",
   "metadata": {
    "slideshow": {
     "slide_type": "fragment"
    }
   },
   "source": [
    "Compra e venda em tempo real, transporte com preços declinantes, distribuição rápida e padronizada reduziram\n",
    "custos e elevaram a produtividade da indústria."
   ]
  },
  {
   "cell_type": "markdown",
   "metadata": {
    "slideshow": {
     "slide_type": "slide"
    }
   },
   "source": [
    "## Produção\n",
    "\n",
    "As mudanças na distribuição, por sua vez, criaram pressões sobre\n",
    "a demanda e a escala de produção das empresas industriais, agora\n",
    "com capacidade de atender um mercado integrado nacionalmente."
   ]
  },
  {
   "cell_type": "markdown",
   "metadata": {
    "slideshow": {
     "slide_type": "fragment"
    }
   },
   "source": [
    "Um efeito direto – do ponto de vista micro – foi a especialização e\n",
    "padronização das tarefas dentro das fábricas, abrindo espaço para\n",
    "introdução de novas máquinas e novos processos."
   ]
  },
  {
   "cell_type": "markdown",
   "metadata": {
    "slideshow": {
     "slide_type": "fragment"
    }
   },
   "source": [
    "Quando possível, as empresas introduziram máquinas e processos\n",
    "com *produção contínua e padronizada* – a produção em massa.\n",
    "Inicialmente, em indústrias como as de tabaco, alimentos enlatados\n",
    "e sabão. Depois, em indústrias de bens de consumo durável\n",
    "(máquinas de costura, armas, automóveis). Estudaremos\n",
    "esse desenvolvimento em outra aula."
   ]
  },
  {
   "cell_type": "markdown",
   "metadata": {
    "slideshow": {
     "slide_type": "slide"
    }
   },
   "source": [
    "## Hierarquização da firma\n",
    "\n",
    "Outro resultado das transformações na distribuição e na\n",
    "produção deu-se no *âmbito da organização empresarial*."
   ]
  },
  {
   "cell_type": "markdown",
   "metadata": {
    "slideshow": {
     "slide_type": "fragment"
    }
   },
   "source": [
    "As empresas americanas tiveram de gerenciar e\n",
    "coordenar produção e distribuição de seus produtos *em\n",
    "grande escala e em mercados distantes*."
   ]
  },
  {
   "cell_type": "markdown",
   "metadata": {
    "slideshow": {
     "slide_type": "fragment"
    }
   },
   "source": [
    "No final do século XIX, uma nova estrutura hierárquica\n",
    "ganhou forma, com *funções segmentadas*: produção,\n",
    "distribuição, compras, finanças, P&D. O processo\n",
    "decisório foi centralizado nos departamentos e no topo da\n",
    "direção, formados por empregados assalariados (diretores), não mais os proprietários individuais."
   ]
  },
  {
   "cell_type": "markdown",
   "metadata": {
    "slideshow": {
     "slide_type": "slide"
    }
   },
   "source": [
    "## A estrutura multidivisional\n",
    "\n",
    "O desenvolvimento dessa estrutura empresarial se aprofundou\n",
    "com dois movimentos paralelos: a *expansão geográfica* e a\n",
    "*diversificação de produtos*."
   ]
  },
  {
   "cell_type": "markdown",
   "metadata": {
    "slideshow": {
     "slide_type": "fragment"
    }
   },
   "source": [
    "No início do século XX, a *estrutura multidivisional* tornou-se a\n",
    "organização dominante entre as corporações nos setores\n",
    "industriais mais dinâmicos nos EUA."
   ]
  },
  {
   "cell_type": "markdown",
   "metadata": {
    "slideshow": {
     "slide_type": "fragment"
    }
   },
   "source": [
    "No *topo da hierarquia*, a gerência assalariada monitora o\n",
    "desempenho das divisões (geográficas ou de produtos),\n",
    "planeja e implementa os objetivos de longo prazo. *Nas\n",
    "divisões*, diretores cuidam de seus objetivos específicos. Foi\n",
    "essa estrutura que serviu de base para a expansão global das\n",
    "empresas americanas nas décadas seguintes."
   ]
  },
  {
   "cell_type": "markdown",
   "metadata": {
    "slideshow": {
     "slide_type": "slide"
    }
   },
   "source": [
    "### Questões\n",
    "\n",
    "De que forma os bancos universais podem ter sido\n",
    "responsáveis pelo sucesso industrial alemão?\n",
    "\n",
    "Avalie como a aliança entre “centeio e ferro” pode ter\n",
    "contribuído ou prejudicado a industrialização tardia da\n",
    "Alemanha.\n",
    "\n",
    "Como as transformações na distribuição e na produção\n",
    "industrial nos EUA levaram ao aumento da produtividade\n",
    "e a transformação das estruturas das firmas americanas?\n",
    "Avalie os efeitos das economias de escala e de escopo."
   ]
  }
 ],
 "metadata": {
  "celltoolbar": "Slideshow",
  "kernelspec": {
   "display_name": "Python 3",
   "language": "python",
   "name": "python3"
  },
  "language_info": {
   "codemirror_mode": {
    "name": "ipython",
    "version": 3
   },
   "file_extension": ".py",
   "mimetype": "text/x-python",
   "name": "python",
   "nbconvert_exporter": "python",
   "pygments_lexer": "ipython3",
   "version": "3.7.3"
  },
  "rise": {
   "autolaunch": true
  },
  "toc": {
   "base_numbering": 1,
   "nav_menu": {},
   "number_sections": false,
   "sideBar": true,
   "skip_h1_title": false,
   "title_cell": "Table of Contents",
   "title_sidebar": "Contents",
   "toc_cell": false,
   "toc_position": {},
   "toc_section_display": true,
   "toc_window_display": false
  }
 },
 "nbformat": 4,
 "nbformat_minor": 2
}
