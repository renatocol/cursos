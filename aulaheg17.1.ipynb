{
 "cells": [
  {
   "cell_type": "markdown",
   "metadata": {
    "nbpresent": {
     "id": "452305db-662c-4b4e-aa92-79d92fa4544d"
    },
    "slideshow": {
     "slide_type": "slide"
    }
   },
   "source": [
    "# <center>História Econômica Geral I - FEA-USP</center>\n",
    "\n",
    "## <center>Aula 17 - Padrão Ouro (parte 1)</center>\n",
    "\n",
    "### <center>Renato Perim Colistete</center>\n",
    "\n",
    "\n",
    "#### <center>2019</center>"
   ]
  },
  {
   "cell_type": "markdown",
   "metadata": {
    "nbpresent": {
     "id": "1fc7160f-beb4-4997-9c3f-0553e0592605"
    },
    "slideshow": {
     "slide_type": "slide"
    }
   },
   "source": [
    "## Objetivos\n",
    "\n",
    "O objetivo desta aula é descrever o regime monetário\n",
    "internacional baseado no Padrão Ouro até o início da I\n",
    "Guerra Mundial.\n",
    "\n",
    "Inicialmente faremos uma breve introdução à história e às\n",
    "características do Padrão Ouro.\n",
    "\n",
    "Em seguida, apresentaremos a lógica de funcionamento\n",
    "do Padrão Ouro, tanto na sua versão mais simples quanto\n",
    "em um modelo mais completo."
   ]
  },
  {
   "cell_type": "markdown",
   "metadata": {
    "nbpresent": {
     "id": "1acbc207-c8bb-4376-a328-421bbf9520c4"
    },
    "slideshow": {
     "slide_type": "slide"
    }
   },
   "source": [
    "## Origens\n",
    "\n",
    "Inicialmente sob um padrão bimetálico (prata e ouro), a\n",
    "Inglaterra introduziu o ouro como padrão monetário em\n",
    "1774."
   ]
  },
  {
   "cell_type": "markdown",
   "metadata": {
    "nbpresent": {
     "id": "f3dfbdf9-fe1d-4356-9ad0-df395911e6f3"
    },
    "slideshow": {
     "slide_type": "fragment"
    }
   },
   "source": [
    "A prata continuou sendo cunhada até 1798 e o ouro foi\n",
    "adotado oficialmente em 1816, após anos de regime\n",
    "monetário efetivo."
   ]
  },
  {
   "cell_type": "markdown",
   "metadata": {
    "slideshow": {
     "slide_type": "fragment"
    }
   },
   "source": [
    "A década de 1870 marcou a conversão de vários países\n",
    "ao padrão monetário baseado no ouro."
   ]
  },
  {
   "cell_type": "markdown",
   "metadata": {
    "nbpresent": {
     "id": "13c81a42-221c-45fd-bde2-343bbcc74678"
    },
    "slideshow": {
     "slide_type": "slide"
    }
   },
   "source": [
    "## Difusão\n",
    "\n",
    "A Inglaterra em 1870 já caminhava para tornar-se a “oficina do mundo”\n",
    "e a adoção de um padrão monetário comum facilitava\n",
    "as transações comerciais e financeiras entre países."
   ]
  },
  {
   "cell_type": "markdown",
   "metadata": {
    "nbpresent": {
     "id": "69b2baa0-ed18-483e-8653-50f0e5c1d94f"
    },
    "slideshow": {
     "slide_type": "fragment"
    }
   },
   "source": [
    "O próximo país importante a adotar o ouro (em 1871) foi\n",
    "a Alemanha unificada, que mantinha estreitas relações\n",
    "comerciais e financeiras com a Inglaterra."
   ]
  },
  {
   "cell_type": "markdown",
   "metadata": {
    "nbpresent": {
     "id": "1674bcc2-8448-4b20-8203-e741d2f6048b"
    },
    "slideshow": {
     "slide_type": "fragment"
    }
   },
   "source": [
    "Os parceiros comerciais da Alemanha seguiram o\n",
    "exemplo: Dinamarca (1872), Suécia (1873), Noruega\n",
    "(1875), Holanda (1875), Bélgica (1878). Ver figura."
   ]
  },
  {
   "cell_type": "markdown",
   "metadata": {
    "slideshow": {
     "slide_type": "subslide"
    }
   },
   "source": [
    "#### <center>Padrão Ouro no mundo</center>\n",
    "\n",
    "<center><img src=\"gold.png\"></center>"
   ]
  },
  {
   "cell_type": "markdown",
   "metadata": {
    "nbpresent": {
     "id": "8b4f0472-cccb-4d13-abbd-187d93bc9309"
    },
    "slideshow": {
     "slide_type": "slide"
    }
   },
   "source": [
    "## Sistemas\n",
    "\n",
    "Daí em diante, a maioria dos países adotou o ouro como\n",
    "padrão monetário ou atrelou suas moedas à libra esterlina\n",
    "(*pegged exchange rate*). Ou seja, cada moeda era conversível\n",
    "em ouro a uma taxa específica (p.ex., US$ 20,67 por onça de\n",
    "ouro). E, assim, as moedas dos países eram conversíveis\n",
    "entre si a uma *taxa de câmbio fixa*."
   ]
  },
  {
   "cell_type": "markdown",
   "metadata": {
    "nbpresent": {
     "id": "794d2206-833d-419a-b3b9-b12875162c7e"
    },
    "slideshow": {
     "slide_type": "fragment"
    }
   },
   "source": [
    "Exemplos: França (1878), EUA (1834, 1900 oficialmente),\n",
    "Itália (1884), Japão (1897), Brasil (1906-14)."
   ]
  },
  {
   "cell_type": "markdown",
   "metadata": {
    "slideshow": {
     "slide_type": "fragment"
    }
   },
   "source": [
    "Teoricamente, há dois sistemas possíveis do Padrão Ouro: a)\n",
    "“puro”, em que a moeda circulante é o ouro propriamente; b)\n",
    "“misto”, em que há ouro e papel-moeda, com livre\n",
    "conversibilidade."
   ]
  },
  {
   "cell_type": "markdown",
   "metadata": {
    "slideshow": {
     "slide_type": "slide"
    }
   },
   "source": [
    "## Oferta monetária\n",
    "\n",
    "Na prática, nenhum país adotou um regime puro. A\n",
    "presença efetiva do ouro na oferta monetária mundial\n",
    "tendeu a declinar durante todo o período."
   ]
  },
  {
   "cell_type": "markdown",
   "metadata": {
    "slideshow": {
     "slide_type": "fragment"
    }
   },
   "source": [
    "Em 1885, apenas 17% da oferta monetária dos maiores\n",
    "países eram em ouro-metal; 10% em 1913 e\n",
    "praticamente 0% em 1928."
   ]
  },
  {
   "cell_type": "markdown",
   "metadata": {
    "slideshow": {
     "slide_type": "fragment"
    }
   },
   "source": [
    "Ou seja, o ouro passou cada vez mais a fazer parte\n",
    "somente das reservas dos países (Tesouro e Bancos\n",
    "Centrais especialmente)."
   ]
  },
  {
   "cell_type": "markdown",
   "metadata": {
    "nbpresent": {
     "id": "1a43feb9-1cad-4162-a6ad-b16662fbb6a4"
    },
    "slideshow": {
     "slide_type": "slide"
    }
   },
   "source": [
    "## Sistemas mistos\n",
    "\n",
    "No sistema misto, há ainda duas formas adicionais\n",
    "de adesão ao ouro."
   ]
  },
  {
   "cell_type": "markdown",
   "metadata": {
    "slideshow": {
     "slide_type": "fragment"
    }
   },
   "source": [
    "Na primeira (*gold-bullion standard*), não havia circulação de ouro, mas a\n",
    "autoridade monetária comprava e vendia ouro de agentes\n",
    "privados para transações externas."
   ]
  },
  {
   "cell_type": "markdown",
   "metadata": {
    "slideshow": {
     "slide_type": "fragment"
    }
   },
   "source": [
    "Na segunda forma (*gold-exchange standard*), não havia circulação de metal e a\n",
    "autoridade monetária somente comprava e vendia\n",
    "moedas estrangeiras conversíveis em ouro. Esse foi o\n",
    "modelo mais comum."
   ]
  },
  {
   "cell_type": "markdown",
   "metadata": {
    "slideshow": {
     "slide_type": "slide"
    }
   },
   "source": [
    "## Reservas\n",
    "\n",
    "A estrutura do sistema era frágil, pois a oferta monetária\n",
    "mundial era muito maior do que as reservas oficiais; e\n",
    "mais, a Grã-Bretanha detinha apenas uma fração do\n",
    "estoque de ouro mundial."
   ]
  },
  {
   "cell_type": "markdown",
   "metadata": {
    "nbpresent": {
     "id": "8dde182b-545e-464d-86aa-93633eb83d31"
    },
    "slideshow": {
     "slide_type": "fragment"
    }
   },
   "source": [
    "Em 1913: reservas oficiais da Grã-Bretanha = 3% do total de ouro,\n",
    "0% de moedas estrangeiras."
   ]
  },
  {
   "cell_type": "markdown",
   "metadata": {
    "slideshow": {
     "slide_type": "fragment"
    }
   },
   "source": [
    "Outros países: Alemanha = 6%, 5%; França = 14%, 0%;\n",
    "EUA = 27%, 0%; Resto do mundo = 50%, 95%,\n",
    "respectivamente."
   ]
  },
  {
   "cell_type": "markdown",
   "metadata": {
    "nbpresent": {
     "id": "383dda45-dccb-4fde-a663-f4b4f94a501e"
    },
    "slideshow": {
     "slide_type": "slide"
    }
   },
   "source": [
    "## Lógica do sistema\n",
    "\n",
    "Como um sistema tão frágil na prática foi capaz de\n",
    "manter-se relativamente estável por tanto tempo, até a I\n",
    "Guerra Mundial?"
   ]
  },
  {
   "cell_type": "markdown",
   "metadata": {
    "slideshow": {
     "slide_type": "fragment"
    }
   },
   "source": [
    "Para responder essa questão, temos de compreender\n",
    "inicialmente o funcionamento teórico do Padrão Ouro.\n",
    "Qual foi a lógica de operação do sistema?"
   ]
  },
  {
   "cell_type": "markdown",
   "metadata": {
    "slideshow": {
     "slide_type": "fragment"
    }
   },
   "source": [
    "A mais influente explicação da operação do Padrão-Ouro\n",
    "é o chamado *price-specie flow mechanism*, originalmente\n",
    "[elaborado por David Hume](https://mediawiki.middlebury.edu/wiki/IPE/Price-specie-flow_Mechanism) em 1752 – um mecanismo de\n",
    "ajuste automático."
   ]
  },
  {
   "cell_type": "markdown",
   "metadata": {
    "slideshow": {
     "slide_type": "slide"
    }
   },
   "source": [
    "## Hipóteses\n",
    "\n",
    "Hipóteses básicas do modelo de Hume:"
   ]
  },
  {
   "cell_type": "markdown",
   "metadata": {
    "slideshow": {
     "slide_type": "fragment"
    }
   },
   "source": [
    "- circulação de ouro apenas;"
   ]
  },
  {
   "cell_type": "markdown",
   "metadata": {
    "slideshow": {
     "slide_type": "fragment"
    }
   },
   "source": [
    "- bancos têm papel irrelevante;"
   ]
  },
  {
   "cell_type": "markdown",
   "metadata": {
    "slideshow": {
     "slide_type": "fragment"
    }
   },
   "source": [
    "- teoria quantitativa da moeda;"
   ]
  },
  {
   "cell_type": "markdown",
   "metadata": {
    "slideshow": {
     "slide_type": "subslide"
    }
   },
   "source": [
    "- taxas de câmbio fixas;"
   ]
  },
  {
   "cell_type": "markdown",
   "metadata": {
    "slideshow": {
     "slide_type": "fragment"
    }
   },
   "source": [
    "- livre comércio, mas não há transferências de capital."
   ]
  },
  {
   "cell_type": "markdown",
   "metadata": {
    "slideshow": {
     "slide_type": "fragment"
    }
   },
   "source": [
    "Assim, em um determinado país, exportadores\n",
    "receberiam em ouro e o trocariam por moeda local, enquanto\n",
    "importadores enviariam ouro para o exterior ao realizarem\n",
    "suas compras."
   ]
  },
  {
   "cell_type": "markdown",
   "metadata": {
    "slideshow": {
     "slide_type": "slide"
    }
   },
   "source": [
    "## Desequilíbrio e ajuste\n",
    "\n",
    "Por exemplo, considerando 2 países, A e B: se o país A\n",
    "incorresse em déficit na balança comercial $(M > X)$, então\n",
    "haveria:"
   ]
  },
  {
   "cell_type": "markdown",
   "metadata": {
    "slideshow": {
     "slide_type": "fragment"
    }
   },
   "source": [
    "i) saída de ouro $=$ com menos ouro (moeda) em circulação,\n",
    "diminuiria demanda e preços domésticos cairiam;"
   ]
  },
  {
   "cell_type": "markdown",
   "metadata": {
    "slideshow": {
     "slide_type": "fragment"
    }
   },
   "source": [
    "ii) paralelamente, o país B (superavitário) receberia ouro,\n",
    "aumentaria demanda e haveria elevação de preços;"
   ]
  },
  {
   "cell_type": "markdown",
   "metadata": {
    "slideshow": {
     "slide_type": "fragment"
    }
   },
   "source": [
    "iii) então, no país A (deficitário) haveria redução das $M$ e\n",
    "estímulo às $X$; e no país B (superavitário), aumento de $M$ e\n",
    "queda de $X$. Isto é, o desequilíbrio nos dois países seria\n",
    "corrigido automaticamente."
   ]
  },
  {
   "cell_type": "markdown",
   "metadata": {
    "slideshow": {
     "slide_type": "slide"
    }
   },
   "source": [
    "## Modelo ampliado\n",
    "\n",
    "O modelo simples pode ser ampliado para incluir\n",
    "transferências de capital entre países, papel-moeda,\n",
    "banco central e taxas de juros."
   ]
  },
  {
   "cell_type": "markdown",
   "metadata": {
    "slideshow": {
     "slide_type": "fragment"
    }
   },
   "source": [
    "A lógica do ajuste seria a mesma, só que agora assume-\n",
    "se que a autoridade monetária seguiria as chamadas\n",
    "“**regras do jogo**” do Padrão Ouro."
   ]
  },
  {
   "cell_type": "markdown",
   "metadata": {
    "slideshow": {
     "slide_type": "fragment"
    }
   },
   "source": [
    "Sob as **regras do jogo**, a autoridade monetária deveria\n",
    "*reforçar* os efeitos dos fluxos de ouro sobre a oferta\n",
    "monetária – em vez de *esterilizar* tais efeitos (ver\n",
    "conceitos). Lembrar: sempre com taxas de câmbio fixas."
   ]
  },
  {
   "cell_type": "markdown",
   "metadata": {
    "slideshow": {
     "slide_type": "slide"
    }
   },
   "source": [
    "## Regras do jogo\n",
    "\n",
    "Ou ainda: quando houvesse saída de ouro, a Autoridade\n",
    "Monetária deveria reduzir os ativos domésticos (moeda)\n",
    "(equivalente a trocar haveres não monetários por haveres\n",
    "monetários do público, isto é, vender títulos no mercado).\n"
   ]
  },
  {
   "cell_type": "markdown",
   "metadata": {
    "slideshow": {
     "slide_type": "fragment"
    }
   },
   "source": [
    "Com entrada de ouro, e aumento dos ativos estrangeiros, a\n",
    "Autoridade Monetária deveria aumentar os ativos domésticos\n",
    "(moeda) (equivalente a trocar haveres monetários por\n",
    "haveres não monetários do público, isto é, comprar títulos no mercado)."
   ]
  },
  {
   "cell_type": "markdown",
   "metadata": {
    "slideshow": {
     "slide_type": "fragment"
    }
   },
   "source": [
    "Uma ação oposta da AM nos dois casos, não-simétrica,\n",
    "constituiria esterilização – p. ex. reduzindo ativos domésticos\n",
    "quando houvesse aumento da entrada de ouro."
   ]
  },
  {
   "cell_type": "markdown",
   "metadata": {
    "slideshow": {
     "slide_type": "slide"
    }
   },
   "source": [
    "## Modelo ampliado: como funciona?\n",
    "\n",
    "Um exemplo: se *um país incorresse em déficit* no balanço\n",
    "de pagamentos, então haveria:"
   ]
  },
  {
   "cell_type": "markdown",
   "metadata": {
    "slideshow": {
     "slide_type": "fragment"
    }
   },
   "source": [
    "i) saída de ouro $=$ com menos ouro (moeda) em\n",
    "circulação, preços domésticos cairiam;"
   ]
  },
  {
   "cell_type": "markdown",
   "metadata": {
    "slideshow": {
     "slide_type": "fragment"
    }
   },
   "source": [
    "ii) pelas **regras do jogo** do Padrão Ouro, a *AM aumentaria a taxa de\n",
    "redesconto/venderia títulos*, reforçando a redução da\n",
    "oferta monetária;"
   ]
  },
  {
   "cell_type": "markdown",
   "metadata": {
    "slideshow": {
     "slide_type": "fragment"
    }
   },
   "source": [
    "iii) paralelamente, o *país superavitário* receberia ouro e\n",
    "haveria aumento de preços resultante da maior circulação monetária;"
   ]
  },
  {
   "cell_type": "markdown",
   "metadata": {
    "slideshow": {
     "slide_type": "subslide"
    }
   },
   "source": [
    "iv) no *país superavitário*, pelas **regras do jogo** a AM\n",
    "diminuiria taxa de redesconto/compraria títulos,\n",
    "reforçando o aumento da oferta monetária;"
   ]
  },
  {
   "cell_type": "markdown",
   "metadata": {
    "slideshow": {
     "slide_type": "fragment"
    }
   },
   "source": [
    "v) no *país deficitário* haveria redução das $M$ e estímulo às\n",
    "$X$; e no *país superavitário*, aumento de $M$ e queda de $X$."
   ]
  },
  {
   "cell_type": "markdown",
   "metadata": {
    "slideshow": {
     "slide_type": "fragment"
    }
   },
   "source": [
    "vi) o ajuste operaria também via conta de capital. No *país\n",
    "deficitário*, por meio de aumento da taxa de juros,\n",
    "atraindo capital e reduzindo $I$, $C$ e $M$;"
   ]
  },
  {
   "cell_type": "markdown",
   "metadata": {
    "slideshow": {
     "slide_type": "fragment"
    }
   },
   "source": [
    "vii) No *país superavitário*, o ajuste seria por meio de\n",
    "redução da taxa de juros, provocando saída de capital e\n",
    "estimulando I, C e M."
   ]
  },
  {
   "cell_type": "markdown",
   "metadata": {
    "slideshow": {
     "slide_type": "slide"
    }
   },
   "source": [
    "Temos, portanto, o mesmo resultado visto no modelo\n",
    "simples de Hume, ou seja, o desequilíbrio externo seria\n",
    "corrigido automaticamente.\n"
   ]
  },
  {
   "cell_type": "markdown",
   "metadata": {
    "slideshow": {
     "slide_type": "fragment"
    }
   },
   "source": [
    "Mas esse mecanismo descreve adequadamente a história\n",
    "do Padrão Ouro clássico? Quais as condições para sua\n",
    "operação? "
   ]
  },
  {
   "cell_type": "markdown",
   "metadata": {
    "slideshow": {
     "slide_type": "fragment"
    }
   },
   "source": [
    "Responderemos essas perguntas na próxima aula."
   ]
  },
  {
   "cell_type": "markdown",
   "metadata": {
    "slideshow": {
     "slide_type": "slide"
    }
   },
   "source": [
    "## Questões\n",
    "\n",
    "- Suponha que a economia mundial seja formada pelos países\n",
    "A e B, sob o regime do Padrão Ouro. O país A sofre com um\n",
    "déficit comercial. O que aconteceria em A e B diante desse\n",
    "desequilíbrio, segundo o modelo simples de David Hume?\n",
    "\n",
    "- Agora inclua na pergunta anterior os mercados de capitais\n",
    "doméstico e internacional. Como seria o ajuste dos países A\n",
    "e B diante do desequilíbrio?\n",
    "\n",
    "- Explique o que são as “regras do jogo” do regime monetário\n",
    "sob o Padrão Ouro. Sob tais regras, qual seria o\n",
    "comportamento dos bancos centrais dos países A e B na\n",
    "pergunta anterior?"
   ]
  }
 ],
 "metadata": {
  "celltoolbar": "Slideshow",
  "kernelspec": {
   "display_name": "Python 3",
   "language": "python",
   "name": "python3"
  },
  "language_info": {
   "codemirror_mode": {
    "name": "ipython",
    "version": 3
   },
   "file_extension": ".py",
   "mimetype": "text/x-python",
   "name": "python",
   "nbconvert_exporter": "python",
   "pygments_lexer": "ipython3",
   "version": "3.7.3"
  }
 },
 "nbformat": 4,
 "nbformat_minor": 2
}
