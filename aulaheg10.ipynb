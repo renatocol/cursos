{
 "cells": [
  {
   "cell_type": "markdown",
   "metadata": {
    "nbpresent": {
     "id": "452305db-662c-4b4e-aa92-79d92fa4544d"
    },
    "slideshow": {
     "slide_type": "slide"
    }
   },
   "source": [
    "# <center>História Econômica Geral I - FEA-USP</center>\n",
    "\n",
    "## <center>Aula 10 - Revolução Industrial: Interpretações</center>\n",
    "\n",
    "### <center>Renato Perim Colistete</center>\n",
    "\n",
    "\n",
    "#### <center>2020</center>"
   ]
  },
  {
   "cell_type": "markdown",
   "metadata": {
    "nbpresent": {
     "id": "1fc7160f-beb4-4997-9c3f-0553e0592605"
    },
    "slideshow": {
     "slide_type": "slide"
    }
   },
   "source": [
    "## Objetivos\n",
    "\n",
    "Nesta aula começamos a tratar de um tema\n",
    "clássico da história econômica: a Revolução Industrial\n",
    "Britânica.\n",
    "\n",
    "O objetivo é apresentar definições\n",
    "básicas e algumas das principais interpretações (e\n",
    "divergências) sobre o tema.\n",
    "\n",
    "Começaremos com a origem do termo e depois\n",
    "passaremos para as abordagens clássicas e recentes sobre\n",
    "a Revolução Industrial."
   ]
  },
  {
   "cell_type": "markdown",
   "metadata": {
    "nbpresent": {
     "id": "1acbc207-c8bb-4376-a328-421bbf9520c4"
    },
    "slideshow": {
     "slide_type": "slide"
    }
   },
   "source": [
    "## Conceito\n",
    "\n",
    "O termo “Revolução Industrial” apareceu pela primeira vez nas\n",
    "descrições da sociedade inglesa por viajantes/observadores\n",
    "franceses na década de 1830, ou talvez mesmo antes."
   ]
  },
  {
   "cell_type": "markdown",
   "metadata": {
    "nbpresent": {
     "id": "f3dfbdf9-fe1d-4356-9ad0-df395911e6f3"
    },
    "slideshow": {
     "slide_type": "fragment"
    }
   },
   "source": [
    "O primeiro a utilizar o termo nos meios acadêmicos foi\n",
    "possivelmente Arnold Toynbee (1884)."
   ]
  },
  {
   "cell_type": "markdown",
   "metadata": {
    "nbpresent": {
     "id": "bb419a40-14ab-48cd-8328-1c62b7f7bd0a"
    },
    "slideshow": {
     "slide_type": "fragment"
    }
   },
   "source": [
    "O termo Revolução Industrial foi empregado por Toynbee para\n",
    "expressar mudanças amplas que transformaram o cenário\n",
    "econômico, social e político da Grã-Bretanha entre os anos\n",
    "1760 e 1830."
   ]
  },
  {
   "cell_type": "markdown",
   "metadata": {
    "nbpresent": {
     "id": "13c81a42-221c-45fd-bde2-343bbcc74678"
    },
    "slideshow": {
     "slide_type": "slide"
    }
   },
   "source": [
    "## Contemporâneos\n",
    "\n",
    "A amplitude e profundidade das transformações\n",
    "mencionadas por Toynbee já haviam sido notadas por\n",
    "contemporâneos."
   ]
  },
  {
   "cell_type": "markdown",
   "metadata": {
    "nbpresent": {
     "id": "69b2baa0-ed18-483e-8653-50f0e5c1d94f"
    },
    "slideshow": {
     "slide_type": "fragment"
    }
   },
   "source": [
    "[Robert Owen](https://en.wikipedia.org/wiki/Robert_Owen) (1771-1858), industrial, reformador social e\n",
    "socialista referiu-se ao:"
   ]
  },
  {
   "cell_type": "markdown",
   "metadata": {
    "nbpresent": {
     "id": "1674bcc2-8448-4b20-8203-e741d2f6048b"
    },
    "slideshow": {
     "slide_type": "fragment"
    }
   },
   "source": [
    "><center>\"rápido avanço dos arranjos e aperfeiçoamentos\n",
    "científicos, introduzidos (...) em todos os\n",
    "departamentos da indústria produtiva por todo o\n",
    "império\"</center>"
   ]
  },
  {
   "cell_type": "markdown",
   "metadata": {
    "nbpresent": {
     "id": "8b4f0472-cccb-4d13-abbd-187d93bc9309"
    },
    "slideshow": {
     "slide_type": "slide"
    }
   },
   "source": [
    "## Oferta e demanda\n",
    "\n",
    "E [James Hole](http://www.thoresby.org.uk/content/people/hole.php) (1820-1895), reformador social, observou que:"
   ]
  },
  {
   "cell_type": "markdown",
   "metadata": {
    "nbpresent": {
     "id": "794d2206-833d-419a-b3b9-b12875162c7e"
    },
    "slideshow": {
     "slide_type": "fragment"
    }
   },
   "source": [
    "><center>“[o] princípio da oferta e demanda estendeu-se das\n",
    "mercadorias para os homens. Esses últimos obtiveram\n",
    "mais liberdade, mas menos pão. Eles descobriram que\n",
    "saindo da servidão do Feudalismo entraram na do\n",
    "Capital; que a escravidão terminou em nome mas\n",
    "sobreviveu de fato”.</center>"
   ]
  },
  {
   "cell_type": "markdown",
   "metadata": {
    "slideshow": {
     "slide_type": "slide"
    }
   },
   "source": [
    "## Condições\n",
    "\n",
    "Mais conhecido ainda é o livro de [Friedrich Engels](https://en.wikipedia.org/wiki/Friedrich_Engels)\n",
    "(1820-1895), *[A Situação da Classe Trabalhadora na\n",
    "Inglaterra](https://en.wikipedia.org/wiki/The_Condition_of_the_Working_Class_in_England)*, de 1845."
   ]
  },
  {
   "cell_type": "markdown",
   "metadata": {
    "slideshow": {
     "slide_type": "fragment"
    }
   },
   "source": [
    "Engels descreveu as condições precárias de habitação, saúde, alimentação e trabalho da nova classe de\n",
    "trabalhadores industriais em Manchester."
   ]
  },
  {
   "cell_type": "markdown",
   "metadata": {
    "nbpresent": {
     "id": "cb99a5b9-10b5-4d5c-bb6c-23699c0c5b07"
    },
    "slideshow": {
     "slide_type": "fragment"
    }
   },
   "source": [
    "Para Engels, tais condições foram um resultado direto da máquina a vapor e da nova organização fabril na indústria têxtil."
   ]
  },
  {
   "cell_type": "markdown",
   "metadata": {
    "nbpresent": {
     "id": "1a43feb9-1cad-4162-a6ad-b16662fbb6a4"
    },
    "slideshow": {
     "slide_type": "slide"
    }
   },
   "source": [
    "## Visão clássica\n",
    "\n",
    "A visão clássica - mudanças econômicas radicais e consequências sociais profundas trazidas pela Revolução\n",
    "Industrial - foi compartilhada por autores de diferentes perspectivas políticas e ideológicas."
   ]
  },
  {
   "cell_type": "markdown",
   "metadata": {
    "nbpresent": {
     "id": "b7fa99c1-6023-4201-855d-d27ade6b5d84"
    },
    "slideshow": {
     "slide_type": "fragment"
    }
   },
   "source": [
    "[Sidney e Beatrice Webb](https://www.britannica.com/biography/Sidney-and-Beatrice-Webb) são um exemplo. Também\n",
    "reformadores sociais do final do século XIX e início do século XX, eles estudaram e escreveram sobre as condições sociais da industrialização. Os Webb foram fundadores da London School of Economics (1895)."
   ]
  },
  {
   "cell_type": "markdown",
   "metadata": {
    "nbpresent": {
     "id": "8dde182b-545e-464d-86aa-93633eb83d31"
    },
    "slideshow": {
     "slide_type": "slide"
    }
   },
   "source": [
    "## Grande indústria\n",
    "Outro exemplo de visão clássica é o de [Karl Marx](https://www.britannica.com/biography/Karl-Marx), em [O Capital](https://en.wikipedia.org/wiki/Capital:_Critique_of_Political_Economy).\n",
    "Por exemplo, nos capítulos 12 e 13, Marx analisa as mudanças\n",
    "trazidas pela Revolução Industrial na indústria. Segundo Marx, \n",
    "\n",
    "**<center>artesanato - manufatura - grande indústria**"
   ]
  },
  {
   "cell_type": "markdown",
   "metadata": {
    "nbpresent": {
     "id": "383dda45-dccb-4fde-a663-f4b4f94a501e"
    },
    "slideshow": {
     "slide_type": "fragment"
    }
   },
   "source": [
    "a) A *manufatura* é a\n",
    "reunião de artesãos em uma oficina, sob direção do capitalista.\n",
    "Período: séc. XVI-final do séc. XVIII."
   ]
  },
  {
   "cell_type": "markdown",
   "metadata": {
    "slideshow": {
     "slide_type": "fragment"
    }
   },
   "source": [
    "b) *Grande indústria*: a máquina determina o ritmo e as condições do processo de\n",
    "trabalho, revolucionando a produção. Período: final do séc.\n",
    "XVIII em diante = Revolução Industrial = Capitalismo moderno."
   ]
  },
  {
   "cell_type": "markdown",
   "metadata": {
    "slideshow": {
     "slide_type": "slide"
    }
   },
   "source": [
    "## Críticas\n",
    "\n",
    "A interpretação clássica da Revolução Industrial passou a ser\n",
    "contestada já nos anos 1920."
   ]
  },
  {
   "cell_type": "markdown",
   "metadata": {
    "slideshow": {
     "slide_type": "fragment"
    }
   },
   "source": [
    "O principal nome dessa então nova tendência historiográfica foi [John\n",
    "H. Clapham](http://www.hetwebsite.net/het/profiles/clapham.htm), em seu *Economic History of Modern Britain*,\n",
    "publicado entre 1926-1938 em 3 volumes."
   ]
  },
  {
   "cell_type": "markdown",
   "metadata": {
    "slideshow": {
     "slide_type": "fragment"
    }
   },
   "source": [
    "Com dados do Censo de 1851, Clapham argumentou que as\n",
    "transformações na indústria foram *graduais, localizadas e\n",
    "incompletas*."
   ]
  },
  {
   "cell_type": "markdown",
   "metadata": {
    "slideshow": {
     "slide_type": "slide"
    }
   },
   "source": [
    "## Indústria segundo Clapham\n",
    "\n",
    "Segundo Clapham, a maior parte da indústria britânica em\n",
    "meados do século XIX ainda era artesanal, com fontes de\n",
    "energia tradicionais e pequenas unidades produtivas."
   ]
  },
  {
   "cell_type": "markdown",
   "metadata": {
    "slideshow": {
     "slide_type": "fragment"
    }
   },
   "source": [
    "Ou seja, segundo Clapham, a imagem de grandes fábricas, com máquinas movidas a energia a vapor, repletas de mulheres e crianças trabalhando como operadoras e auxiliares, seria equivocada como retrato *geral* da indústria."
   ]
  },
  {
   "cell_type": "markdown",
   "metadata": {
    "slideshow": {
     "slide_type": "slide"
    }
   },
   "source": [
    "## Padrão de vida\n",
    "\n",
    "Ou seja, a fábrica seria, para Clapham, mais uma realidade específica de segmentos da indústria (principalmente a indústria têxtil algodoeira) do que um fenômeno generalizado da indústria britânica."
   ]
  },
  {
   "cell_type": "markdown",
   "metadata": {
    "slideshow": {
     "slide_type": "fragment"
    }
   },
   "source": [
    "Além disso, segundo o autor, embora alguns grupos de trabalhadores perdessem, o padrão de vida dos trabalhadores em geral teria aumentado ao longo da Revolução Industrial, ao contrário do que afirmava a visão clássica."
   ]
  },
  {
   "cell_type": "markdown",
   "metadata": {
    "slideshow": {
     "slide_type": "slide"
    }
   },
   "source": [
    "## Resgate da visão clássica\n",
    "\n",
    "Após a II Guerra Mundial autores como [T.S.\n",
    "Ashton](https://en.wikipedia.org/wiki/T._S._Ashton) em *A Revolução Industrial, 1760-1830* (1948) e [Peter Mathias](https://en.wikipedia.org/wiki/Peter_Mathias), em *The\n",
    "First Industrial Revolution* (1969), retomaram a concepção clássica da RI, enfatizando descontinuidades, mudanças e impactos profundos econômicos e sociais."
   ]
  },
  {
   "cell_type": "markdown",
   "metadata": {
    "slideshow": {
     "slide_type": "fragment"
    }
   },
   "source": [
    "Assim como os autores clássicos, Ashton e Mathias interpretaram a\n",
    "Revolução Industrial como um fenômeno abrangente, que\n",
    "não se limitava à indústria."
   ]
  },
  {
   "cell_type": "markdown",
   "metadata": {
    "slideshow": {
     "slide_type": "fragment"
    }
   },
   "source": [
    "Trabalhos nessa tradição mantiveram-se dominantes\n",
    "até a década de 1980, quando surgiram novas críticas à\n",
    "interpretação clássica."
   ]
  },
  {
   "cell_type": "markdown",
   "metadata": {
    "slideshow": {
     "slide_type": "slide"
    }
   },
   "source": [
    "## Revisionismo\n",
    "\n",
    "Os nomes associados a essa nova interpretação\n",
    "revisionista incluem Nick Harley, Jeffrey Williamson,\n",
    "Charles Feinstein e, em especial, [Nicholas Crafts](https://en.wikipedia.org/wiki/Nicholas_Crafts)."
   ]
  },
  {
   "cell_type": "markdown",
   "metadata": {
    "slideshow": {
     "slide_type": "fragment"
    }
   },
   "source": [
    "Em sucessivos trabalhos a partir do início dos anos\n",
    "1980, Crafts reavaliou as estimativas mais aceitas dos\n",
    "indicadores macroeconômicos da Inglaterra nos séculos\n",
    "XVIII e XIX, elaborados por Phyllis Deane e W. Cole, [*British Economic Growth, 1688-1959: Trends and Structure*\n",
    "(1962)](https://eh.net/book_reviews/british-economic-growth-1688-1959-trends-and-structure/)."
   ]
  },
  {
   "cell_type": "markdown",
   "metadata": {
    "slideshow": {
     "slide_type": "slide"
    }
   },
   "source": [
    "## Nick Crafts\n",
    "\n",
    "Crafts elaborou novos indicadores macro, a partir de uma\n",
    "amostra de ramos industriais e reestimativas da distribuição\n",
    "do valor adicionado entre setores, crescimento do produto\n",
    "industrial, ocupações, renda e índices de preços."
   ]
  },
  {
   "cell_type": "markdown",
   "metadata": {
    "slideshow": {
     "slide_type": "fragment"
    }
   },
   "source": [
    "Os resultados de Crafts: crescimento econômico britânico\n",
    "na época da Revolução Industrial teria sido lento, limitado a algumas poucas\n",
    "indústrias dinâmicas (sobretudo têxtil de algodão e ferro) e\n",
    "caracterizado por baixo crescimento global da\n",
    "produtividade."
   ]
  },
  {
   "cell_type": "markdown",
   "metadata": {
    "slideshow": {
     "slide_type": "fragment"
    }
   },
   "source": [
    "Ver a tabela a seguir."
   ]
  },
  {
   "cell_type": "markdown",
   "metadata": {
    "slideshow": {
     "slide_type": "subslide"
    }
   },
   "source": [
    "## <center>Deane and Cole *versus* Crafts</center>\n",
    "\n",
    "<center><img src=\"crafts_table.png\"></center>"
   ]
  },
  {
   "cell_type": "markdown",
   "metadata": {
    "slideshow": {
     "slide_type": "slide"
    }
   },
   "source": [
    "## Taxas de crescimento\n",
    "\n",
    "Apesar de aparentemente pequenas, as diferenças entre\n",
    "as estimativas são substanciais."
   ]
  },
  {
   "cell_type": "markdown",
   "metadata": {
    "slideshow": {
     "slide_type": "fragment"
    }
   },
   "source": [
    "Regra prática: a taxa anual composta de crescimento $r$ de\n",
    "uma série, multiplicada pelo tempo necessário $n$ para que\n",
    "essa série dobre, é aproximadamente igual a 70."
   ]
  },
  {
   "cell_type": "markdown",
   "metadata": {
    "slideshow": {
     "slide_type": "fragment"
    }
   },
   "source": [
    "Ou seja, $r. n=$ 70. Se $r$ é conhecido, então é possível\n",
    "obter $n$ por meio de $n = \\frac{70}{r}$."
   ]
  },
  {
   "cell_type": "markdown",
   "metadata": {
    "slideshow": {
     "slide_type": "slide"
    }
   },
   "source": [
    "## Crescimento\n",
    "\n",
    "Por exemplo, com as taxas de Deane & Cole para\n",
    "1780-1801, seriam necessários 65 anos ($n = \\frac{70}{1,08}$) para\n",
    "que o produto *per capita* da Grã-Bretanha dobrasse de\n",
    "tamanho."
   ]
  },
  {
   "cell_type": "markdown",
   "metadata": {
    "slideshow": {
     "slide_type": "fragment"
    }
   },
   "source": [
    "Já pelas estimativas de Crafts, seriam necessários 200\n",
    "anos ($n = \\frac{70}{0.35}$) para que o produto *per capita* britânico\n",
    "dobrasse."
   ]
  },
  {
   "cell_type": "markdown",
   "metadata": {
    "slideshow": {
     "slide_type": "fragment"
    }
   },
   "source": [
    "Ou seja, a revisão de Crafts implica um crescimento\n",
    "econômico muito menor da Grã-Bretanha durante o auge\n",
    "de sua Revolução Industrial, em relação à estimativa de\n",
    "Deane & Cole."
   ]
  },
  {
   "cell_type": "markdown",
   "metadata": {
    "slideshow": {
     "slide_type": "slide"
    }
   },
   "source": [
    "## Críticas\n",
    "\n",
    "Surgiram dois tipos de respostas críticas à revisão de Crafts e\n",
    "outros:"
   ]
  },
  {
   "cell_type": "markdown",
   "metadata": {
    "slideshow": {
     "slide_type": "fragment"
    }
   },
   "source": [
    "i) o primeiro tem sido o de reexaminar técnicas e\n",
    "estimativas adotadas, reformular dados originais ou\n",
    "adicionar novas fontes, com objetivo de elaborar novos\n",
    "indicadores;"
   ]
  },
  {
   "cell_type": "markdown",
   "metadata": {
    "slideshow": {
     "slide_type": "fragment"
    }
   },
   "source": [
    "ii) o segundo questiona ou rejeita a possibilidade da\n",
    "abordagem macroeconômica captar o conjunto de\n",
    "mudanças da Revolução Industrial."
   ]
  },
  {
   "cell_type": "markdown",
   "metadata": {
    "slideshow": {
     "slide_type": "slide"
    }
   },
   "source": [
    "## Críticas\n",
    "\n",
    "Maxine Berg e Pat Hudson (1992) argumentam, p.ex., que a\n",
    "precariedade dos dados compromete irremediavelmente\n",
    "a abordagem macroeconômica da Revolução Industrial como método de\n",
    "análise."
   ]
  },
  {
   "cell_type": "markdown",
   "metadata": {
    "slideshow": {
     "slide_type": "fragment"
    }
   },
   "source": [
    "Além disso, a existência de aspectos qualitativos e não-\n",
    "mensuráveis fundamentais seria mais um motivo para\n",
    "rejeitar a interpretação gradualista, baseada em dados\n",
    "macroeconômicos."
   ]
  },
  {
   "cell_type": "markdown",
   "metadata": {
    "slideshow": {
     "slide_type": "fragment"
    }
   },
   "source": [
    "P.ex.: mudança tecnológica x aumento de produtividade.\n",
    "São simultâneos?"
   ]
  },
  {
   "cell_type": "markdown",
   "metadata": {
    "slideshow": {
     "slide_type": "slide"
    }
   },
   "source": [
    "## Mais críticas\n",
    "\n",
    "Haveria também erros de classificação das ocupações por\n",
    "Crafts que, segundo Berg & Hudson, afetam os cálculos\n",
    "da distribuição setorial (agricultura, manufatura e\n",
    "serviços) da PEA que são utilizados para estimar a\n",
    "estrutura da economia."
   ]
  },
  {
   "cell_type": "markdown",
   "metadata": {
    "slideshow": {
     "slide_type": "fragment"
    }
   },
   "source": [
    "Por exemplo, as margens de erro das estimativas de\n",
    "distribuição setorial da população em bases tão precárias\n",
    "seriam extremamente elevadas – entre - 40% e + 60% –,\n",
    "inviabilizando estimativas seguras do desempenho\n",
    "estritamente macro da Revolução Industrial."
   ]
  },
  {
   "cell_type": "markdown",
   "metadata": {
    "slideshow": {
     "slide_type": "slide"
    }
   },
   "source": [
    "## Questões\n",
    "\n",
    "Compare a interpretação gradualista de Clapham e as\n",
    "interpretações clássicas da RI (inclusive após a II Guerra\n",
    "Mundial). O que leva às conclusões distintas dos autores:\n",
    "evidências ou perspectiva teórica?\n",
    "\n",
    "Apresente os principais argumentos de Crafts sobre a Revolução\n",
    "Industrial. Como a análise dos agregados macroeconômicos é\n",
    "utilizada para revisar as interpretações clássicas da RI?\n",
    "\n",
    "Maxine Berg e Pat Hudson questionam os resultados da\n",
    "interpretação de Crafts levantando dúvidas sobre os dados e\n",
    "estimativas utilizados, além da validade da análise estritamente\n",
    "macroeconômica da RI. Comente essas críticas e avalie se são\n",
    "consistentes ou não."
   ]
  }
 ],
 "metadata": {
  "celltoolbar": "Slideshow",
  "kernelspec": {
   "display_name": "Python 3",
   "language": "python",
   "name": "python3"
  },
  "language_info": {
   "codemirror_mode": {
    "name": "ipython",
    "version": 3
   },
   "file_extension": ".py",
   "mimetype": "text/x-python",
   "name": "python",
   "nbconvert_exporter": "python",
   "pygments_lexer": "ipython3",
   "version": "3.6.10"
  },
  "toc": {
   "base_numbering": 1,
   "nav_menu": {},
   "number_sections": false,
   "sideBar": true,
   "skip_h1_title": false,
   "title_cell": "Table of Contents",
   "title_sidebar": "Contents",
   "toc_cell": false,
   "toc_position": {},
   "toc_section_display": true,
   "toc_window_display": false
  }
 },
 "nbformat": 4,
 "nbformat_minor": 2
}
