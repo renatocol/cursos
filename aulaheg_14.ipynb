{
 "cells": [
  {
   "cell_type": "markdown",
   "metadata": {
    "nbpresent": {
     "id": "452305db-662c-4b4e-aa92-79d92fa4544d"
    },
    "slideshow": {
     "slide_type": "slide"
    }
   },
   "source": [
    "# <center>História Econômica Geral I - FEA-USP</center>\n",
    "\n",
    "## <center>Aula 14 - Por que Inglaterra?</center>\n",
    "\n",
    "### <center>Renato Perim Colistete</center>\n",
    "\n",
    "\n",
    "#### <center>2021</center>"
   ]
  },
  {
   "cell_type": "markdown",
   "metadata": {
    "nbpresent": {
     "id": "1fc7160f-beb4-4997-9c3f-0553e0592605"
    },
    "slideshow": {
     "slide_type": "slide"
    }
   },
   "source": [
    "## Objetivos\n",
    "\n",
    "Para encerrar o tópico sobre a Revolução Industrial,\n",
    "voltaremos à pergunta: por que Inglaterra?\n",
    "\n",
    "Vamos retornar à classificação dos principais fatores\n",
    "responsáveis pelo desenvolvimento tecnológico vistos pelo ângulo\n",
    "da oferta e demanda.\n",
    "\n",
    "E depois veremos uma resposta à pergunta anterior\n",
    "baseada na demanda, via preços dos fatores e da energia."
   ]
  },
  {
   "cell_type": "markdown",
   "metadata": {
    "nbpresent": {
     "id": "1acbc207-c8bb-4376-a328-421bbf9520c4"
    },
    "slideshow": {
     "slide_type": "slide"
    }
   },
   "source": [
    "## Oferta e demanda\n",
    "\n",
    "Como vimos antes, entre as abordagens que enfatizam a tecnologia como determinante da Revolução Industrial, podemos dividir as interpretações em dois tipos: as que enfatizam a oferta de inovações e as que privilegiam a demanda de inovações."
   ]
  },
  {
   "cell_type": "markdown",
   "metadata": {
    "nbpresent": {
     "id": "f3dfbdf9-fe1d-4356-9ad0-df395911e6f3"
    },
    "slideshow": {
     "slide_type": "fragment"
    }
   },
   "source": [
    "Pelo lado da oferta, os autores argumentam que o elevado nível de\n",
    "alfabetização, a cultura científica e a atividade inventiva\n",
    "determinaram a primazia da Inglaterra."
   ]
  },
  {
   "cell_type": "markdown",
   "metadata": {
    "slideshow": {
     "slide_type": "fragment"
    }
   },
   "source": [
    "Já pelo lado da demanda, uma outra hipótese sustenta que os preços dos fatores (trabalho e capital) e dos insumos (carvão) foram os fatores mais decisivos para explicar a excepcionalidade da Inglaterra. Vejamos este argumento a seguir (Allen)."
   ]
  },
  {
   "cell_type": "markdown",
   "metadata": {
    "nbpresent": {
     "id": "13c81a42-221c-45fd-bde2-343bbcc74678"
    },
    "slideshow": {
     "slide_type": "slide"
    }
   },
   "source": [
    "## Preços relativos\n",
    "\n",
    "Como os preços dos fatores afetaram a demanda por\n",
    "tecnologia?"
   ]
  },
  {
   "cell_type": "markdown",
   "metadata": {
    "nbpresent": {
     "id": "69b2baa0-ed18-483e-8653-50f0e5c1d94f"
    },
    "slideshow": {
     "slide_type": "fragment"
    }
   },
   "source": [
    "Os altos salários, de um lado, e os baixos preços do carvão, por outro, teriam constituído um grande incentivo\n",
    "para a *substituição de trabalho por capital e energia*."
   ]
  },
  {
   "cell_type": "markdown",
   "metadata": {
    "nbpresent": {
     "id": "1674bcc2-8448-4b20-8203-e741d2f6048b"
    },
    "slideshow": {
     "slide_type": "fragment"
    }
   },
   "source": [
    "O resultado apareceu na forma de soluções\n",
    "tecnológicas intensivas em capital e energia, gerando\n",
    "grande impacto sobre a produtividade. Vejamos melhor\n",
    "a seguir."
   ]
  },
  {
   "cell_type": "markdown",
   "metadata": {
    "nbpresent": {
     "id": "8b4f0472-cccb-4d13-abbd-187d93bc9309"
    },
    "slideshow": {
     "slide_type": "slide"
    }
   },
   "source": [
    "## Capital humano\n",
    "\n",
    "Nesse argumento presume-se também um efeito pelo lado da oferta. Salários mais altos estariam associados a maior alfabetização e habilidades (*skills*) = capital humano. "
   ]
  },
  {
   "cell_type": "markdown",
   "metadata": {
    "nbpresent": {
     "id": "794d2206-833d-419a-b3b9-b12875162c7e"
    },
    "slideshow": {
     "slide_type": "fragment"
    }
   },
   "source": [
    "A atividade inventiva (definir conceito) e as inovações, desta forma, teriam\n",
    "sido diretamente induzidas pelo aumento do capital\n",
    "humano."
   ]
  },
  {
   "cell_type": "markdown",
   "metadata": {
    "slideshow": {
     "slide_type": "fragment"
    }
   },
   "source": [
    "Mesmo assim, segundo o argumento, esse fator *não* diferenciaria a Inglaterra de outros países avançados da Europa."
   ]
  },
  {
   "cell_type": "markdown",
   "metadata": {
    "slideshow": {
     "slide_type": "slide"
    }
   },
   "source": [
    "## Demanda de trabalho qualificado\n",
    "\n",
    "Há outro mecanismo adicional e complementar: como visto, o preço mais elevado do trabalho levou a uma produção industrial mais intensiva em capital, o que era equivalente a uso mais intensivo de tecnologia."
   ]
  },
  {
   "cell_type": "markdown",
   "metadata": {
    "slideshow": {
     "slide_type": "fragment"
    }
   },
   "source": [
    "O maior emprego de tecnologia, por sua vez, aumentava a demanda por trabalho qualificado, em um efeito recíproco entre preço do trabalho <-> tecnologia <-> demanda de trabalho qualificado."
   ]
  },
  {
   "cell_type": "markdown",
   "metadata": {
    "slideshow": {
     "slide_type": "fragment"
    }
   },
   "source": [
    "Em outras palavras, a trajetória tecnológica da industrialização britânica reforçava a demanda por trabalho qualificado, mesmo com este possuindo um preço relativamente elevado."
   ]
  },
  {
   "cell_type": "markdown",
   "metadata": {
    "nbpresent": {
     "id": "1a43feb9-1cad-4162-a6ad-b16662fbb6a4"
    },
    "slideshow": {
     "slide_type": "slide"
    }
   },
   "source": [
    "## Salário e capital\n",
    "\n",
    "Resumindo então: o *primeiro* efeito relevante pelo lado da demanda teria se dado via\n",
    "*salários*. A partir de meados do século XVII, os salários cresceram relativamente mais do que o preço do capital na Inglaterra. Uma causa central: urbanização e alta demanda por produção e trabalho agrícola."
   ]
  },
  {
   "cell_type": "markdown",
   "metadata": {
    "slideshow": {
     "slide_type": "fragment"
    }
   },
   "source": [
    "Conforme o trabalho se tornava relativamente mais escasso e caro do que o capital, houve incentivo para investir-se em processos produtivos intensivos em capital. Como medir?"
   ]
  },
  {
   "cell_type": "markdown",
   "metadata": {
    "slideshow": {
     "slide_type": "fragment"
    }
   },
   "source": [
    "Preço do capital = média dos preços de ferro, metais não-ferrosos, tijolo e madeira multiplicada por uma taxa de juros mais a depreciação estimada. Salário =\n",
    "trabalhadores da construção civil."
   ]
  },
  {
   "cell_type": "markdown",
   "metadata": {
    "slideshow": {
     "slide_type": "subslide"
    }
   },
   "source": [
    "#### <center>Razão salários/preço do capital</center>\n",
    "\n",
    "<center><img src=\"sal_pre.jpeg\" width=\"600\"></center>"
   ]
  },
  {
   "cell_type": "markdown",
   "metadata": {
    "nbpresent": {
     "id": "8dde182b-545e-464d-86aa-93633eb83d31"
    },
    "slideshow": {
     "slide_type": "slide"
    }
   },
   "source": [
    "## Razão salário/preço de energia\n",
    "\n",
    "O *segundo* efeito pelo lado da demanda teria se dado via *preço de energia*. A abundância e o baixo preço do carvão mineral na Inglaterra favoreceram o seu uso intensivo:"
   ]
  },
  {
   "cell_type": "markdown",
   "metadata": {
    "slideshow": {
     "slide_type": "subslide"
    }
   },
   "source": [
    "#### <center>Razão salários/preço da energia</center>\n",
    "\n",
    "<center><img src=\"sal_ener.jpeg\" width=\"700\" ></center>"
   ]
  },
  {
   "cell_type": "markdown",
   "metadata": {
    "nbpresent": {
     "id": "383dda45-dccb-4fde-a663-f4b4f94a501e"
    },
    "slideshow": {
     "slide_type": "slide"
    }
   },
   "source": [
    "## Efeito sobre produtividade\n",
    "\n",
    "Diante de um nível de salário elevado, outra alternativa (em vez de aumento da relação K/L) seria elevar a produtividade de L e reduzir o custo unitário do trabalho (= salário/produtividade de L). "
   ]
  },
  {
   "cell_type": "markdown",
   "metadata": {
    "slideshow": {
     "slide_type": "fragment"
    }
   },
   "source": [
    "Mas assume-se que esse efeito – mesmo que tenha ocorrido – não foi suficiente para impedir o aumento da intensidade de K."
   ]
  },
  {
   "cell_type": "markdown",
   "metadata": {
    "slideshow": {
     "slide_type": "fragment"
    }
   },
   "source": [
    "Assim, dados os preços dos fatores (K e L), houve\n",
    "incentivos para aumento da relação K/L, elevando da\n",
    "mesma forma a razão K/produto."
   ]
  },
  {
   "cell_type": "markdown",
   "metadata": {
    "slideshow": {
     "slide_type": "subslide"
    }
   },
   "source": [
    "Assim, o aumento de produtividade (produto/K e produto/L)\n",
    "foi resultado das inovações tecnológicas radicais e incrementais que marcaram a Revolução Industrial britânica."
   ]
  },
  {
   "cell_type": "markdown",
   "metadata": {
    "slideshow": {
     "slide_type": "fragment"
    }
   },
   "source": [
    "Resumidamente: a dotação particular de fatores (K, L e carvão) da Inglaterra e os preços relativos resultantes da oferta relativa desses fatores teriam levado a uma trajetória de crescimento intensiva em tecnologia e produtividade, constituindo a causa determinante da Revolução Industrial."
   ]
  },
  {
   "cell_type": "markdown",
   "metadata": {
    "slideshow": {
     "slide_type": "slide"
    }
   },
   "source": [
    "### Questões\n",
    "\n",
    "Compare as abordagens que enfatizam oferta ou demanda\n",
    "para explicar o salto tecnológico na Inglaterra durante a\n",
    "Revolução Industrial (utilize também a aula anterior).\n",
    "\n",
    "Demonstre como a interação entre preços dos fatores e\n",
    "energia gerou incentivos para o desenvolvimento\n",
    "tecnológico. Seria um resultado inevitável? (compare com\n",
    "uma situação sem aumento da intensidade do K)\n",
    "\n",
    "De que forma a busca de soluções tecnológicas em uma\n",
    "economia de alto salários pode ter resultado em um\n",
    "aumento sustentado da produtividade?"
   ]
  }
 ],
 "metadata": {
  "celltoolbar": "Slideshow",
  "kernelspec": {
   "display_name": "Python 3",
   "language": "python",
   "name": "python3"
  },
  "language_info": {
   "codemirror_mode": {
    "name": "ipython",
    "version": 3
   },
   "file_extension": ".py",
   "mimetype": "text/x-python",
   "name": "python",
   "nbconvert_exporter": "python",
   "pygments_lexer": "ipython3",
   "version": "3.9.1"
  },
  "toc": {
   "base_numbering": 1,
   "nav_menu": {},
   "number_sections": false,
   "sideBar": true,
   "skip_h1_title": false,
   "title_cell": "Table of Contents",
   "title_sidebar": "Contents",
   "toc_cell": false,
   "toc_position": {},
   "toc_section_display": true,
   "toc_window_display": false
  }
 },
 "nbformat": 4,
 "nbformat_minor": 2
}
