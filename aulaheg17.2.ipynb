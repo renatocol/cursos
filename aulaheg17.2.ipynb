{
 "cells": [
  {
   "cell_type": "markdown",
   "metadata": {
    "nbpresent": {
     "id": "452305db-662c-4b4e-aa92-79d92fa4544d"
    },
    "slideshow": {
     "slide_type": "slide"
    }
   },
   "source": [
    "# <center>História Econômica Geral I - FEA-USP</center>\n",
    "\n",
    "## <center>Aula 17 - Padrão Ouro (parte 2)</center>\n",
    "\n",
    "### <center>Renato Perim Colistete</center>\n",
    "\n",
    "\n",
    "#### <center>2020</center>"
   ]
  },
  {
   "cell_type": "markdown",
   "metadata": {
    "nbpresent": {
     "id": "1fc7160f-beb4-4997-9c3f-0553e0592605"
    },
    "slideshow": {
     "slide_type": "slide"
    }
   },
   "source": [
    "## Objetivos\n",
    "\n",
    "Prosseguimos com a discussão do Padrão Ouro,\n",
    "inicialmente avaliando a adoção das “regras do jogo” no\n",
    "período pré-1914.\n",
    "\n",
    "A outra questão é saber quais foram as condições da\n",
    "estabilidade no período clássico do Padrão Ouro.\n",
    "\n",
    "Analisamos, por fim, as resistências e os problemas que\n",
    "afetaram a operação do Padrão Ouro no período."
   ]
  },
  {
   "cell_type": "markdown",
   "metadata": {
    "nbpresent": {
     "id": "13c81a42-221c-45fd-bde2-343bbcc74678"
    },
    "slideshow": {
     "slide_type": "slide"
    }
   },
   "source": [
    "## Regras do jogo\n",
    "\n",
    "Como vimos antes, de acordo com a tese das **regras do jogo** no\n",
    "Padrão Ouro, a Autoridade Monetária deveria garantir a simetria\n",
    "entre fluxos de ouro (e capital) e ativos domésticos de um país."
   ]
  },
  {
   "cell_type": "markdown",
   "metadata": {
    "nbpresent": {
     "id": "69b2baa0-ed18-483e-8653-50f0e5c1d94f"
    },
    "slideshow": {
     "slide_type": "fragment"
    }
   },
   "source": [
    "Será que o comportamento efetivo dos bancos centrais\n",
    "entre 1870-1914 seguiu o previsto pelas regras do jogo?"
   ]
  },
  {
   "cell_type": "markdown",
   "metadata": {
    "nbpresent": {
     "id": "1674bcc2-8448-4b20-8203-e741d2f6048b"
    },
    "slideshow": {
     "slide_type": "fragment"
    }
   },
   "source": [
    "Em 1944, [Ragnar Nurkse](https://en.wikipedia.org/wiki/Ragnar_Nurkse) analisou os anos do Entre-Guerras e *não constatou* tal simetria; o mesmo resultado foi observado com relação ao Padrão Ouro clássico. Veja o teste a seguir."
   ]
  },
  {
   "cell_type": "markdown",
   "metadata": {
    "slideshow": {
     "slide_type": "subslide"
    }
   },
   "source": [
    "#### <center>Variações anuais em ativos internacionais e domésticos da AM (% mesma direção)</center>\n",
    "\n",
    "<center><img src=\"nurkse.png\" width=900></center>"
   ]
  },
  {
   "cell_type": "markdown",
   "metadata": {
    "nbpresent": {
     "id": "8b4f0472-cccb-4d13-abbd-187d93bc9309"
    },
    "slideshow": {
     "slide_type": "slide"
    }
   },
   "source": [
    "## Esterilização\n",
    "\n",
    "Na tabela anterior vemos que a simetria entre ativos\n",
    "internacionais e domésticos *não* foi dominante nos dois\n",
    "períodos, ou seja, as políticas de *esterilização*\n",
    "predominaram."
   ]
  },
  {
   "cell_type": "markdown",
   "metadata": {
    "nbpresent": {
     "id": "794d2206-833d-419a-b3b9-b12875162c7e"
    },
    "slideshow": {
     "slide_type": "fragment"
    }
   },
   "source": [
    "A Grã-Bretanha foi a que mais seguiu as regras do jogo,\n",
    "mas mesmo assim somente em cerca de 50% dos casos\n",
    "no período clássico."
   ]
  },
  {
   "cell_type": "markdown",
   "metadata": {
    "slideshow": {
     "slide_type": "fragment"
    }
   },
   "source": [
    "Outros Bancos Centrais demonstraram uma adesão ainda menor às\n",
    "regras do jogo, como por exemplo no caso da França\n",
    "(26%)."
   ]
  },
  {
   "cell_type": "markdown",
   "metadata": {
    "slideshow": {
     "slide_type": "slide"
    }
   },
   "source": [
    "## Causas da assimetria\n",
    "\n",
    "Os dados anteriores sugerem que outros fatores além da\n",
    "situação do balanço de pagamentos influenciaram as\n",
    "políticas dos bancos centrais dos países."
   ]
  },
  {
   "cell_type": "markdown",
   "metadata": {
    "slideshow": {
     "slide_type": "fragment"
    }
   },
   "source": [
    "Possíveis fatores imediatos:"
   ]
  },
  {
   "cell_type": "markdown",
   "metadata": {
    "slideshow": {
     "slide_type": "fragment"
    }
   },
   "source": [
    "i) alguns bancos centrais eram privados (Inglaterra e\n",
    "França, p.ex.), de forma que afetariam ou perderiam\n",
    "clientes se elevassem suas taxas de juros como previsto\n",
    "na teoria;"
   ]
  },
  {
   "cell_type": "markdown",
   "metadata": {
    "slideshow": {
     "slide_type": "fragment"
    }
   },
   "source": [
    "ii) aumentos nas taxas de juros afetariam o nível de\n",
    "atividade econômica e o serviço das dívidas públicas."
   ]
  },
  {
   "cell_type": "markdown",
   "metadata": {
    "nbpresent": {
     "id": "1a43feb9-1cad-4162-a6ad-b16662fbb6a4"
    },
    "slideshow": {
     "slide_type": "slide"
    }
   },
   "source": [
    "## Bases da estabilidade\n",
    "\n",
    "Então voltemos à questão da aula anterior: como um sistema\n",
    "tão frágil na prática foi capaz de manter-se relativamente\n",
    "estável até a I Guerra Mundial?"
   ]
  },
  {
   "cell_type": "markdown",
   "metadata": {
    "slideshow": {
     "slide_type": "fragment"
    }
   },
   "source": [
    "Para Eichengreen (2000), a condição básica da estabilidade foi \n"
   ]
  },
  {
   "cell_type": "markdown",
   "metadata": {
    "slideshow": {
     "slide_type": "fragment"
    }
   },
   "source": [
    "\n",
    ">“a prioridade atribuída pelos governos à manutenção da conversibilidade da moeda em ouro”."
   ]
  },
  {
   "cell_type": "markdown",
   "metadata": {
    "slideshow": {
     "slide_type": "subslide"
    }
   },
   "source": [
    "A defesa das reservas em ouro e do regime de câmbio\n",
    "fixo foi definida como estratégia central da política\n",
    "econômica. "
   ]
  },
  {
   "cell_type": "markdown",
   "metadata": {
    "slideshow": {
     "slide_type": "fragment"
    }
   },
   "source": [
    "Esse compromisso garantiu a credibilidade e\n",
    "a sustentação do Padrão Ouro pelos bancos centrais."
   ]
  },
  {
   "cell_type": "markdown",
   "metadata": {
    "slideshow": {
     "slide_type": "slide"
    }
   },
   "source": [
    "## Requisitos\n",
    "\n",
    "Para que o compromisso por parte dos governos pudesse\n",
    "ser mantido, *três* condições foram necessárias por sua vez:"
   ]
  },
  {
   "cell_type": "markdown",
   "metadata": {
    "nbpresent": {
     "id": "8dde182b-545e-464d-86aa-93633eb83d31"
    },
    "slideshow": {
     "slide_type": "fragment"
    }
   },
   "source": [
    "i) isolamento dos bancos centrais de pressões sociais;"
   ]
  },
  {
   "cell_type": "markdown",
   "metadata": {
    "slideshow": {
     "slide_type": "fragment"
    }
   },
   "source": [
    "ii) baixo grau de organização e influência das\n",
    "organizações trabalhistas (sindicatos e partidos);"
   ]
  },
  {
   "cell_type": "markdown",
   "metadata": {
    "slideshow": {
     "slide_type": "fragment"
    }
   },
   "source": [
    "iii) ausência de teorias que estabelecessem uma relação\n",
    "direta entre defesa da conversibilidade e nível de\n",
    "atividade/emprego."
   ]
  },
  {
   "cell_type": "markdown",
   "metadata": {
    "slideshow": {
     "slide_type": "slide"
    }
   },
   "source": [
    "## Coordenação\n",
    "\n",
    "A coordenação entre bancos centrais foi a forma básica\n",
    "com que se expressou o compromisso com o Padrão\n",
    "Ouro."
   ]
  },
  {
   "cell_type": "markdown",
   "metadata": {
    "slideshow": {
     "slide_type": "fragment"
    }
   },
   "source": [
    "O Banco da Inglaterra atuou como “maestro da orquestra internacional”, por meio da política de taxa de juros e da coordenação da ação das autoridades monetárias\n",
    "como emprestadores de última instância."
   ]
  },
  {
   "cell_type": "markdown",
   "metadata": {
    "slideshow": {
     "slide_type": "fragment"
    }
   },
   "source": [
    "A cooperação entre bancos centrais foi vital, p.ex., na\n",
    "especulação contra a libra que se seguiu à crise do\n",
    "[Baring Bank](https://en.wikipedia.org/wiki/Baring_crisis) em 1890."
   ]
  },
  {
   "cell_type": "markdown",
   "metadata": {
    "slideshow": {
     "slide_type": "slide"
    }
   },
   "source": [
    "## Hegemonia inglesa\n",
    "\n",
    "Outro aspecto central para a estabilidade do Padrão Ouro\n",
    "foi o poder econômico da Inglaterra no período, apesar da\n",
    "emergência de novos competidores internacionais."
   ]
  },
  {
   "cell_type": "markdown",
   "metadata": {
    "slideshow": {
     "slide_type": "fragment"
    }
   },
   "source": [
    "As exportações de capital (saída de ouro) da Inglaterra eram\n",
    "compensadas pelas exportações de mercadorias (entrada de ouro), que\n",
    "atuavam assim como um mecanismo estabilizador do\n",
    "balanço de pagamentos."
   ]
  },
  {
   "cell_type": "markdown",
   "metadata": {
    "slideshow": {
     "slide_type": "fragment"
    }
   },
   "source": [
    "A estabilidade do balanço de pagamentos foi crucial para\n",
    "a atuação da Inglaterra enquanto país hegemônico no\n",
    "período clássico do Padrão Ouro."
   ]
  },
  {
   "cell_type": "markdown",
   "metadata": {
    "slideshow": {
     "slide_type": "slide"
    }
   },
   "source": [
    "## Meta dos bancos centrais\n",
    "\n",
    "Por que o isolamento dos bancos centrais de pressões\n",
    "sociais teria sido essencial para a estabilidade do\n",
    "sistema?"
   ]
  },
  {
   "cell_type": "markdown",
   "metadata": {
    "slideshow": {
     "slide_type": "fragment"
    }
   },
   "source": [
    "Os objetivos macroeconômicos básicos dos governos\n",
    "pré-1914 foram"
   ]
  },
  {
   "cell_type": "markdown",
   "metadata": {
    "slideshow": {
     "slide_type": "fragment"
    }
   },
   "source": [
    "a) no *plano externo*: manutenção da conversibilidade em\n",
    "ouro e da taxa de câmbio fixa;"
   ]
  },
  {
   "cell_type": "markdown",
   "metadata": {
    "slideshow": {
     "slide_type": "fragment"
    }
   },
   "source": [
    "b) no *plano doméstico*: baixas taxas de inflação,\n",
    "orçamento equilibrado (por que baixas taxa de inflação\n",
    "eram essenciais?)."
   ]
  },
  {
   "cell_type": "markdown",
   "metadata": {
    "slideshow": {
     "slide_type": "slide"
    }
   },
   "source": [
    "## Intervalo: taxa de câmbio real\n",
    "\n",
    "Taxa de câmbio real = $\\frac{EP^*}{P}$"
   ]
  },
  {
   "cell_type": "markdown",
   "metadata": {
    "slideshow": {
     "slide_type": "fragment"
    }
   },
   "source": [
    "Onde:"
   ]
  },
  {
   "cell_type": "markdown",
   "metadata": {
    "slideshow": {
     "slide_type": "fragment"
    }
   },
   "source": [
    "- $E$ = taxa de câmbio nominal ou o preço da moeda estrangeira em termos da moeda local;"
   ]
  },
  {
   "cell_type": "markdown",
   "metadata": {
    "slideshow": {
     "slide_type": "fragment"
    }
   },
   "source": [
    "- $P^*$ = nível de preços no exterior (país \"estrangeiro\");"
   ]
  },
  {
   "cell_type": "markdown",
   "metadata": {
    "slideshow": {
     "slide_type": "fragment"
    }
   },
   "source": [
    "- $P$ = nível de preços domésticos (país \"local\")."
   ]
  },
  {
   "cell_type": "markdown",
   "metadata": {
    "slideshow": {
     "slide_type": "subslide"
    }
   },
   "source": [
    "- $EP^*$, portanto, corresponde ao preço dos bens estrangeiros em moeda local."
   ]
  },
  {
   "cell_type": "markdown",
   "metadata": {
    "slideshow": {
     "slide_type": "subslide"
    }
   },
   "source": [
    "Exemplo: se a taxa de câmbio nominal Real/dólar for $E$ = R<span>$</span>4 e uma cesta de bens determinada custar nos dois países que usam essas moedas:\n",
    "\n",
    "$P^*$ = US<span>$</span>20 \n",
    "\n",
    "$P$ = R<span>$</span>80"
   ]
  },
  {
   "cell_type": "markdown",
   "metadata": {
    "slideshow": {
     "slide_type": "fragment"
    }
   },
   "source": [
    "A taxa de câmbio real será = $\\frac{4 x 20}{80}$ = $1$"
   ]
  },
  {
   "cell_type": "markdown",
   "metadata": {
    "slideshow": {
     "slide_type": "subslide"
    }
   },
   "source": [
    "Se, porém, os preços do país local subissem 10% ($P$ = R<span>$</span>88), \n",
    "\n",
    "mantidos os mesmos $E$ e $P^*$, qual o efeito sobre a taxa de câmbio real?"
   ]
  },
  {
   "cell_type": "markdown",
   "metadata": {
    "slideshow": {
     "slide_type": "fragment"
    }
   },
   "source": [
    "A nova taxa de câmbio real será = $\\frac{4 x 20}{88}$ = $0,91$."
   ]
  },
  {
   "cell_type": "markdown",
   "metadata": {
    "slideshow": {
     "slide_type": "fragment"
    }
   },
   "source": [
    "Menor portanto do que a taxa de câmbio real anterior. Em outras palavras, a moeda doméstica sofreu *apreciação real* em relação à moeda estrangeira."
   ]
  },
  {
   "cell_type": "markdown",
   "metadata": {
    "slideshow": {
     "slide_type": "subslide"
    }
   },
   "source": [
    "Qual o efeito esperado sobre as exportações da apreciação real da moeda local? Assume-se que o saldo líquido das exportações ($X - M$) é uma função positiva da taxa de câmbio real. "
   ]
  },
  {
   "cell_type": "markdown",
   "metadata": {
    "slideshow": {
     "slide_type": "fragment"
    }
   },
   "source": [
    "No exemplo, mantida a renda constante, a elevação dos preços domésticos produziria apreciação da moeda local (queda da taxa de câmbio real) relativamente à moeda estrangeira e *redução* das exportações do país local (pois produtos do país local ficaram mais caros para país estrangeiro)."
   ]
  },
  {
   "cell_type": "markdown",
   "metadata": {
    "slideshow": {
     "slide_type": "fragment"
    }
   },
   "source": [
    "As importações, por sua vez, *aumentariam* em resposta à apreciação real da moeda (pois produtos do país estrangeiro ficaram mais baratos para país local)."
   ]
  },
  {
   "cell_type": "markdown",
   "metadata": {
    "slideshow": {
     "slide_type": "slide"
    }
   },
   "source": [
    "## Equilíbrio\n",
    "\n",
    "Desta forma, a prioridade dada à conversibilidade e à taxa de câmbio fixa consistia em\n",
    "eleger o *equilíbrio externo* como meta principal, ficando o\n",
    "*equilíbrio interno* (produção, emprego) em segundo plano."
   ]
  },
  {
   "cell_type": "markdown",
   "metadata": {
    "slideshow": {
     "slide_type": "fragment"
    }
   },
   "source": [
    "Por exemplo, um país com déficit no balanço de pagamentos adotaria políticas que contrairiam a\n",
    "liquidez e elevariam os juros."
   ]
  },
  {
   "cell_type": "markdown",
   "metadata": {
    "slideshow": {
     "slide_type": "fragment"
    }
   },
   "source": [
    "O efeito provável seria a redução de investimentos,\n",
    "produção e emprego (*desequilíbrio interno*)."
   ]
  },
  {
   "cell_type": "markdown",
   "metadata": {
    "slideshow": {
     "slide_type": "slide"
    }
   },
   "source": [
    "## Novos objetivos\n",
    "\n",
    "Em condições de déficit e dificuldades no setor externo, o compromisso com o Padrão Ouro tinha um impacto negativo potencial: sobre produtores rurais, assalariados, empresas industriais e comerciais."
   ]
  },
  {
   "cell_type": "markdown",
   "metadata": {
    "slideshow": {
     "slide_type": "fragment"
    }
   },
   "source": [
    "Quando tais grupos sociais passaram a organizar-se em\n",
    "associações, sindicatos e partidos políticos, novos\n",
    "objetivos ganharam espaço nas políticas macroeconômicas."
   ]
  },
  {
   "cell_type": "markdown",
   "metadata": {
    "slideshow": {
     "slide_type": "fragment"
    }
   },
   "source": [
    "Novos objetivos: pleno emprego,\n",
    "assistência social, crédito a pequenos e médios\n",
    "produtores, infraestrutura."
   ]
  },
  {
   "cell_type": "markdown",
   "metadata": {
    "slideshow": {
     "slide_type": "subslide"
    }
   },
   "source": [
    "## Hegemonia\n",
    "\n",
    "No período pré-1914, a influência de partidos políticos e\n",
    "sindicatos de base operária, bem como de setores médios\n",
    "(produtores rurais, p.ex.), foi relevante, mas ainda\n",
    "limitada."
   ]
  },
  {
   "cell_type": "markdown",
   "metadata": {
    "slideshow": {
     "slide_type": "fragment"
    }
   },
   "source": [
    "Também neste período, a emergência de novos\n",
    "concorrentes (EUA e Alemanha) não chegou a colocar em xeque a hegemonia britânica nas relações financeiras internacionais."
   ]
  },
  {
   "cell_type": "markdown",
   "metadata": {
    "slideshow": {
     "slide_type": "fragment"
    }
   },
   "source": [
    "Essas duas situações, porém, mudariam radicalmente\n",
    "com a I Guerra Mundial, como veremos em outra aula."
   ]
  },
  {
   "cell_type": "markdown",
   "metadata": {
    "slideshow": {
     "slide_type": "slide"
    }
   },
   "source": [
    "## Questões\n",
    "\n",
    "Compare o funcionamento teórico das regras do jogo e os\n",
    "dados da política macro dos países sob o Padrão Ouro (ver\n",
    "tabela). Como se comportaram as variáveis monetárias?\n",
    "\n",
    "Quais foram as condições para que o compromisso com o\n",
    "Padrão Ouro fosse mantido pelos bancos centrais?\n",
    "Descreva e explique como tais condições operavam na\n",
    "prática.\n",
    "\n",
    "O que significa dizer que os bancos centrais elegeram como\n",
    "prioridade o equilíbrio externo em detrimento do equilíbrio\n",
    "interno? Dê exemplos e avalie suas consequências para o\n",
    "balanço do pagamentos e o nível de atividade econômica."
   ]
  }
 ],
 "metadata": {
  "celltoolbar": "Slideshow",
  "kernelspec": {
   "display_name": "Python 3",
   "language": "python",
   "name": "python3"
  },
  "language_info": {
   "codemirror_mode": {
    "name": "ipython",
    "version": 3
   },
   "file_extension": ".py",
   "mimetype": "text/x-python",
   "name": "python",
   "nbconvert_exporter": "python",
   "pygments_lexer": "ipython3",
   "version": "3.6.10"
  },
  "toc": {
   "base_numbering": 1,
   "nav_menu": {},
   "number_sections": false,
   "sideBar": true,
   "skip_h1_title": false,
   "title_cell": "Table of Contents",
   "title_sidebar": "Contents",
   "toc_cell": false,
   "toc_position": {},
   "toc_section_display": true,
   "toc_window_display": false
  }
 },
 "nbformat": 4,
 "nbformat_minor": 2
}
