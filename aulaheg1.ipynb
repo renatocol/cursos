{
 "cells": [
  {
   "cell_type": "markdown",
   "metadata": {
    "slideshow": {
     "slide_type": "slide"
    }
   },
   "source": [
    "# <center>História Econômica Geral I - FEA-USP</center>\n",
    "\n",
    "\n",
    "### <center>Renato Perim Colistete</center>\n",
    "\n",
    "\n",
    "#### <center>2021</center><br>\n",
    "\n",
    "<center>Contato via e-mail: rcolistete@usp.br<center><br>\n",
    "\n",
    "\n",
    "<center>Ver programa de curso e leituras em https://renatocolistete.blog/cursos/hegi/</center> \n",
    "\n",
    "\n"
   ]
  },
  {
   "cell_type": "markdown",
   "metadata": {
    "slideshow": {
     "slide_type": "slide"
    }
   },
   "source": [
    "# Proposta do curso\n",
    "\n",
    "Este curso apresenta uma introdução à história econômica internacional entre, aproximadamente, o século IX e o início do século XX. As aulas e leituras são distribuídas entre cinco períodos: a economia pré-industrial (antes de 1750), a Revolução Industrial Britânica (1750-1870), a expansão da industrialização (1870-1914), a I Guerra Mundial e a década de 1920 (1914-1929) e a Crise de 1929 e a Grande Depressão (1929-1939). \n",
    "\n",
    "O curso busca combinar o conhecimento dos eventos e dados mais importantes de cada período com o *uso de teorias e conceitos* aplicados aos fatos históricos. Da mesma maneira, o curso abrange questões estritamente econômicas, assim como fatores institucionais, sociais e políticos que condicionaram a história econômica do período estudado."
   ]
  },
  {
   "cell_type": "markdown",
   "metadata": {
    "slideshow": {
     "slide_type": "slide"
    }
   },
   "source": [
    "## Leituras e acompanhamento\n",
    "\n",
    "O curso é conduzido por meio de aulas expositivas, sendo *essencial* que os(as) alunos(as) as acompanhem com a leitura regular dos textos indicados no programa. As aulas *são obrigatórias* e servem como um espaço de discussão e um guia de leitura dos textos. \n",
    "\n",
    "Os trabalhos citados com asterisco \\(*) constituem o mínimo que deve ser lido para as aulas, enquanto os outros textos citados complementam ou aprofundam os assuntos discutidos. Dada a extensa bibliografia, recomenda-se enfaticamente que a leitura dos textos não seja deixada para a véspera das avaliações. \n",
    "\n",
    "Todos os textos obrigatórios (marcados com \\*) estão disponíveis para download diretamente no site do curso."
   ]
  },
  {
   "cell_type": "markdown",
   "metadata": {
    "slideshow": {
     "slide_type": "slide"
    }
   },
   "source": [
    "## Objetivos de aprendizagem\n",
    "\n",
    "Ao final do curso, o objetivo é que vocês tenham uma ampla compreensão das principais características da economia global durante o último milênio.\n",
    "\n",
    "Outro objetivo simultâneo: um primeiro exercício para ajudá-los(as) a refletir sobre a utilização\n",
    "de teorias econômicas e dados na análise do comércio, da tecnologia, das instituições e do crescimento\n",
    "econômico em um contexto histórico."
   ]
  },
  {
   "cell_type": "markdown",
   "metadata": {
    "slideshow": {
     "slide_type": "slide"
    }
   },
   "source": [
    "## Programa do curso"
   ]
  },
  {
   "cell_type": "markdown",
   "metadata": {
    "slideshow": {
     "slide_type": "fragment"
    }
   },
   "source": [
    "Aula 1 - Apresentação (hoje)"
   ]
  },
  {
   "cell_type": "markdown",
   "metadata": {
    "slideshow": {
     "slide_type": "fragment"
    }
   },
   "source": [
    "Aula 2 - O que é História Econômica?"
   ]
  },
  {
   "cell_type": "markdown",
   "metadata": {
    "slideshow": {
     "slide_type": "slide"
    }
   },
   "source": [
    "**Parte I – A economia pré-industrial (antes de 1750)**"
   ]
  },
  {
   "cell_type": "markdown",
   "metadata": {
    "slideshow": {
     "slide_type": "fragment"
    }
   },
   "source": [
    "Aula 3 - Teorias e interpretações"
   ]
  },
  {
   "cell_type": "markdown",
   "metadata": {
    "slideshow": {
     "slide_type": "fragment"
    }
   },
   "source": [
    "Aula 4 - A emergência e a expansão do império chinês"
   ]
  },
  {
   "cell_type": "markdown",
   "metadata": {
    "slideshow": {
     "slide_type": "fragment"
    }
   },
   "source": [
    "Aula 5 - A revolução econômica medieval na China "
   ]
  },
  {
   "cell_type": "markdown",
   "metadata": {
    "slideshow": {
     "slide_type": "fragment"
    }
   },
   "source": [
    "Aula 6 - O atraso chinês e a Grande Divergência "
   ]
  },
  {
   "cell_type": "markdown",
   "metadata": {
    "slideshow": {
     "slide_type": "subslide"
    }
   },
   "source": [
    "Aula 7 - Crescimento econômico na Europa medieval"
   ]
  },
  {
   "cell_type": "markdown",
   "metadata": {
    "slideshow": {
     "slide_type": "fragment"
    }
   },
   "source": [
    "Aula 8 - População, instituições e classes sociais na Idade Média"
   ]
  },
  {
   "cell_type": "markdown",
   "metadata": {
    "slideshow": {
     "slide_type": "fragment"
    }
   },
   "source": [
    "Aula 9 - Divergências no crescimento econômico nas Américas"
   ]
  },
  {
   "cell_type": "markdown",
   "metadata": {
    "slideshow": {
     "slide_type": "slide"
    }
   },
   "source": [
    "**Parte  II – A Revolução Industrial Britânica (1750-1850)**"
   ]
  },
  {
   "cell_type": "markdown",
   "metadata": {
    "slideshow": {
     "slide_type": "fragment"
    }
   },
   "source": [
    "Aula 10 - Abordagens e interpretações"
   ]
  },
  {
   "cell_type": "markdown",
   "metadata": {
    "slideshow": {
     "slide_type": "fragment"
    }
   },
   "source": [
    "Aula 11 - Agricultura"
   ]
  },
  {
   "cell_type": "markdown",
   "metadata": {
    "slideshow": {
     "slide_type": "fragment"
    }
   },
   "source": [
    "Aula 12 - Indústria e tecnologia"
   ]
  },
  {
   "cell_type": "markdown",
   "metadata": {
    "slideshow": {
     "slide_type": "subslide"
    }
   },
   "source": [
    "Aula 13 - Trabalho, desigualdade e padrão de vida "
   ]
  },
  {
   "cell_type": "markdown",
   "metadata": {
    "slideshow": {
     "slide_type": "fragment"
    }
   },
   "source": [
    "Aula 14. Por que Inglaterra? "
   ]
  },
  {
   "cell_type": "markdown",
   "metadata": {
    "slideshow": {
     "slide_type": "fragment"
    }
   },
   "source": [
    "*1a Prova*"
   ]
  },
  {
   "cell_type": "markdown",
   "metadata": {
    "slideshow": {
     "slide_type": "slide"
    }
   },
   "source": [
    "**Parte  III – Atraso relativo e expansão da industrialização (1870-1914)**"
   ]
  },
  {
   "cell_type": "markdown",
   "metadata": {
    "slideshow": {
     "slide_type": "fragment"
    }
   },
   "source": [
    "Aula 15. Atraso relativo e industrialização"
   ]
  },
  {
   "cell_type": "markdown",
   "metadata": {
    "slideshow": {
     "slide_type": "fragment"
    }
   },
   "source": [
    "Aula 16 - Crescimento econômico e tecnologia"
   ]
  },
  {
   "cell_type": "markdown",
   "metadata": {
    "slideshow": {
     "slide_type": "fragment"
    }
   },
   "source": [
    "Aula 17 - Padrão Ouro"
   ]
  },
  {
   "cell_type": "markdown",
   "metadata": {
    "slideshow": {
     "slide_type": "slide"
    }
   },
   "source": [
    "**Parte  IV – A I Guerra Mundial e a década de 1920 (1914-1929)**"
   ]
  },
  {
   "cell_type": "markdown",
   "metadata": {
    "slideshow": {
     "slide_type": "fragment"
    }
   },
   "source": [
    "Aula 18 - Os efeitos econômicos da I Guerra"
   ]
  },
  {
   "cell_type": "markdown",
   "metadata": {
    "slideshow": {
     "slide_type": "fragment"
    }
   },
   "source": [
    "Aula 19 - Hiperinflação, estabilização e retorno ao Padrão-Ouro"
   ]
  },
  {
   "cell_type": "markdown",
   "metadata": {
    "slideshow": {
     "slide_type": "fragment"
    }
   },
   "source": [
    "Aula 20 - Revolução Russa e a economia soviética"
   ]
  },
  {
   "cell_type": "markdown",
   "metadata": {
    "slideshow": {
     "slide_type": "slide"
    }
   },
   "source": [
    "**Parte  V – A Crise de 1929 e a Grande Depressão (1929-1939)**"
   ]
  },
  {
   "cell_type": "markdown",
   "metadata": {
    "slideshow": {
     "slide_type": "fragment"
    }
   },
   "source": [
    "Aula 21 - Origens e efeitos da Crise de 1929"
   ]
  },
  {
   "cell_type": "markdown",
   "metadata": {
    "slideshow": {
     "slide_type": "fragment"
    }
   },
   "source": [
    "Aula 22 - A Grande Depressão"
   ]
  },
  {
   "cell_type": "markdown",
   "metadata": {
    "slideshow": {
     "slide_type": "fragment"
    }
   },
   "source": [
    "*2a Prova e Reaval*"
   ]
  },
  {
   "cell_type": "markdown",
   "metadata": {
    "slideshow": {
     "slide_type": "slide"
    }
   },
   "source": [
    "## Avaliação\n",
    "\n",
    "O desempenho de cada aluna(o) será avaliado por meio de 2 provas individuais, uma ao final da Parte II e outra ao término da Parte V do programa. \n",
    "\n",
    "A nota final será obtida por média aritmética das notas das duas provas. A nota da reaval será calculada pela média da nota final e da prova de recuperação."
   ]
  }
 ],
 "metadata": {
  "celltoolbar": "Slideshow",
  "kernelspec": {
   "display_name": "Python 3",
   "language": "python",
   "name": "python3"
  },
  "language_info": {
   "codemirror_mode": {
    "name": "ipython",
    "version": 3
   },
   "file_extension": ".py",
   "mimetype": "text/x-python",
   "name": "python",
   "nbconvert_exporter": "python",
   "pygments_lexer": "ipython3",
   "version": "3.9.1"
  },
  "toc": {
   "base_numbering": 1,
   "nav_menu": {},
   "number_sections": false,
   "sideBar": true,
   "skip_h1_title": false,
   "title_cell": "Table of Contents",
   "title_sidebar": "Contents",
   "toc_cell": false,
   "toc_position": {
    "height": "calc(100% - 180px)",
    "left": "10px",
    "top": "150px",
    "width": "288px"
   },
   "toc_section_display": true,
   "toc_window_display": false
  }
 },
 "nbformat": 4,
 "nbformat_minor": 2
}
